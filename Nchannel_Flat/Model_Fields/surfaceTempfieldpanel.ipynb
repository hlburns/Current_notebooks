{
 "metadata": {
  "name": "",
  "signature": "sha256:d826ea199a555bb8a05a13a65bf56cbd4d837543e428ba2004fd0081801aadcf"
 },
 "nbformat": 3,
 "nbformat_minor": 0,
 "worksheets": [
  {
   "cells": [
    {
     "cell_type": "code",
     "collapsed": false,
     "input": [
      "from scipy.io import netcdf\n",
      "import numpy as np\n",
      "import matplotlib.pyplot as plt\n",
      "import os\n",
      "import csv\n",
      "import sys\n",
      "import glob\n",
      "import matplotlib.gridspec as gridspec"
     ],
     "language": "python",
     "metadata": {},
     "outputs": []
    },
    {
     "cell_type": "code",
     "collapsed": false,
     "input": [
      "def find_nearest(array,value):\n",
      "    idx = (np.abs(array-value)).argmin()\n",
      "    return array[idx]"
     ],
     "language": "python",
     "metadata": {},
     "outputs": []
    },
    {
     "cell_type": "code",
     "collapsed": false,
     "input": [
      "Year='240-260all.nc'"
     ],
     "language": "python",
     "metadata": {},
     "outputs": []
    },
    {
     "cell_type": "code",
     "collapsed": false,
     "input": [
      "tau=['3','10','30','100','300','1000','3000','10000','Closed']\n",
      "x='/noc/msm/scratch/students/hb1g13/Mobilis'"
     ],
     "language": "python",
     "metadata": {},
     "outputs": []
    },
    {
     "cell_type": "code",
     "collapsed": false,
     "input": [
      "check=0\n",
      "runs=[]\n",
      "for i in range(len(tau)):\n",
      "    flist=x+'/'+str(tau[i])+'daynokpp/'+Year\n",
      "    if not os.path.exists(flist):\n",
      "       print 'WARNING: '+flist+' does not exist! (skipping this tau...)'\n",
      "       check+=0\n",
      "    else:\n",
      "       check+=1\n",
      "       runs.append(i)\n"
     ],
     "language": "python",
     "metadata": {},
     "outputs": []
    },
    {
     "cell_type": "code",
     "collapsed": false,
     "input": [
      "gridfilepath=x+'/'+str(tau[0])+'daynokpp/'\n",
      "file2=netcdf.netcdf_file(gridfilepath+'grid.nc','r')\n",
      "X=file2.variables['X']\n",
      "X=X[:]*1\n",
      "Z=file2.variables['Z']\n",
      "Z=Z[:]\n",
      "Y=file2.variables['Y']\n",
      "Yc=Y[:]\n",
      "Zp1=file2.variables['Zp1']\n",
      "Zp=Zp1[:]*1\n",
      "Z=file2.variables['Z']\n",
      "dx=5000\n",
      "dz=Zp[0:len(Zp)-1]-Zp[1:len(Zp)]\n",
      "dA=dz*5000"
     ],
     "language": "python",
     "metadata": {},
     "outputs": []
    },
    {
     "cell_type": "code",
     "collapsed": false,
     "input": [
      "Runs=np.array(runs)"
     ],
     "language": "python",
     "metadata": {},
     "outputs": []
    },
    {
     "cell_type": "markdown",
     "metadata": {},
     "source": [
      "***\n",
      "\n",
      "***Lets have a look at the spatial variation in the eddy covarience V'T'***\n",
      "\n",
      "* Surface\n",
      "* Mixedlayer\n",
      "* Total\n",
      "\n",
      "***"
     ]
    },
    {
     "cell_type": "code",
     "collapsed": false,
     "input": [
      "# Surface layer\n",
      "fig=plt.figure(figsize=(12.5,12.5))\n",
      "for i in range(len(Runs)):\n",
      "    filename=x+'/'+str(tau[Runs[i]])+'daynokpp/VTprimebar.nc'\n",
      "    file2read = netcdf.NetCDFFile(filename,'r')\n",
      "    VT=file2read.variables[\"VT\"]\n",
      "    VT=VT[:]\n",
      "    Q_levs = (np.arange(-0.1,0.1,0.01))\n",
      "    Q_ticks = np.arange(-0.1,0.1,0.02)\n",
      "    ax = fig.add_subplot(3, 3, i+1)\n",
      "    p=ax.contourf(X/1000,Yc/1000,VT[1,:,:],Q_levs,cmap=plt.cm.seismic) #Use b2r colourmap\n",
      "    #clim(-1,1) # Put 0 to white\n",
      "    #cbar=plt.colorbar(cf, ticks=Psi_ticks, shrink=0.8)\n",
      "    ax.set_title(str(tau[Runs[i]])+' day')\n",
      "    if str(tau[Runs[i]])=='Closed':\n",
      "        ax.set_title(str(tau[Runs[i]]))\n",
      "    ax.set_xlabel('Distance (km)')\n",
      "    ax.set_ylabel('Depth (m)')\n",
      "    #cbar=plt.colorbar(p, ticks=Psi_ticks, shrink=0.8)\n",
      "    #ax.set_clim(-1,1)\n",
      "    #cbar.ax.set_ylabel('$\\psi \\,\\, (sv)$')\n",
      "plt.tight_layout()\n",
      "cax = fig.add_axes([1, 0.1, 0.03, 0.8])\n",
      "cbar=fig.colorbar(p, cax=cax,ticks=Q_ticks)\n",
      "cbar.ax.set_ylabel('$ V\\prime T\\prime $')\n",
      "q=( os.path.expanduser('~')+\"/Figures/Mobilis\")\n",
      "if not os.path.exists(q):\n",
      "       os.makedirs(q)\n",
      "plt.savefig(q+\"/VTsurfpanel.pdf\",bbox_extra_artists=(cbar))"
     ],
     "language": "python",
     "metadata": {},
     "outputs": []
    },
    {
     "cell_type": "code",
     "collapsed": false,
     "input": [
      "# Mixed layer\n",
      "fig=plt.figure(figsize=(12.5,12.5))\n",
      "for i in range(len(Runs)):\n",
      "    fileVTp = netcdf.NetCDFFile(x+'/'+str(tau[Runs[i]])+\"daynokpp/VTprimebar.nc\",'r') \n",
      "    VTbar=fileVTp.variables['VT']\n",
      "    VTdA=np.zeros(shape(VTbar))\n",
      "    for k in range(len(dz)):\n",
      "        VTdA[k,:,:]=VTbar[k,:,:]*dA[k]\n",
      "    EddyHF=1030*3985*((np.sum(VTdA,axis=0)))/10**15 #heat flux in x-y\n",
      "    #Read in the Mixed layer depth\n",
      "    filehml = netcdf.NetCDFFile(x+'/'+str(tau[Runs[i]])+\"daynokpp/HML.nc\",'r') \n",
      "    hml=filehml.variables['MXLDEPTH']\n",
      "    hml=np.squeeze(hml[:]*1)\n",
      "    hmlav=np.mean(hml,axis=1)\n",
      "    Eddymixed=np.zeros((len(Yc[:]*1),len(X[:]*1)))\n",
      "    for ix in range(len(X[:]*1)):\n",
      "        for j in range(len(Yc[:]*1)):\n",
      "            I=find_nearest(Z[:]*1,-hml[j,ix])\n",
      "            b=nonzero(Z[:]*1==I)[0][0]\n",
      "            Eddymixed[j,ix]=1030*3985*(np.sum(VTdA[0:b,j,ix],axis=0))/10**12\n",
      "    Q_levs = (np.arange(-0.5,0.5,0.05))\n",
      "    Q_ticks = np.arange(-0.5,0.5,0.1)\n",
      "    ax = fig.add_subplot(3, 3, i+1)\n",
      "    p=ax.contourf(X/1000,Yc/1000,Eddymixed[:,:],Q_levs,cmap=plt.cm.seismic) #Use b2r colourmap\n",
      "    #clim(-1,1) # Put 0 to white\n",
      "    #cbar=plt.colorbar(cf, ticks=Psi_ticks, shrink=0.8)\n",
      "    ax.set_title(str(tau[Runs[i]])+' day')\n",
      "    if str(tau[Runs[i]])=='Closed':\n",
      "        ax.set_title(str(tau[Runs[i]]))\n",
      "    ax.set_xlabel('Distance (km)')\n",
      "    ax.set_ylabel('Depth (m)')\n",
      "    #cbar=plt.colorbar(p, ticks=Psi_ticks, shrink=0.8)\n",
      "    #ax.set_clim(-1,1)\n",
      "    #cbar.ax.set_ylabel('$\\psi \\,\\, (sv)$')\n",
      "plt.tight_layout()\n",
      "cax = fig.add_axes([1, 0.1, 0.03, 0.8])\n",
      "cbar=fig.colorbar(p, cax=cax,ticks=Q_ticks)\n",
      "cbar.ax.set_ylabel('$TW$')\n",
      "q=( os.path.expanduser('~')+\"/Figures/Mobilis\")\n",
      "if not os.path.exists(q):\n",
      "       os.makedirs(q)\n",
      "plt.savefig(q+\"/VTmixedpanel.pdf\",bbox_extra_artists=(cbar))"
     ],
     "language": "python",
     "metadata": {},
     "outputs": []
    },
    {
     "cell_type": "code",
     "collapsed": false,
     "input": [
      "# Total\n",
      "fig=plt.figure(figsize=(12.5,12.5))\n",
      "for i in range(len(Runs)):\n",
      "    fileVTp = netcdf.NetCDFFile(x+'/'+str(tau[Runs[i]])+\"daynokpp/VTprimebar.nc\",'r') \n",
      "    VTbar=fileVTp.variables['VT']\n",
      "    VTdA=np.zeros(shape(VTbar))\n",
      "    for k in range(len(dz)):\n",
      "        VTdA[k,:,:]=VTbar[k,:,:]*dA[k]\n",
      "    EddyHF=1030*3985*((np.sum(VTdA,axis=0)))/10**12 #heat flux in x-y\n",
      "    Q_levs = (np.arange(-1,1,0.05))\n",
      "    Q_ticks = np.arange(-1,1,0.1)\n",
      "    ax = fig.add_subplot(3, 3, i+1)\n",
      "    p=ax.contourf(X/1000,Yc/1000,EddyHF[:,:], Q_levs,cmap=plt.cm.seismic) #Use b2r colourmap\n",
      "    #clim(-1,1) # Put 0 to white\n",
      "    #cbar=plt.colorbar(cf, ticks=Psi_ticks, shrink=0.8)\n",
      "    ax.set_title(str(tau[Runs[i]])+' day')\n",
      "    if str(tau[Runs[i]])=='Closed':\n",
      "        ax.set_title(str(tau[Runs[i]]))\n",
      "    ax.set_xlabel('Distance (km)')\n",
      "    ax.set_ylabel('Depth (m)')\n",
      "    #cbar=plt.colorbar(p, ticks=Psi_ticks, shrink=0.8)\n",
      "    #ax.set_clim(-1,1)\n",
      "    #cbar.ax.set_ylabel('$\\psi \\,\\, (sv)$')\n",
      "plt.tight_layout()\n",
      "cax = fig.add_axes([1, 0.1, 0.03, 0.8])\n",
      "cbar=fig.colorbar(p, cax=cax,ticks=Q_ticks)\n",
      "cbar.ax.set_ylabel('$TW$')\n",
      "q=( os.path.expanduser('~')+\"/Figures/Mobilis\")\n",
      "if not os.path.exists(q):\n",
      "       os.makedirs(q)\n",
      "plt.savefig(q+\"/VTtotalpanel.pdf\",bbox_extra_artists=(cbar))"
     ],
     "language": "python",
     "metadata": {},
     "outputs": []
    },
    {
     "cell_type": "code",
     "collapsed": false,
     "input": [],
     "language": "python",
     "metadata": {},
     "outputs": []
    }
   ],
   "metadata": {}
  }
 ]
}