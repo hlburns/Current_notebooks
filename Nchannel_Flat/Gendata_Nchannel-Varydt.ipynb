{
 "cells": [
  {
   "cell_type": "markdown",
   "metadata": {},
   "source": [
    "# Generate model inputs"
   ]
  },
  {
   "cell_type": "markdown",
   "metadata": {},
   "source": [
    "## This will set up the forcing for Abernathey Style Forcing"
   ]
  },
  {
   "cell_type": "code",
   "execution_count": 1,
   "metadata": {
    "collapsed": false
   },
   "outputs": [],
   "source": [
    "from scipy.io import netcdf\n",
    "import numpy as np\n",
    "import matplotlib.pyplot as plt\n",
    "import os\n",
    "import csv\n",
    "import netCDF4\n",
    "import sys\n",
    "import math\n",
    "from pylab import *\n",
    "from IPython.display import display, Math, Latex\n",
    "from numba import jit\n",
    "import glob\n",
    "%matplotlib inline\n",
    "# Use writeFile to write files in the correct format!\n",
    "sys.path.append('/noc/users/hb1g13/Python/python_functions/')\n",
    "from Writebin import *"
   ]
  },
  {
   "cell_type": "markdown",
   "metadata": {},
   "source": [
    "When writing in python it is very important to note reverse dimensions!!\n",
    "MITgcm assumes column major order (as does matlab) Python, uses row major order.\n",
    "Mosty it's fine just to write straight to binary, but to absolutely specific of the format for MITgcm the WriteFile fuction (taken from the MITgcm csv gendata.py):"
   ]
  },
  {
   "cell_type": "markdown",
   "metadata": {},
   "source": [
    "## Decide parameters:"
   ]
  },
  {
   "cell_type": "raw",
   "metadata": {},
   "source": [
    "Resolution \n",
    "Depth\n",
    "Domain\n",
    "Boundary Condition\n",
    "Topography\n",
    "Forcing"
   ]
  },
  {
   "cell_type": "code",
   "execution_count": 35,
   "metadata": {
    "collapsed": false
   },
   "outputs": [],
   "source": [
    "Topo = \"flat\"  # Please Choose ridge, slope or flat\n",
    "Wind = \"Standard\"  # Sine bell 0.2N/m$^2$\n",
    "Heat = \"nonetQ\"  # Please Choose Abernathey or nonetQ\n",
    "BC = \"Sponge\"  # Please Choose Sponge or Diffusion\n",
    "Name = \"16CDT\"  # Give Experiment Name\n",
    "deltaT = 16.0 # Set T diff\n",
    "deltaT0 = 8.0 # top to bottom temp diff\n",
    "N = 1000.0 # Natural stratification"
   ]
  },
  {
   "cell_type": "code",
   "execution_count": 36,
   "metadata": {
    "collapsed": false
   },
   "outputs": [],
   "source": [
    "# Adjust accordingly\n",
    "Res = 5000\n",
    "Ly = 2000e3\n",
    "Lx = 1000e3 #Full domain = 4000km otherwise 1000km\n",
    "H=  3000 # Diffusion = 3800m, Sponge = 2985m\n",
    "nz = 30 # Diffusion = 24 level, Sponge= 30 levels"
   ]
  },
  {
   "cell_type": "code",
   "execution_count": 37,
   "metadata": {
    "collapsed": false
   },
   "outputs": [],
   "source": [
    "x = ( os.path.expanduser('~')+\"/MITgcm/\"+Name+\"/input/\")\n",
    "if not os.path.exists(x):\n",
    "       os.makedirs(x) \n",
    "os.chdir(x)"
   ]
  },
  {
   "cell_type": "markdown",
   "metadata": {},
   "source": [
    "## Set up grid:"
   ]
  },
  {
   "cell_type": "code",
   "execution_count": 38,
   "metadata": {
    "collapsed": false
   },
   "outputs": [],
   "source": [
    "#Dimensions\n",
    "nx = int(np.round(Lx/Res))\n",
    "ny = int(np.round(Ly/Res))\n",
    "dx = np.ones(nx)*Res\n",
    "dy = np.ones(ny)*Res\n",
    "#Write binary output\n",
    "writeFile('delY',dy)\n",
    "writeFile('delX',dx)\n",
    "# Create c-grid with grid points in dead center\n",
    "x = (np.cumsum(dx)-dx/2)-Lx/2\n",
    "y = (np.cumsum(dy)-dy/2)-Ly/2\n",
    "[Y, X] = np.meshgrid(y, x) "
   ]
  },
  {
   "cell_type": "markdown",
   "metadata": {},
   "source": [
    "## Now Create topography:"
   ]
  },
  {
   "cell_type": "markdown",
   "metadata": {},
   "source": [
    "Start with flat, then add slope and ridges"
   ]
  },
  {
   "cell_type": "code",
   "execution_count": 39,
   "metadata": {
    "collapsed": false
   },
   "outputs": [],
   "source": [
    "h= -H*np.ones((nx,ny)) # Flat bottom\n",
    "if Topo == \"ridge\":#2500 and 2000 for full depth\n",
    "        h= h+((2500 + 300*np.sin(10*pi*Y/Ly) + 400*np.sin(8*pi*Y/Ly)\n",
    "               + 300*sin(25*pi*Y/Ly) )*(1/np.cosh(((X)-0.2*Y+3e5)/1.2e5)))\n",
    "        h= h+((2000 + 600*np.sin(11*pi*Y/Ly) + 300*np.sin(7*pi*Y/Ly)+\n",
    "               500*sin(21*pi*Y/Ly) )*(1/np.cosh(((X)+0.1*Y+1.5e6)/1.2e5)))\n",
    "if Topo == \"slope\" or Topo==\"ridge\":\n",
    "    for i in range(int(nx)):\n",
    "        slope= np.transpose(H*(np.divide((Y[i,0:round(0.2*ny)]\n",
    "                                          -Y[i,0]),(Y[i,0]-Y[i,round(0.2*ny)]))))\n",
    "        h2 = h[:,0:round(0.2*ny)]\n",
    "        h[:,0:round(0.2*ny)]=np.maximum(slope,h2)\n",
    "# Close both ends\n",
    "h[:,0] = 0\n",
    "h[:,-1] = 0\n",
    "# Write to binary\n",
    "writeFile('topog',np.transpose(h))"
   ]
  },
  {
   "cell_type": "code",
   "execution_count": 40,
   "metadata": {
    "collapsed": false
   },
   "outputs": [
    {
     "data": {
      "image/png": "[encoded data removed]",
      "text/plain": [
       "<matplotlib.figure.Figure at 0x2b708e6e7190>"
      ]
     },
     "metadata": {},
     "output_type": "display_data"
    }
   ],
   "source": [
    "fig1 = plt.figure()\n",
    "if Topo == \"flat\" or Topo == \"slope\":\n",
    "    plt.plot(y/1000,h[nx/2,:])\n",
    "    plt.title('Topography')\n",
    "    plt.ylabel('Depth (m)')\n",
    "    plt.xlabel('Y (km)')\n",
    "if Topo == 'ridge':\n",
    "    # plt.contourf(x/1000,y/1000,np.transpose(h),30)\n",
    "    plt.contourf(np.transpose(h))\n",
    "    cb = plt.colorbar()\n",
    "    plt.title('Topography')\n",
    "    plt.ylabel('Y (km)')\n",
    "    plt.xlabel('X (km)')\n",
    "    cb.set_label('Depth (m)')\n",
    "# netcdf check\n",
    "f = netCDF4.Dataset('topog.nc','w')\n",
    "f.createDimension('X',nx)\n",
    "f.createDimension('Y',ny)\n",
    "h2=f.createVariable('h','float',('X','Y'))\n",
    "h2[:] = h\n",
    "f.close()\n"
   ]
  },
  {
   "cell_type": "markdown",
   "metadata": {},
   "source": [
    "## Surface Heat Forcing"
   ]
  },
  {
   "cell_type": "markdown",
   "metadata": {},
   "source": [
    "Now for the surface heat forcing:\n",
    "Must have bouyancy gain in the south and bouyancy loss over maximum wind sress to allow overturning\n",
    "\n",
    "\n",
    "$Q=-Q_{0}\\,cos(\\frac{3\\pi y}{Ly})\\quad \\quad \\quad \\quad y \\le \\frac{5Ly}{6}$"
   ]
  },
  {
   "cell_type": "code",
   "execution_count": 41,
   "metadata": {
    "collapsed": false
   },
   "outputs": [],
   "source": [
    "#MITgcm opposite way round\n",
    "Q_0 = 10\n",
    "Q=Q_0*(np.sin(Y*(3*pi/Ly)))\n",
    "Q[:,ny-(np.round(ny/6)):ny]=0\n",
    "x1 = (np.cumsum(dx)-dx/2)\n",
    "y1 = (np.cumsum(dy)-dy/2)\n",
    "[Y1, X1] = np.meshgrid(y1, x1) \n",
    "if Heat==\"nonetQ\":\n",
    "    Q[:,0:int(5*ny/36)]=Q_0*(np.cos(Y1[:,0:int(5*ny/36)]*(pi/(Y1[1,int(10*ny/36)]))))\n",
    "    Q[:,int(5*ny/36):int(20*ny/36)]= -Q_0*(np.sin((Y1[:,int(5*ny/36):int(20*ny/36)]\n",
    "                                                 -Y1[1,int(5*ny/36)])*(pi/(Y1[1,int(15*ny/36)]))))\n",
    "    Q[:,int(20*ny/36):int(30*ny/36)]= Q_0*(np.sin(Y1[:,0:int(10*ny/36)]*(pi/(Y1[1,int(10*ny/36)]))))\n",
    "    Q[:,0:int(30*ny/36)] = Q[:,0:int(30*ny/36)]+(-sum(Q)/(5*ny*nx/6)) \n",
    "# Write to binary\n",
    "writeFile('Qsurface',np.transpose(Q))\n",
    "# netcdf check\n",
    "f=netcdf.netcdf_file('Qsurface.nc','w')\n",
    "f.createDimension('X',nx)\n",
    "f.createDimension('Y',ny)\n",
    "Q2=f.createVariable('Q','float',('X','Y'))\n",
    "Q2[:]=Q\n",
    "f.close()"
   ]
  },
  {
   "cell_type": "code",
   "execution_count": 42,
   "metadata": {
    "collapsed": false
   },
   "outputs": [
    {
     "data": {
      "text/plain": [
       "0.92348057983883791"
      ]
     },
     "execution_count": 42,
     "metadata": {},
     "output_type": "execute_result"
    }
   ],
   "source": [
    "sum(Q)"
   ]
  },
  {
   "cell_type": "code",
   "execution_count": 43,
   "metadata": {
    "collapsed": false
   },
   "outputs": [
    {
     "data": {
      "text/plain": [
       "<matplotlib.text.Text at 0x2b708e842ed0>"
      ]
     },
     "execution_count": 43,
     "metadata": {},
     "output_type": "execute_result"
    },
    {
     "data": {
      "image/png": "[encoded data removed]",
      "text/plain": [
       "<matplotlib.figure.Figure at 0x2b7090e29490>"
      ]
     },
     "metadata": {},
     "output_type": "display_data"
    }
   ],
   "source": [
    "fig1 = plt.figure()\n",
    "plt.plot(y/1000,Q[100,:])\n",
    "plt.title('Surface Heat Flux $W/m^2$')\n",
    "plt.ylabel('Heat Flux ($W/m^2$)')\n",
    "plt.xlabel('Meridional Distance (m)')"
   ]
  },
  {
   "cell_type": "markdown",
   "metadata": {},
   "source": [
    "## Windstress"
   ]
  },
  {
   "cell_type": "markdown",
   "metadata": {},
   "source": [
    "Plus the Windress with $\\tau_o$ set to $0.2Nm^-2$\n",
    "\n",
    "$\\tau_s(y)=\\tau_0 sin(\\frac{\\pi y}{Ly})$"
   ]
  },
  {
   "cell_type": "code",
   "execution_count": 44,
   "metadata": {
    "collapsed": false
   },
   "outputs": [],
   "source": [
    "tau=0.2*((np.sin((Y+Ly/2)*(pi/Ly)))) #Y is centred at 0 so put that back!\n",
    "if BC=='Diffusion':\n",
    "    Taunew = tau + 2e-3 * (np.random.random((nx,ny)) - 0.5)\n",
    "    tau=Taunew\n",
    "# Write to binary\n",
    "writeFile('Wind',np.transpose(tau))\n",
    "# netcdf check\n",
    "f=netcdf.netcdf_file('Wind.nc','w')\n",
    "f.createDimension('Xp1',nx+1)\n",
    "f.createDimension('Y',ny)\n",
    "tau3=np.zeros((ny,nx+1))\n",
    "tau3[:,1:]=np.transpose(tau)\n",
    "tau2=f.createVariable('tau','double',('Xp1','Y'))\n",
    "tau2[:]=np.transpose(tau3)\n",
    "f.close()"
   ]
  },
  {
   "cell_type": "code",
   "execution_count": 45,
   "metadata": {
    "collapsed": false
   },
   "outputs": [
    {
     "data": {
      "text/plain": [
       "<matplotlib.text.Text at 0x2b708e88ffd0>"
      ]
     },
     "execution_count": 45,
     "metadata": {},
     "output_type": "execute_result"
    },
    {
     "data": {
      "image/png": "[encoded data removed]",
      "text/plain": [
       "<matplotlib.figure.Figure at 0x2b7090e1ad10>"
      ]
     },
     "metadata": {},
     "output_type": "display_data"
    }
   ],
   "source": [
    "plt.plot(y/1000,tau[100,:])\n",
    "plt.title('Surface Wind Stress $N/m^2$')\n",
    "plt.ylabel('$\\tau$ ($N/m^2$)')\n",
    "plt.xlabel('Meridional Distance (m)')"
   ]
  },
  {
   "cell_type": "markdown",
   "metadata": {},
   "source": [
    "## Generate Sponge"
   ]
  },
  {
   "cell_type": "raw",
   "metadata": {},
   "source": [
    "Now creat a Sponge mask and a reference profile to relax to:"
   ]
  },
  {
   "cell_type": "code",
   "execution_count": 46,
   "metadata": {
    "collapsed": false
   },
   "outputs": [],
   "source": [
    "# Parameters\n",
    "Tref = np.zeros(nz)\n",
    "# Create depth array:\n",
    "# Tanh - normal\n",
    "zp = np.linspace(1,0,31)\n",
    "zp = H+H*(tanh(-pi*zp))\n",
    "zp = zp - zp[0]-(zp[1]-zp[0])\n",
    "zp = np.round(zp,2)\n",
    "dz = zp[0:-1] - zp[1::]\n",
    "zp[-1] = H\n",
    "zp[1::] = np.cumsum(dz)\n",
    "zp[0] = 0.5*zp[0]\n",
    "writeFile('delZ',-dz)\n",
    "# Z center points\n",
    "z = zeros((nz))\n",
    "z[1::] = (zp[1:-1]+zp[2::])/2\n",
    "z[0]= zp[0]/2"
   ]
  },
  {
   "cell_type": "markdown",
   "metadata": {},
   "source": [
    "\\begin{equation}\n",
    "T^*(z)=\\Delta T \\frac{(e^{z/N}-e^{-H/N})}{1-e^{-H/N}} + \\left(\\frac{N-N_0}{N_0}\\right),\n",
    "\\end{equation} \n",
    "\n",
    "\\begin{equation}\n",
    "\\Delta T = \\Delta T _0 - \\left(\\frac{N-N_0}{N_0}\\right),\n",
    "\\end{equation} \n",
    "N max = H "
   ]
  },
  {
   "cell_type": "code",
   "execution_count": 47,
   "metadata": {
    "collapsed": false
   },
   "outputs": [],
   "source": [
    "Tref = deltaT*(exp(z/N)-exp(-H/N))/(1-exp(-H/N)) + 2*((deltaT-deltaT0)/deltaT0)"
   ]
  },
  {
   "cell_type": "code",
   "execution_count": 48,
   "metadata": {
    "collapsed": false
   },
   "outputs": [
    {
     "name": "stdout",
     "output_type": "stream",
     "text": [
      "max:  17.9890586411 \n",
      " min:  2.153054081\n"
     ]
    },
    {
     "data": {
      "text/plain": [
       "<matplotlib.text.Text at 0x2b708e942b50>"
      ]
     },
     "execution_count": 48,
     "metadata": {},
     "output_type": "execute_result"
    },
    {
     "data": {
      "image/png": "[encoded data removed]",
      "text/plain": [
       "<matplotlib.figure.Figure at 0x2b708e3a0350>"
      ]
     },
     "metadata": {},
     "output_type": "display_data"
    }
   ],
   "source": [
    "plt.plot(Tref,z)\n",
    "print 'max: ', np.max(Tref), '\\n min: ', np.min(Tref)\n",
    "#plt.gca().invert_yaxis()\n",
    "plt.title('Temperature Profile')\n",
    "plt.ylabel('Depth (m)')\n",
    "plt.xlabel('Temperature $^oC$')"
   ]
  },
  {
   "cell_type": "code",
   "execution_count": 30,
   "metadata": {
    "collapsed": false
   },
   "outputs": [],
   "source": [
    "#Make a 3D array of it\n",
    "T=np.ones((nz,ny,nx))\n",
    "Temp_field=np.zeros(np.shape(T))\n",
    "for i in range(int(nx)):\n",
    "    for j in range(int(ny)):\n",
    "        Temp_field[:,j,i]=np.multiply(Tref,T[:,j,i])"
   ]
  },
  {
   "cell_type": "code",
   "execution_count": 31,
   "metadata": {
    "collapsed": false
   },
   "outputs": [],
   "source": [
    "Tnew = transpose(tile(Temp_field.mean(axis=2),(nx,1,1)),[1,2,0])\n",
    "Tnew[:,-1] = Tnew[:,-2]\n",
    "#Maybe add more \n",
    "if BC=='Diffusion':\n",
    "    Tnew = Tnew + 2e-3 * (np.random.random((nz,ny,nx)) - 0.5)\n",
    "else:\n",
    "    Tnew = Tnew + 1e-3 * (np.random.random((nz,ny,nx)) - 0.5)"
   ]
  },
  {
   "cell_type": "code",
   "execution_count": 32,
   "metadata": {
    "collapsed": false
   },
   "outputs": [],
   "source": [
    "# Write to binary\n",
    "writeFile('T_Sponge',Temp_field)\n",
    "writeFile('T.init',Tnew)\n",
    "# netcdf check\n",
    "f=netcdf.netcdf_file('TSponge.nc','w')\n",
    "f.createDimension('X',nx)\n",
    "f.createDimension('Y',ny)\n",
    "f.createDimension('Z',nz)\n",
    "Temp=f.createVariable('Temp','double',('Z','Y','X'))\n",
    "Temp[:]=Temp_field\n",
    "f.close()"
   ]
  },
  {
   "cell_type": "code",
   "execution_count": 33,
   "metadata": {
    "collapsed": false
   },
   "outputs": [],
   "source": [
    "#Make 3D mask\n",
    "#Must vary between 0 (no Relaxation) and 1 (full relaxtion)\n",
    "#I have gone for a parabolic decay in x and linear decay in z (from playing around)\n",
    "msk=np.zeros(np.shape(T))\n",
    "for k in range(0,len(z)):\n",
    "    for i in range(len(x)):  \n",
    "        msk[k,ny-20:ny,i]=((np.divide((Y[i,ny-21:ny-1]-Y[i,ny-21]),(Y[i,ny-1]-Y[i,ny-21]))))\n",
    "# Write to binary\n",
    "writeFile('T.msk',msk)\n",
    "# netcdf check\n",
    "f=netcdf.netcdf_file('Mask.nc','w')\n",
    "f.createDimension('X',nx)\n",
    "f.createDimension('Y',ny)\n",
    "f.createDimension('Z',nz)\n",
    "Mask=f.createVariable('Mask','double',('Z','Y','X'))\n",
    "Mask[:]=(msk)\n",
    "f.close()"
   ]
  },
  {
   "cell_type": "code",
   "execution_count": 34,
   "metadata": {
    "collapsed": false
   },
   "outputs": [
    {
     "data": {
      "text/plain": [
       "<matplotlib.text.Text at 0x2b7090eed390>"
      ]
     },
     "execution_count": 34,
     "metadata": {},
     "output_type": "execute_result"
    },
    {
     "data": {
      "image/png": "[encoded data removed]",
      "text/plain": [
       "<matplotlib.figure.Figure at 0x2b7090e1a050>"
      ]
     },
     "metadata": {},
     "output_type": "display_data"
    }
   ],
   "source": [
    "plt.contourf(y/1000,z,msk[:,:,100],24,cm=cm.Spectral)\n",
    "cbar = plt.colorbar()\n",
    "plt.gca().invert_yaxis()\n",
    "plt.title('Mask Matrix')\n",
    "plt.ylabel('Depth (m)')\n",
    "plt.xlabel('Meridional Distance (km)')"
   ]
  },
  {
   "cell_type": "code",
   "execution_count": null,
   "metadata": {
    "collapsed": true
   },
   "outputs": [],
   "source": []
  }
 ],
 "metadata": {
  "anaconda-cloud": {},
  "kernelspec": {
   "display_name": "Standard",
   "language": "python",
   "name": "standard"
  },
  "language_info": {
   "codemirror_mode": {
    "name": "ipython",
    "version": 2
   },
   "file_extension": ".py",
   "mimetype": "text/x-python",
   "name": "python",
   "nbconvert_exporter": "python",
   "pygments_lexer": "ipython2",
   "version": "2.7.12"
  }
 },
 "nbformat": 4,
 "nbformat_minor": 0
}
