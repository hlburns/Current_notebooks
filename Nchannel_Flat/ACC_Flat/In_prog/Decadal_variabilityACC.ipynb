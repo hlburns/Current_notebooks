{
 "metadata": {
  "name": "",
  "signature": "sha256:3f111d073de1e5a32bf2f8d294ba68e22ba9c181144e9e6734e0a7a896163c48"
 },
 "nbformat": 3,
 "nbformat_minor": 0,
 "worksheets": [
  {
   "cells": [
    {
     "cell_type": "heading",
     "level": 1,
     "metadata": {},
     "source": [
      "Decadal Variability in the ACC\n"
     ]
    },
    {
     "cell_type": "markdown",
     "metadata": {},
     "source": [
      "**Alain's email:**\n",
      "\n",
      "ACC configuration with buoyancy flux forcing at the surface might be conducive to decadal variability in that region. Thierry Huck, Florian, Olivier Arzel continue to work on the idea that large scale baroclinic instability is key to its presence in climate models. Here with eddy resolving capabilities, it would be quite nice to see that kind of signal if any. On the observational side the White  and Peterson Antarctic circumpolar wave looks transient but no consensus on explanations and so there could be a link there too.\n",
      "\n",
      "***\n",
      "\n",
      "**Outline:**\n",
      "\n",
      "* Really for this all I care about is the 3 day run\n",
      "* ACC MOC and ROC Cell Maxes from yearly averages should be good\n",
      "* So far I have 100 yr time series from 200-300 yrs"
     ]
    },
    {
     "cell_type": "code",
     "collapsed": false,
     "input": [
      "from scipy.io import netcdf\n",
      "import numpy as np\n",
      "import matplotlib.pyplot as plt\n",
      "import os\n",
      "import csv\n",
      "import sys\n",
      "import glob"
     ],
     "language": "python",
     "metadata": {},
     "outputs": [],
     "prompt_number": 1
    },
    {
     "cell_type": "code",
     "collapsed": false,
     "input": [
      "Years='200-300'\n",
      "x='/hpcdata/scratch/hb1g13/NchannelFlat/3daynokpp'\n",
      "file2=netcdf.netcdf_file(x+'/grid.nc','r')\n",
      "Zp1=file2.variables['Zp1']\n",
      "Zp=Zp1[:]*1\n",
      "Z=file2.variables['Z']\n",
      "Z=Z[:]\n",
      "Y=file2.variables['Yp1']\n",
      "Y=Y[:]\n",
      "Yc=file2.variables['Y']\n",
      "Yc=Yc[:]\n",
      "X=file2.variables['Xp1']\n",
      "Xp=X[:]"
     ],
     "language": "python",
     "metadata": {},
     "outputs": [],
     "prompt_number": 2
    },
    {
     "cell_type": "code",
     "collapsed": false,
     "input": [
      "# Constant Parameters\n",
      "alpha=2.000000E-04\n",
      "G=-9.81\n",
      "rho_0=1000\n",
      "C_p=3985\n",
      "Res=5000\n",
      "Ly=2000e3\n",
      "Lx=1000e3 \n",
      "H=2985 \n",
      "nz=30 \n",
      "f=-1.000000E-04\n",
      "tref=4.0\n",
      "dz=Zp[0:len(Zp)-1]-Zp[1:len(Zp)]"
     ],
     "language": "python",
     "metadata": {},
     "outputs": [],
     "prompt_number": 3
    },
    {
     "cell_type": "code",
     "collapsed": false,
     "input": [
      "T1=zeros((100))\n",
      "T2=zeros((100))\n",
      "filename=x+'/200-300yrly.nc'\n",
      "file2read = netcdf.NetCDFFile(filename,'r')\n",
      "U=file2read.variables[\"UVEL\"]\n",
      "U=U[:]\n",
      "Temp=file2read.variables['THETA']\n",
      "Temp=Temp[:]*1\n",
      "V=file2read.variables[\"VVEL\"]\n",
      "V=V[:]\n",
      "Uzone=np.nansum(U,axis = 3)*5000\n",
      "dz=Zp[0:len(Zp)-1]-Zp[1:len(Zp)]\n",
      "# Got rid of for loop here (much quicker!!)\n",
      "psi2=np.apply_along_axis(np.multiply,1,Uzone,dz)\n",
      "psi=np.cumsum(psi2[:,::-1,:],axis=1)\n",
      "npad = ((0,0),(0,1), (0,0))\n",
      "# Pad with zeros at bottom\n",
      "psi = np.pad(psi, pad_width=npad, mode='constant', constant_values=0)\n",
      "y =Y/1000\n",
      "Psi=psi/10**6\n",
      "Vtave=V.mean(axis=0)\n",
      "Vzone=np.nansum(Vtave,axis = 2)*5000\n",
      "dz=Zp[0:len(Zp)-1]-Zp[1:len(Zp)]\n",
      "# Got rid of for loop here (much quicker!!)\n",
      "psi2=np.apply_along_axis(np.multiply,0,Vzone,dz)\n",
      "psi=np.cumsum(-psi2[::-1,:],axis=0)\n",
      "npad = ((0,1), (0,0))\n",
      "# Pad with zeros at bottom\n",
      "psi = np.pad(psi, pad_width=npad, mode='constant', constant_values=0)\n",
      "y =Y/1000\n",
      "Psi=psi/10**6 #Convert to Sv\n",
      "#T1[I,:]=Psi\n",
      "#Udy=np.sum(Ubar*Res,axis=2)\n",
      "ACC=np.zeros((100,len(Z),len(Yc),len(Xp)))\n",
      "for t in range(len(U[:,1,1,1])):\n",
      "    for ix in range(len(Yc)):\n",
      "        for j in range(len(Xp)):\n",
      "            for k in range(0,len(Z)-1):\n",
      "                ACC[t,k,ix,j] = dz[k]*U[t,k,ix,j]\n",
      "ACCf=np.cumsum(ACC[:,::-1,:,:],axis=1)\n",
      "ACC=np.mean(np.sum(ACCf[:,::-1,100:300,:],axis=2),axis=2)\n",
      "T1[:]=np.max(ACC,axis=1)\n",
      "Tav=np.mean(Temp,axis=0)\n",
      "Tavlat=np.mean(Tav,axis=2)\n",
      "Dens=np.zeros(shape(Tavlat))\n",
      "Densdz=np.zeros(shape(Tavlat[:,1]))  \n",
      "R2=np.zeros(shape(Tavlat[:,1]))\n",
      "Dens=rho_0*(1-(alpha*(Tavlat-tref)))\n",
      "RhoN=np.mean(Dens[::-1,-120:-80],axis=1)\n",
      "RhoS=np.mean(Dens[::-1,80:120],axis=1)\n",
      "dz=Zp[0:len(Zp)-1]-Zp[1:len(Zp)]\n",
      "for i in range(len(Z)):\n",
      "    Densdz[i]=(RhoN[i]-RhoS[i])*dz[i]\n",
      "R1=np.cumsum(Densdz)\n",
      "for i in range(len(Z)):\n",
      "    R2[i]=R1[i]*dz[i]\n",
      "T2[:]=-G/(f*rho_0)*R2\n"
     ],
     "language": "python",
     "metadata": {},
     "outputs": [
      {
       "ename": "ValueError",
       "evalue": "could not broadcast input array from shape (30) into shape (100)",
       "output_type": "pyerr",
       "traceback": [
        "\u001b[1;31m---------------------------------------------------------------------------\u001b[0m\n\u001b[1;31mValueError\u001b[0m                                Traceback (most recent call last)",
        "\u001b[1;32m<ipython-input-18-246733a9ccaf>\u001b[0m in \u001b[0;36m<module>\u001b[1;34m()\u001b[0m\n\u001b[0;32m     55\u001b[0m \u001b[1;32mfor\u001b[0m \u001b[0mi\u001b[0m \u001b[1;32min\u001b[0m \u001b[0mrange\u001b[0m\u001b[1;33m(\u001b[0m\u001b[0mlen\u001b[0m\u001b[1;33m(\u001b[0m\u001b[0mZ\u001b[0m\u001b[1;33m)\u001b[0m\u001b[1;33m)\u001b[0m\u001b[1;33m:\u001b[0m\u001b[1;33m\u001b[0m\u001b[0m\n\u001b[0;32m     56\u001b[0m     \u001b[0mR2\u001b[0m\u001b[1;33m[\u001b[0m\u001b[0mi\u001b[0m\u001b[1;33m]\u001b[0m\u001b[1;33m=\u001b[0m\u001b[0mR1\u001b[0m\u001b[1;33m[\u001b[0m\u001b[0mi\u001b[0m\u001b[1;33m]\u001b[0m\u001b[1;33m*\u001b[0m\u001b[0mdz\u001b[0m\u001b[1;33m[\u001b[0m\u001b[0mi\u001b[0m\u001b[1;33m]\u001b[0m\u001b[1;33m\u001b[0m\u001b[0m\n\u001b[1;32m---> 57\u001b[1;33m \u001b[0mT2\u001b[0m\u001b[1;33m[\u001b[0m\u001b[1;33m:\u001b[0m\u001b[1;33m]\u001b[0m\u001b[1;33m=\u001b[0m\u001b[1;33m-\u001b[0m\u001b[0mG\u001b[0m\u001b[1;33m/\u001b[0m\u001b[1;33m(\u001b[0m\u001b[0mf\u001b[0m\u001b[1;33m*\u001b[0m\u001b[0mrho_0\u001b[0m\u001b[1;33m)\u001b[0m\u001b[1;33m*\u001b[0m\u001b[0mR2\u001b[0m\u001b[1;33m\u001b[0m\u001b[0m\n\u001b[0m",
        "\u001b[1;31mValueError\u001b[0m: could not broadcast input array from shape (30) into shape (100)"
       ]
      }
     ],
     "prompt_number": 18
    },
    {
     "cell_type": "code",
     "collapsed": false,
     "input": [
      "plot(T1[:])"
     ],
     "language": "python",
     "metadata": {},
     "outputs": []
    },
    {
     "cell_type": "code",
     "collapsed": false,
     "input": [
      "plot(T2[:])"
     ],
     "language": "python",
     "metadata": {},
     "outputs": []
    },
    {
     "cell_type": "code",
     "collapsed": false,
     "input": [],
     "language": "python",
     "metadata": {},
     "outputs": []
    }
   ],
   "metadata": {}
  }
 ]
}