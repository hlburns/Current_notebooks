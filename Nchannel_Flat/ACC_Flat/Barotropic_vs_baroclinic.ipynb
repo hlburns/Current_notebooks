{
 "cells": [
  {
   "cell_type": "markdown",
   "metadata": {},
   "source": [
    "# <center> ACC_Baroclinic_Barotropic </center>"
   ]
  },
  {
   "cell_type": "markdown",
   "metadata": {},
   "source": [
    "***\n",
    "**ACC Transport:**\n",
    "\n",
    "The ACC is set by a number of factors: Wind Stress ($\\tau$), Surface buoyancy forcing and remote forcing altering stratification:\n",
    "Transport given by:\n",
    "\\begin{equation}\n",
    "T=\\iint u \\mathrm{d}z\\mathrm{d}y\n",
    "\\end{equation}\n",
    "If you substitute thermal wind into the above equation where thermal wind is given as:\n",
    "\\begin{equation}\n",
    "u_z=\\frac{u_z}{f\\rho_0}\\rho_y\n",
    "\\end{equation}\n",
    "Transport can be given by:\n",
    "\\begin{equation}\n",
    "T=\\frac{g}{f\\rho_0}\\iint \\rho_N -\\rho_S \\, \\mathrm{d}z^2\n",
    "\\end{equation}\n",
    "\n",
    "Which looks like the ACC strength could be set by stratification. Hogg 2010 showed that you can drive the ACC without $\\tau$. Marshall and Radko 2003 suggested transport depends on the wind stress and buoyancy difference. \n",
    "\n",
    "With no diabatic forcing form stress balances wind stress (Ward 2011) so $\\tau\\,=\\,S_{bottom}$ where $S_{bottom}$ is independent of mean flow\n",
    "\n",
    "When diabetic terms are taken into account the there may be a feedback with the meridional layer volume transport - feedbacks with ACC and overturning?\n",
    "\n",
    "***\n",
    "\n",
    "**What can my model tell me?**\n",
    "\n",
    "* To what extent is the ACC controlled by stratification?\n",
    "\n",
    "* If it is a significant control this will change in my model! My winds remian the same all that changes is stratification!!\n",
    "\n",
    "* Do my transports match?\n",
    "\n",
    "* This is over the ACC so where do you define the boundary of the ACC in the model? "
   ]
  },
  {
   "cell_type": "code",
   "execution_count": 2,
   "metadata": {
    "collapsed": true
   },
   "outputs": [],
   "source": [
    "# Load Modules\n",
    "import netCDF4\n",
    "import numpy as np\n",
    "import matplotlib.pyplot as plt\n",
    "import os\n",
    "import sys\n",
    "sys.path.append('/noc/users/hb1g13/Python/python_functions/')\n",
    "import useful as hb\n",
    "from HB_Plot import nf, fmt\n",
    "%matplotlib inline"
   ]
  },
  {
   "cell_type": "code",
   "execution_count": null,
   "metadata": {
    "collapsed": true
   },
   "outputs": [],
   "source": [
    "Year = 'TAV.nc'\n",
    "# tau=['3','10','30','100','300','1000','3000','10000','Closed']\n",
    "tau = ['3', '300', '3000', 'Closed']\n",
    "Figletter = ['a) ','b) ','c) ','d) ']\n",
    "x = '/noc/msm/scratch/students/hb1g13/Mobilis'\n",
    "\n",
    "# Now Make file structure\n",
    "check = 0\n",
    "runs = []\n",
    "for i in range(len(tau)):\n",
    "    flist = x+'/'+str(tau[i])+'daynokpp/'+Year\n",
    "    if not os.path.exists(flist):\n",
    "        print ' WARNING: '+flist+' does not exist! (skipping this tau...)'\n",
    "        check += 0\n",
    "    else:\n",
    "        check += 1\n",
    "        runs.append(i) \n",
    "gridfilepath = x+'/'+str(tau[0])+'daynokpp/'\n",
    "file2 = netCDF4.Dataset(gridfilepath+'grid.nc', 'r')\n",
    "Zp = file2.variables['Zp1'][:]\n",
    "Z = file2.variables['Z'][:]\n",
    "Y = file2.variables['Yp1'][:]\n",
    "Yc = file2.variables['Y'][:]\n",
    "X=file2.variables['Xp1']\n",
    "Xp=X[:]\n",
    "Zmatrix = np.zeros((len(Z), len(Y)))\n",
    "Zmatrix[:, :] = 1\n",
    "dx = Y[1]-Y[0]  # Find Resolution\n",
    "dz = Zp[0:len(Zp)-1]-Zp[1:len(Zp)]\n",
    "Zmatrix = np.apply_along_axis(np.multiply, 0, Zmatrix, dz)\n",
    "Runs=np.array(runs)"
   ]
  },
  {
   "cell_type": "code",
   "execution_count": null,
   "metadata": {
    "collapsed": true
   },
   "outputs": [],
   "source": [
    "# Constant Parameters\n",
    "alpha=2.000000E-04\n",
    "G=-9.81\n",
    "rho_0=1000\n",
    "C_p=3985\n",
    "Res=5000\n",
    "Ly=2000e3\n",
    "Lx=1000e3 \n",
    "H=2985 \n",
    "nz=30 \n",
    "f=-1.000000E-04\n",
    "tref=4.0\n",
    "dz=Zp[0:len(Zp)-1]-Zp[1:len(Zp)]"
   ]
  },
  {
   "cell_type": "code",
   "execution_count": null,
   "metadata": {
    "collapsed": true
   },
   "outputs": [],
   "source": [
    "T1=zeros(shape(Runs))\n",
    "T2=zeros(shape(Runs))\n",
    "tau=['3','10','30','100','300','1000','3000','10000','Closed']\n",
    "for I in range(len(Runs)):\n",
    "    filename=x+'/'+str(tau[Runs[I]])+'daynokpp/'+Year\n",
    "    file2read = netcdf.NetCDFFile(filename,'r')\n",
    "    U=file2read.variables[\"UVEL\"]\n",
    "    U=U[:]\n",
    "    Temp=file2read.variables['THETA']\n",
    "    Temp=Temp[:]*1\n",
    "    Ubar=np.mean(U,axis=0)\n",
    "    Uzone=np.nansum(Ubar,axis = 2)*5000\n",
    "    dz=Zp[0:len(Zp)-1]-Zp[1:len(Zp)]\n",
    "    # Got rid of for loop here (much quicker!!)\n",
    "    psi2=np.apply_along_axis(np.multiply,0,Uzone,dz)\n",
    "    psi=np.cumsum(psi2[::-1,:],axis=0)\n",
    "    npad = ((0,1), (0,0))\n",
    "    # Pad with zeros at bottom\n",
    "    psi = np.pad(psi, pad_width=npad, mode='constant', constant_values=0)\n",
    "    y =Y/1000\n",
    "    Psi=psi/10**6\n",
    "    T1[I]=np.max(Psi)\n",
    "    #Udy=np.sum(Ubar*Res,axis=2)\n",
    "    ACC=np.zeros((len(Z),len(Yc),len(Xp)))\n",
    "    for ix in range(len(Yc)):\n",
    "        for j in range(len(Xp)):\n",
    "            for k in range(0,len(Z)-1):\n",
    "                ACC[k,ix,j] = dz[k]*Ubar[k,ix,j]\n",
    "    ACCf=np.cumsum(ACC[::-1,:,:],axis=0)\n",
    "    ACCf[ACCf<0.15]=0 # only over ACC!\n",
    "    ACC=np.mean(np.sum(ACCf[::-1,:,:],axis=1))\n",
    "    #T1[I]=np.max(ACC)\n",
    "    Tav=np.mean(Temp,axis=0)\n",
    "    Tavlat=np.mean(Tav,axis=2)\n",
    "    Dens=np.zeros(shape(Tavlat))\n",
    "    Densdz=np.zeros(shape(Tavlat[:,1]))  \n",
    "    R2=np.zeros(shape(Tavlat[:,1]))\n",
    "    Dens=rho_0*(1-(alpha*(Tavlat-tref)))\n",
    "    RhoN=np.mean(Dens[::-1,-120:-80],axis=1)\n",
    "    RhoS=np.mean(Dens[::-1,80:120],axis=1)\n",
    "    dz=Zp[0:len(Zp)-1]-Zp[1:len(Zp)]\n",
    "    for i in range(len(Z)):\n",
    "        Densdz[i]=(RhoN[i]-RhoS[i])*dz[i]\n",
    "    R1=np.cumsum(Densdz)\n",
    "    for i in range(len(Z)):\n",
    "        R2[i]=R1[i]*dz[i]\n",
    "    T2[I]=-G/(f*rho_0)*np.sum(R2)\n"
   ]
  }
 ],
 "metadata": {
  "kernelspec": {
   "display_name": "SLEDpy",
   "language": "python",
   "name": "python2"
  },
  "language_info": {
   "codemirror_mode": {
    "name": "ipython",
    "version": 2
   },
   "file_extension": ".py",
   "mimetype": "text/x-python",
   "name": "python",
   "nbconvert_exporter": "python",
   "pygments_lexer": "ipython2",
   "version": "2.7.10"
  }
 },
 "nbformat": 4,
 "nbformat_minor": 0
}
