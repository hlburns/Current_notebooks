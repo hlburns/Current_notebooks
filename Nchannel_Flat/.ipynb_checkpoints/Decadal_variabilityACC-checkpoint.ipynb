{
 "metadata": {
  "name": "",
  "signature": "sha256:ec865545c60a813b8a9d4122227926e4b595ea1682f05c2a4643de91d75b23b5"
 },
 "nbformat": 3,
 "nbformat_minor": 0,
 "worksheets": [
  {
   "cells": [
    {
     "cell_type": "heading",
     "level": 1,
     "metadata": {},
     "source": [
      "Decadal Variability in the ACC\n"
     ]
    },
    {
     "cell_type": "markdown",
     "metadata": {},
     "source": [
      "**Alain's email:**\n",
      "\n",
      "ACC configuration with buoyancy flux forcing at the surface might be conducive to decadal variability in that region. Thierry Huck, Florian, Olivier Arzel continue to work on the idea that large scale baroclinic instability is key to its presence in climate models. Here with eddy resolving capabilities, it would be quite nice to see that kind of signal if any. On the observational side the White  and Peterson Antarctic circumpolar wave looks transient but no consensus on explanations and so there could be a link there too.\n",
      "\n",
      "***\n",
      "\n",
      "**Outline:**\n",
      "\n",
      "* Really for this all I care about is the 3 day run\n",
      "* ACC MOC and ROC Cell Maxes from yearly averages should be good\n",
      "* So far I have 100 yr time series from 200-300 yrs"
     ]
    },
    {
     "cell_type": "code",
     "collapsed": false,
     "input": [
      "from scipy.io import netcdf\n",
      "import numpy as np\n",
      "import matplotlib.pyplot as plt\n",
      "import os\n",
      "import csv\n",
      "import sys\n",
      "import glob"
     ],
     "language": "python",
     "metadata": {},
     "outputs": [],
     "prompt_number": 2
    },
    {
     "cell_type": "code",
     "collapsed": false,
     "input": [
      "Years='200-300'\n",
      "x='/hpcdata/scratch/hb1g13/NchannelFlat/3daynokpp'\n",
      "file2=netcdf.netcdf_file(x+'/grid.nc','r')\n",
      "Zp1=file2.variables['Zp1']\n",
      "Zp=Zp1[:]*1\n",
      "Z=file2.variables['Z']\n",
      "Z=Z[:]\n",
      "Y=file2.variables['Yp1']\n",
      "Y=Y[:]\n",
      "Yc=file2.variables['Y']\n",
      "Yc=Yc[:]\n",
      "X=file2.variables['Xp1']\n",
      "Xp=X[:]"
     ],
     "language": "python",
     "metadata": {},
     "outputs": [],
     "prompt_number": 3
    },
    {
     "cell_type": "code",
     "collapsed": false,
     "input": [
      "# Constant Parameters\n",
      "alpha=2.000000E-04\n",
      "G=-9.81\n",
      "rho_0=1000\n",
      "C_p=3985\n",
      "Res=5000\n",
      "Ly=2000e3\n",
      "Lx=1000e3 \n",
      "H=2985 \n",
      "nz=30 \n",
      "f=-1.000000E-04\n",
      "tref=4.0\n",
      "dz=Zp[0:len(Zp)-1]-Zp[1:len(Zp)]"
     ],
     "language": "python",
     "metadata": {},
     "outputs": [],
     "prompt_number": 4
    },
    {
     "cell_type": "code",
     "collapsed": false,
     "input": [
      "T1=zeros((100))\n",
      "T2=zeros((100))\n",
      "filename=x+'/200-300yrly.nc'\n",
      "file2read = netcdf.NetCDFFile(filename,'r')\n",
      "U=file2read.variables[\"UVEL\"]\n",
      "U=U[:]\n",
      "Temp=file2read.variables['THETA']\n",
      "Temp=Temp[:]*1\n",
      "V=file2read.variables[\"VVEL\"]\n",
      "V=V[:]\n",
      "Uzone=np.nansum(U,axis = 3)*5000\n",
      "dz=Zp[0:len(Zp)-1]-Zp[1:len(Zp)]\n",
      "# Got rid of for loop here (much quicker!!)\n",
      "psi2=np.apply_along_axis(np.multiply,1,Uzone,dz)\n",
      "psi=np.cumsum(psi2[:,::-1,:],axis=1)\n",
      "npad = ((0,0),(0,1), (0,0))\n",
      "# Pad with zeros at bottom\n",
      "psi = np.pad(psi, pad_width=npad, mode='constant', constant_values=0)\n",
      "y =Y/1000\n",
      "Psi=psi/10**6\n",
      "Vzone=np.nansum(Vtave,axis = 2)*dx\n",
      "dz=Zp[0:len(Zp)-1]-Zp[1:len(Zp)]\n",
      "# Got rid of for loop here (much quicker!!)\n",
      "psi2=np.apply_along_axis(np.multiply,0,Vzone,dz)\n",
      "psi=np.cumsum(-psi2[::-1,:],axis=0)\n",
      "npad = ((0,1), (0,0))\n",
      "# Pad with zeros at bottom\n",
      "psi = np.pad(psi, pad_width=npad, mode='constant', constant_values=0)\n",
      "y =Y/1000\n",
      "Psi=psi/10**6 #Convert to Sv\n",
      "#T1[I,:]=Psi\n",
      "#Udy=np.sum(Ubar*Res,axis=2)\n",
      "ACC=np.zeros((100,len(Z),len(Yc),len(Xp)))\n",
      "for t in range(len(U[:,1,1,1])):\n",
      "    for ix in range(len(Yc)):\n",
      "        for j in range(len(Xp)):\n",
      "            for k in range(0,len(Z)-1):\n",
      "                ACC[t,k,ix,j] = dz[k]*U[t,k,ix,j]\n",
      "ACCf=np.cumsum(ACC[:,::-1,:,:],axis=1)\n",
      "ACC=np.mean(np.sum(ACCf[:,::-1,100:300,:],axis=2),axis=2)\n",
      "T1[:]=np.max(ACC,axis=1)\n",
      "Tav=np.mean(Temp,axis=0)\n",
      "Tavlat=np.mean(Tav,axis=2)\n",
      "Dens=np.zeros(shape(Tavlat))\n",
      "Densdz=np.zeros(shape(Tavlat[:,1]))  \n",
      "R2=np.zeros(shape(Tavlat[:,1]))\n",
      "Dens=rho_0*(1-(alpha*(Tavlat-tref)))\n",
      "RhoN=np.mean(Dens[::-1,-120:-80],axis=1)\n",
      "RhoS=np.mean(Dens[::-1,80:120],axis=1)\n",
      "dz=Zp[0:len(Zp)-1]-Zp[1:len(Zp)]\n",
      "for i in range(len(Z)):\n",
      "    Densdz[i]=(RhoN[i]-RhoS[i])*dz[i]\n",
      "R1=np.cumsum(Densdz)\n",
      "for i in range(len(Z)):\n",
      "    R2[i]=R1[i]*dz[i]\n",
      "T2[:]=-G/(f*rho_0)*np.sum(R2)\n"
     ],
     "language": "python",
     "metadata": {},
     "outputs": [],
     "prompt_number": 7
    },
    {
     "cell_type": "code",
     "collapsed": false,
     "input": [
      "plot(T1[:])"
     ],
     "language": "python",
     "metadata": {},
     "outputs": [
      {
       "metadata": {},
       "output_type": "pyout",
       "prompt_number": 9,
       "text": [
        "[<matplotlib.lines.Line2D at 0x2b875e46a450>]"
       ]
      },
      {
       "metadata": {},
       "output_type": "display_data",
       "png": "[encoded data removed]",
       "text": [
        "<matplotlib.figure.Figure at 0x2b864e5da710>"
       ]
      }
     ],
     "prompt_number": 9
    },
    {
     "cell_type": "code",
     "collapsed": false,
     "input": [
      "def savitzky_golay(y, window_size, order, deriv=0, rate=1):\n",
      "    r\"\"\"Smooth (and optionally differentiate) data with a Savitzky-Golay filter.\n",
      "    The Savitzky-Golay filter removes high frequency noise from data.\n",
      "    It has the advantage of preserving the original shape and\n",
      "    features of the signal better than other types of filtering\n",
      "    approaches, such as moving averages techniques.\n",
      "    Parameters\n",
      "    ----------\n",
      "    y : array_like, shape (N,)\n",
      "        the values of the time history of the signal.\n",
      "    window_size : int\n",
      "        the length of the window. Must be an odd integer number.\n",
      "    order : int\n",
      "        the order of the polynomial used in the filtering.\n",
      "        Must be less then `window_size` - 1.\n",
      "    deriv: int\n",
      "        the order of the derivative to compute (default = 0 means only smoothing)\n",
      "    Returns\n",
      "    -------\n",
      "    ys : ndarray, shape (N)\n",
      "        the smoothed signal (or it's n-th derivative).\n",
      "    Notes\n",
      "    -----\n",
      "    The Savitzky-Golay is a type of low-pass filter, particularly\n",
      "    suited for smoothing noisy data. The main idea behind this\n",
      "    approach is to make for each point a least-square fit with a\n",
      "    polynomial of high order over a odd-sized window centered at\n",
      "    the point.\n",
      "    Examples\n",
      "    --------\n",
      "    t = np.linspace(-4, 4, 500)\n",
      "    y = np.exp( -t**2 ) + np.random.normal(0, 0.05, t.shape)\n",
      "    ysg = savitzky_golay(y, window_size=31, order=4)\n",
      "    import matplotlib.pyplot as plt\n",
      "    plt.plot(t, y, label='Noisy signal')\n",
      "    plt.plot(t, np.exp(-t**2), 'k', lw=1.5, label='Original signal')\n",
      "    plt.plot(t, ysg, 'r', label='Filtered signal')\n",
      "    plt.legend()\n",
      "    plt.show()\n",
      "    References\n",
      "    ----------\n",
      "    .. [1] A. Savitzky, M. J. E. Golay, Smoothing and Differentiation of\n",
      "       Data by Simplified Least Squares Procedures. Analytical\n",
      "       Chemistry, 1964, 36 (8), pp 1627-1639.\n",
      "    .. [2] Numerical Recipes 3rd Edition: The Art of Scientific Computing\n",
      "       W.H. Press, S.A. Teukolsky, W.T. Vetterling, B.P. Flannery\n",
      "       Cambridge University Press ISBN-13: 9780521880688\n",
      "    \"\"\"\n",
      "    import numpy as np\n",
      "    from math import factorial\n",
      "\n",
      "    try:\n",
      "        window_size = np.abs(np.int(window_size))\n",
      "        order = np.abs(np.int(order))\n",
      "    except ValueError, msg:\n",
      "        raise ValueError(\"window_size and order have to be of type int\")\n",
      "    if window_size % 2 != 1 or window_size < 1:\n",
      "        raise TypeError(\"window_size size must be a positive odd number\")\n",
      "    if window_size < order + 2:\n",
      "        raise TypeError(\"window_size is too small for the polynomials order\")\n",
      "    order_range = range(order+1)\n",
      "    half_window = (window_size -1) // 2\n",
      "    # precompute coefficients\n",
      "    b = np.mat([[k**i for i in order_range] for k in range(-half_window, half_window+1)])\n",
      "    m = np.linalg.pinv(b).A[deriv] * rate**deriv * factorial(deriv)\n",
      "    # pad the signal at the extremes with\n",
      "    # values taken from the signal itself\n",
      "    firstvals = y[0] - np.abs( y[1:half_window+1][::-1] - y[0] )\n",
      "    lastvals = y[-1] + np.abs(y[-half_window-1:-1][::-1] - y[-1])\n",
      "    y = np.concatenate((firstvals, y, lastvals))\n",
      "    return np.convolve( m[::-1], y, mode='valid')"
     ],
     "language": "python",
     "metadata": {},
     "outputs": [],
     "prompt_number": 10
    },
    {
     "cell_type": "code",
     "collapsed": false,
     "input": [
      "yhat = savitzky_golay(T1, 11, 2)"
     ],
     "language": "python",
     "metadata": {},
     "outputs": [],
     "prompt_number": 37
    },
    {
     "cell_type": "code",
     "collapsed": false,
     "input": [
      "plot(yhat)"
     ],
     "language": "python",
     "metadata": {},
     "outputs": [
      {
       "metadata": {},
       "output_type": "pyout",
       "prompt_number": 38,
       "text": [
        "[<matplotlib.lines.Line2D at 0x2b86af96d1d0>]"
       ]
      },
      {
       "metadata": {},
       "output_type": "display_data",
       "png": "[encoded data removed]",
       "text": [
        "<matplotlib.figure.Figure at 0x2b86af8ef4d0>"
       ]
      }
     ],
     "prompt_number": 38
    },
    {
     "cell_type": "code",
     "collapsed": false,
     "input": [],
     "language": "python",
     "metadata": {},
     "outputs": []
    }
   ],
   "metadata": {}
  }
 ]
}