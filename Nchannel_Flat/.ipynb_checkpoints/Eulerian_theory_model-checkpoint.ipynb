{
 "metadata": {
  "name": "",
  "signature": "sha256:947867304ddf6ad8ec9513ff19c1e4306af30c17af44df172d0b0f91608edd2f"
 },
 "nbformat": 3,
 "nbformat_minor": 0,
 "worksheets": [
  {
   "cells": [
    {
     "cell_type": "code",
     "collapsed": false,
     "input": [
      "from scipy.io import netcdf\n",
      "import numpy as np\n",
      "import matplotlib.pyplot as plt\n",
      "import os\n",
      "import csv\n",
      "import sys\n",
      "import glob\n",
      "import matplotlib.gridspec as gridspec"
     ],
     "language": "python",
     "metadata": {},
     "outputs": [],
     "prompt_number": 14
    },
    {
     "cell_type": "code",
     "collapsed": false,
     "input": [
      "path='/hpcdata/scratch/hb1g13/NchannelFlat'"
     ],
     "language": "python",
     "metadata": {},
     "outputs": [],
     "prompt_number": 15
    },
    {
     "cell_type": "code",
     "collapsed": false,
     "input": [
      "gridfilepath=path+'/3daynokpp/'\n",
      "file2=netcdf.netcdf_file(gridfilepath+'grid.nc','r')\n",
      "Zp1=file2.variables['Zp1']\n",
      "Zp=Zp1[:]*1\n",
      "Z=file2.variables['Z']\n",
      "Z=Z[:]\n",
      "Y=file2.variables['Yp1']\n",
      "Y1=Y[:]\n",
      "Yc=file2.variables['Y']\n",
      "Yc=Yc[:]\n",
      "X=file2.variables['Xp1']\n",
      "Xp=X[:]"
     ],
     "language": "python",
     "metadata": {},
     "outputs": [],
     "prompt_number": 16
    },
    {
     "cell_type": "code",
     "collapsed": false,
     "input": [
      "# Constant Parameters\n",
      "alpha=2.000000E-04\n",
      "G=-9.81\n",
      "C_p=3985\n",
      "Res=5000\n",
      "Ly=2000e3\n",
      "Lx=1000e3 \n",
      "H=2985 \n",
      "nz=30 \n",
      "f=-1.000000E-04\n",
      "Beta=1.000000E-11\n",
      "tref=4.0\n",
      "alpha=2.000000E-04\n",
      "G=-9.81\n",
      "rho_0=999.8\n",
      "dz=Zp[0:len(Zp)-1]-Zp[1:len(Zp)]"
     ],
     "language": "python",
     "metadata": {},
     "outputs": [],
     "prompt_number": 62
    },
    {
     "cell_type": "code",
     "collapsed": false,
     "input": [
      "rho_0"
     ],
     "language": "python",
     "metadata": {},
     "outputs": [
      {
       "metadata": {},
       "output_type": "pyout",
       "prompt_number": 63,
       "text": [
        "999.8"
       ]
      }
     ],
     "prompt_number": 63
    },
    {
     "cell_type": "code",
     "collapsed": false,
     "input": [
      "filename='/hpcdata/scratch/hb1g13/NchannelFlat/3daynokpp/Tav.nc'\n",
      "file2read = netcdf.NetCDFFile(filename,'r')\n",
      "V=file2read.variables[\"VVEL\"][:]\n",
      "Vtave=np.mean(V,axis = 0)\n",
      "Vtave[Vtave==0]=np.nan\n",
      "Vzone=np.nansum(Vtave,axis = 2)*5000\n",
      "dz=Zp[0:len(Zp)-1]-Zp[1:len(Zp)]\n",
      "# Got rid of for loop here (much quicker!!)\n",
      "psi2=np.apply_along_axis(np.multiply,0,Vzone,dz)\n",
      "psi=np.cumsum(-psi2[::-1,:],axis=0)\n",
      "npad = ((0,1), (0,0))\n",
      "# Pad with zeros at bottom\n",
      "psi = np.pad(psi, pad_width=npad, mode='constant', constant_values=0)\n",
      "y =Yc/1000\n",
      "Psi=psi/10**6 #Convert to Sv"
     ],
     "language": "python",
     "metadata": {},
     "outputs": [],
     "prompt_number": 64
    },
    {
     "cell_type": "code",
     "collapsed": false,
     "input": [
      "Lx=1000*10**3\n",
      "Ly=2000*10**3\n",
      "nx=np.round(Lx/Res)\n",
      "ny=np.round(Ly/Res)\n",
      "dx=np.ones(nx)*Res\n",
      "dy=np.ones(ny)*Res\n",
      "x=(np.cumsum(dx)-dx/2)-Lx/2\n",
      "y=(np.cumsum(dy)-dy/2)-Ly/2\n",
      "[Z1, Y, X]=np.meshgrid(Z,y,x)\n",
      "tau=0.2*((np.sin((Y+Ly/2)*(pi/Ly)))) \n",
      "psi=- np.apply_along_axis(np.divide,0,tau,rho_0*(f+(Beta*np.cumsum(dy))))\n",
      "psi=np.sum(5000*psi,axis=2)/10**6\n",
      "npad = ((0,0), (0,2))\n",
      "psi = np.pad(psi[:,0:-1], pad_width=npad, mode='constant', constant_values=0)"
     ],
     "language": "python",
     "metadata": {},
     "outputs": [],
     "prompt_number": 68
    },
    {
     "cell_type": "code",
     "collapsed": false,
     "input": [
      "fig=plt.figure(figsize=(12.5,6.5))\n",
      "Q_levs = np.arange(0.5,25.5,1.5)\n",
      "Psi_levs = Q_levs / 10\n",
      "Q_ticks = np.arange(0.,30.,3.)\n",
      "Psi_ticks = Q_ticks / 10\n",
      "ax = fig.add_subplot(1, 2, 1)\n",
      "p=ax.contourf(Yc/1000,Zp1[:]/1000,np.transpose(psi),Psi_levs,cmap=cm.Reds)\n",
      "ax.set_title('$\\overline{\\psi}$', fontsize=30)\n",
      "ax.set_xlabel('Distance (km)', fontsize=20)\n",
      "ax.set_ylabel('Depth (km)', fontsize=20)\n",
      "ax = fig.add_subplot(1, 2, 2)\n",
      "ax.contourf(Y1/1000,Zp1[:]/1000,Psi,Psi_levs,cmap=cm.Reds)\n",
      "ax.set_title('$\\overline{\\psi}$', fontsize=30)\n",
      "ax.set_xlabel('Distance (km)', fontsize=20)\n",
      "ax.set_ylabel('Depth (km)', fontsize=20)\n",
      "#cbar.set_label('$\\psi \\,\\, (sv)$', fontsize=20)\n",
      "plt.tight_layout()\n",
      "cax = fig.add_axes([1, 0.1, 0.03, 0.8])\n",
      "cbar=fig.colorbar(p, cax=cax, ticks=Psi_ticks)\n",
      "cbar.ax.set_ylabel('$\\psi$ (Sv)', fontsize=30)"
     ],
     "language": "python",
     "metadata": {},
     "outputs": [
      {
       "metadata": {},
       "output_type": "pyout",
       "prompt_number": 70,
       "text": [
        "<matplotlib.text.Text at 0x2aaadc550f50>"
       ]
      },
      {
       "metadata": {},
       "output_type": "display_data",
       "png": "[encoded data removed]",
       "text": [
        "<matplotlib.figure.Figure at 0x2aaadc0e7ed0>"
       ]
      }
     ],
     "prompt_number": 70
    },
    {
     "cell_type": "code",
     "collapsed": false,
     "input": [
      "psi.shape"
     ],
     "language": "python",
     "metadata": {},
     "outputs": [
      {
       "metadata": {},
       "output_type": "pyout",
       "prompt_number": 51,
       "text": [
        "(400, 31)"
       ]
      }
     ],
     "prompt_number": 51
    },
    {
     "cell_type": "code",
     "collapsed": false,
     "input": [
      "plot(tau[:,10,1])"
     ],
     "language": "python",
     "metadata": {},
     "outputs": [
      {
       "metadata": {},
       "output_type": "pyout",
       "prompt_number": 40,
       "text": [
        "[<matplotlib.lines.Line2D at 0x2aaade0cdf10>]"
       ]
      },
      {
       "metadata": {},
       "output_type": "display_data",
       "png": "[encoded data removed]",
       "text": [
        "<matplotlib.figure.Figure at 0x2aaade03cf50>"
       ]
      }
     ],
     "prompt_number": 40
    },
    {
     "cell_type": "code",
     "collapsed": false,
     "input": [
      "f0+beta*np.cumsum(dy)"
     ],
     "language": "python",
     "metadata": {},
     "outputs": [
      {
       "ename": "NameError",
       "evalue": "name 'f0' is not defined",
       "output_type": "pyerr",
       "traceback": [
        "\u001b[1;31m---------------------------------------------------------------------------\u001b[0m\n\u001b[1;31mNameError\u001b[0m                                 Traceback (most recent call last)",
        "\u001b[1;32m<ipython-input-58-c04af0b938d2>\u001b[0m in \u001b[0;36m<module>\u001b[1;34m()\u001b[0m\n\u001b[1;32m----> 1\u001b[1;33m \u001b[0mf0\u001b[0m\u001b[1;33m+\u001b[0m\u001b[0mbeta\u001b[0m\u001b[1;33m*\u001b[0m\u001b[0mnp\u001b[0m\u001b[1;33m.\u001b[0m\u001b[0mcumsum\u001b[0m\u001b[1;33m(\u001b[0m\u001b[0mdy\u001b[0m\u001b[1;33m)\u001b[0m\u001b[1;33m\u001b[0m\u001b[0m\n\u001b[0m",
        "\u001b[1;31mNameError\u001b[0m: name 'f0' is not defined"
       ]
      }
     ],
     "prompt_number": 58
    },
    {
     "cell_type": "code",
     "collapsed": false,
     "input": [
      "beta*np.cumsum(dy)"
     ],
     "language": "python",
     "metadata": {},
     "outputs": [
      {
       "ename": "TypeError",
       "evalue": "unsupported operand type(s) for *: 'builtin_function_or_method' and 'float'",
       "output_type": "pyerr",
       "traceback": [
        "\u001b[1;31m---------------------------------------------------------------------------\u001b[0m\n\u001b[1;31mTypeError\u001b[0m                                 Traceback (most recent call last)",
        "\u001b[1;32m<ipython-input-60-992506962f1c>\u001b[0m in \u001b[0;36m<module>\u001b[1;34m()\u001b[0m\n\u001b[1;32m----> 1\u001b[1;33m \u001b[0mbeta\u001b[0m\u001b[1;33m*\u001b[0m\u001b[0mnp\u001b[0m\u001b[1;33m.\u001b[0m\u001b[0mcumsum\u001b[0m\u001b[1;33m(\u001b[0m\u001b[0mdy\u001b[0m\u001b[1;33m)\u001b[0m\u001b[1;33m\u001b[0m\u001b[0m\n\u001b[0m",
        "\u001b[1;31mTypeError\u001b[0m: unsupported operand type(s) for *: 'builtin_function_or_method' and 'float'"
       ]
      }
     ],
     "prompt_number": 60
    },
    {
     "cell_type": "code",
     "collapsed": false,
     "input": [
      "beta"
     ],
     "language": "python",
     "metadata": {},
     "outputs": [
      {
       "metadata": {},
       "output_type": "pyout",
       "prompt_number": 61,
       "text": [
        "<function beta>"
       ]
      }
     ],
     "prompt_number": 61
    },
    {
     "cell_type": "code",
     "collapsed": false,
     "input": [],
     "language": "python",
     "metadata": {},
     "outputs": []
    }
   ],
   "metadata": {}
  }
 ]
}