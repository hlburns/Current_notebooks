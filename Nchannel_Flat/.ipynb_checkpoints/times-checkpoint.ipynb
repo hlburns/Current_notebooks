{
 "metadata": {
  "name": "",
  "signature": "sha256:0280ebf2e9a36a86639e119010d69d4caaf674d9310faddead7eb6ce2b023269"
 },
 "nbformat": 3,
 "nbformat_minor": 0,
 "worksheets": [
  {
   "cells": [
    {
     "cell_type": "code",
     "collapsed": false,
     "input": [
      "from scipy.io import netcdf\n",
      "import numpy as np\n",
      "import matplotlib.pyplot as plt\n",
      "import os\n",
      "import csv\n",
      "import sys\n",
      "import time\n",
      "import glob\n",
      "from scipy.interpolate import interp1d\n",
      "from scipy import interpolate\n",
      "from numba import autojit\n",
      "from pylab import *"
     ],
     "language": "python",
     "metadata": {},
     "outputs": [],
     "prompt_number": 38
    },
    {
     "cell_type": "code",
     "collapsed": false,
     "input": [
      "x='/hpcdata/scratch/hb1g13/NchannelFlat'"
     ],
     "language": "python",
     "metadata": {},
     "outputs": [],
     "prompt_number": 39
    },
    {
     "cell_type": "code",
     "collapsed": false,
     "input": [
      "times = np.genfromtxt(x+'/Closeddaynokpp/job_times', delimiter = '\\n')"
     ],
     "language": "python",
     "metadata": {},
     "outputs": [],
     "prompt_number": 40
    },
    {
     "cell_type": "code",
     "collapsed": false,
     "input": [
      "times"
     ],
     "language": "python",
     "metadata": {},
     "outputs": [
      {
       "metadata": {},
       "output_type": "pyout",
       "prompt_number": 41,
       "text": [
        "array([  1.43,   1.43,   9.52,   9.52,   0.21,  20.36,  20.36,  10.57,\n",
        "        11.35,  11.35,   1.07,  11.5 ,  11.5 ,   1.45,  13.29,  13.29,\n",
        "         2.47,  12.27,  12.27,   1.1 ,   8.58,   8.58,  23.31,  12.08,\n",
        "        12.08,   4.05,  11.16,  11.16,   6.16,   8.58,   8.58,  23.56,\n",
        "        10.38,  10.38,   2.45,  10.11,  10.11,   9.34,   9.34,  16.39,\n",
        "        20.48,  20.48,   3.38,   8.42,   8.42,  15.17,  15.23,  15.23,\n",
        "        21.53,  13.49,  13.49,   8.27,  11.57,  11.57,   4.  ,  11.  ,\n",
        "        11.  ,   8.4 ,   9.36,   9.36,  23.09,  11.19,  11.19,   9.27,\n",
        "        11.06,  11.06,  10.46,  10.48,  10.48,   7.55,  10.59,  10.59,\n",
        "         3.33,   9.31,   9.31,   5.03,  11.11,  11.11,   6.04,  12.21,\n",
        "        12.21,   8.48,  11.27,  11.27,  11.58,  16.19,  16.19,  18.42,\n",
        "        18.42,   8.33,   9.15,   9.15,  13.58,  20.31,  20.31,   2.18])"
       ]
      }
     ],
     "prompt_number": 41
    },
    {
     "cell_type": "code",
     "collapsed": false,
     "input": [
      "lines = open(x+'/Closeddaynokpp/job_times').read().splitlines()"
     ],
     "language": "python",
     "metadata": {},
     "outputs": [],
     "prompt_number": 42
    },
    {
     "cell_type": "code",
     "collapsed": false,
     "input": [
      "time.strptime(lines[0],\"%H.%M\")"
     ],
     "language": "python",
     "metadata": {},
     "outputs": [
      {
       "metadata": {},
       "output_type": "pyout",
       "prompt_number": 43,
       "text": [
        "time.struct_time(tm_year=1900, tm_mon=1, tm_mday=1, tm_hour=1, tm_min=43, tm_sec=0, tm_wday=0, tm_yday=1, tm_isdst=-1)"
       ]
      }
     ],
     "prompt_number": 43
    },
    {
     "cell_type": "code",
     "collapsed": false,
     "input": [
      "t=np.zeros(shape(lines))\n",
      "for line in range(len(lines)):\n",
      "    h=time.strptime(lines[line],\"%H.%M\")[3]\n",
      "    m=time.strptime(lines[line],\"%H.%M\")[4]/60.0\n",
      "    t[line]=h+m"
     ],
     "language": "python",
     "metadata": {},
     "outputs": [],
     "prompt_number": 59
    },
    {
     "cell_type": "code",
     "collapsed": false,
     "input": [
      "t=t[1::]-t[0:-1]"
     ],
     "language": "python",
     "metadata": {},
     "outputs": [],
     "prompt_number": 57
    },
    {
     "cell_type": "code",
     "collapsed": false,
     "input": [
      "t"
     ],
     "language": "python",
     "metadata": {},
     "outputs": [
      {
       "metadata": {},
       "output_type": "pyout",
       "prompt_number": 60,
       "text": [
        "array([  1.71666667,   1.71666667,   9.86666667,   9.86666667,\n",
        "         0.35      ,  20.6       ,  20.6       ,  10.95      ,\n",
        "        11.58333333,  11.58333333,   1.11666667,  11.83333333,\n",
        "        11.83333333,   1.75      ,  13.48333333,  13.48333333,\n",
        "         2.78333333,  12.45      ,  12.45      ,   1.16666667,\n",
        "         8.96666667,   8.96666667,  23.51666667,  12.13333333,\n",
        "        12.13333333,   4.08333333,  11.26666667,  11.26666667,\n",
        "         6.26666667,   8.96666667,   8.96666667,  23.93333333,\n",
        "        10.63333333,  10.63333333,   2.75      ,  10.18333333,\n",
        "        10.18333333,   9.56666667,   9.56666667,  16.65      ,\n",
        "        20.8       ,  20.8       ,   3.63333333,   8.7       ,\n",
        "         8.7       ,  15.28333333,  15.38333333,  15.38333333,\n",
        "        21.88333333,  13.81666667,  13.81666667,   8.45      ,\n",
        "        11.95      ,  11.95      ,   4.        ,  11.        ,\n",
        "        11.        ,   8.66666667,   9.6       ,   9.6       ,\n",
        "        23.15      ,  11.31666667,  11.31666667,   9.45      ,\n",
        "        11.1       ,  11.1       ,  10.76666667,  10.8       ,\n",
        "        10.8       ,   7.91666667,  10.98333333,  10.98333333,\n",
        "         3.55      ,   9.51666667,   9.51666667,   5.05      ,\n",
        "        11.18333333,  11.18333333,   6.06666667,  12.35      ,\n",
        "        12.35      ,   8.8       ,  11.45      ,  11.45      ,\n",
        "        11.96666667,  16.31666667,  16.31666667,  18.7       ,\n",
        "        18.7       ,   8.55      ,   9.25      ,   9.25      ,\n",
        "        13.96666667,  20.51666667,  20.51666667,   2.3       ])"
       ]
      }
     ],
     "prompt_number": 60
    },
    {
     "cell_type": "code",
     "collapsed": false,
     "input": [],
     "language": "python",
     "metadata": {},
     "outputs": []
    }
   ],
   "metadata": {}
  }
 ]
}