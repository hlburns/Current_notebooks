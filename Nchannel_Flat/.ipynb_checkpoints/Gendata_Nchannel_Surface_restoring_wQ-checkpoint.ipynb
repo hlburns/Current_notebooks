{
 "cells": [
  {
   "cell_type": "markdown",
   "metadata": {},
   "source": [
    "# Generate model inputs"
   ]
  },
  {
   "cell_type": "markdown",
   "metadata": {},
   "source": [
    "## This will set up the forcing for Abernathey Style Forcing\n",
    "\n",
    "This is an example python script for generating the standard channel model, with additional surface restoring."
   ]
  },
  {
   "cell_type": "code",
   "execution_count": 1,
   "metadata": {
    "collapsed": false
   },
   "outputs": [],
   "source": [
    "import numpy as np\n",
    "import matplotlib.pyplot as plt\n",
    "import os\n",
    "import csv\n",
    "import netCDF4\n",
    "import sys\n",
    "import math\n",
    "from pylab import *\n",
    "from IPython.display import display, Math, Latex\n",
    "from numba import jit\n",
    "import glob\n",
    "%matplotlib inline\n",
    "# Use writeFile to write files in the correct format!\n",
    "sys.path.append('/noc/users/hb1g13/Python/python_functions/')\n",
    "from Writebin import *\n",
    "import SG\n",
    "sys.path.append('/noc/users/hb1g13/Python/python_functions/MITgcmUtils/')\n",
    "import utils"
   ]
  },
  {
   "cell_type": "markdown",
   "metadata": {},
   "source": [
    "When writing in python it is very important to note reverse dimensions!!\n",
    "MITgcm assumes column major order (as does matlab) Python, uses row major order.\n",
    "Mosty it's fine just to write straight to binary, but to absolutely specific of the format for MITgcm the WriteFile fuction (taken from the MITgcm csv gendata.py):"
   ]
  },
  {
   "cell_type": "markdown",
   "metadata": {},
   "source": [
    "## Decide parameters:"
   ]
  },
  {
   "cell_type": "raw",
   "metadata": {},
   "source": [
    "Resolution \n",
    "Depth\n",
    "Domain\n",
    "Boundary Condition\n",
    "Topography\n",
    "Forcing"
   ]
  },
  {
   "cell_type": "code",
   "execution_count": 2,
   "metadata": {
    "collapsed": false
   },
   "outputs": [],
   "source": [
    "Topo = \"flat\"  # Please Choose ridge, slope or flat\n",
    "Wind = \"Standard\"  # Sine bell 0.2N/m$^2$\n",
    "Heat = \"nonetQ\"  # Please Choose Abernathey or nonetQ\n",
    "BC = \"Sponge\"  # Please Choose Sponge or Diffusion\n",
    "Name = \"My_restoring_90wQ\"  # Give Experiment Name\n",
    "N = 1e3 # Set stratification\n",
    "deltaT0 = 8 # top to bottom temp diff\n",
    "N0 = 1000 # Natural stratification"
   ]
  },
  {
   "cell_type": "code",
   "execution_count": 3,
   "metadata": {
    "collapsed": false
   },
   "outputs": [],
   "source": [
    "# Adjust accordingly\n",
    "Res = 5000 # Resolution (m)\n",
    "Ly = 2000e3 # Domain legth\n",
    "Lx = 1000e3 #Full domain = 4000km otherwise 1000km\n",
    "H = 3000.0 # Depth\n",
    "nz = 30 # Diffusion = 24 level, Sponge= 30 levels"
   ]
  },
  {
   "cell_type": "code",
   "execution_count": 4,
   "metadata": {
    "collapsed": false
   },
   "outputs": [],
   "source": [
    "# File structure\n",
    "x = ( os.path.expanduser('~')+\"/MITgcm/\"+Name+\"/input/\")\n",
    "if not os.path.exists(x):\n",
    "       os.makedirs(x) \n",
    "os.chdir(x)"
   ]
  },
  {
   "cell_type": "markdown",
   "metadata": {},
   "source": [
    "## Set up grid:"
   ]
  },
  {
   "cell_type": "code",
   "execution_count": 5,
   "metadata": {
    "collapsed": false
   },
   "outputs": [],
   "source": [
    "#Dimensions\n",
    "nx = int(np.round(Lx/Res))\n",
    "ny = int(np.round(Ly/Res))\n",
    "dx = np.ones(nx)*Res\n",
    "dy = np.ones(ny)*Res\n",
    "#Write binary output\n",
    "writeFile('delY',dy)\n",
    "writeFile('delX',dx)\n",
    "# Create c-grid with grid points in dead center\n",
    "x = (np.cumsum(dx)-dx/2)-Lx/2\n",
    "y = (np.cumsum(dy)-dy/2)-Ly/2\n",
    "[Y, X] = np.meshgrid(y, x) "
   ]
  },
  {
   "cell_type": "markdown",
   "metadata": {},
   "source": [
    "## Now Create topography:"
   ]
  },
  {
   "cell_type": "markdown",
   "metadata": {},
   "source": [
    "Start with flat, then add slope and ridges"
   ]
  },
  {
   "cell_type": "code",
   "execution_count": 6,
   "metadata": {
    "collapsed": false
   },
   "outputs": [],
   "source": [
    "h= -H*np.ones((nx,ny)) # Flat bottom\n",
    "if Topo == \"ridge\":#2500 and 2000 for full depth\n",
    "        h= h+((2500 + 300*np.sin(10*pi*Y/Ly) + 400*np.sin(8*pi*Y/Ly)\n",
    "               + 300*sin(25*pi*Y/Ly) )*(1/np.cosh(((X)-0.2*Y+3e5)/1.2e5)))\n",
    "        h= h+((2000 + 600*np.sin(11*pi*Y/Ly) + 300*np.sin(7*pi*Y/Ly)+\n",
    "               500*sin(21*pi*Y/Ly) )*(1/np.cosh(((X)+0.1*Y+1.5e6)/1.2e5)))\n",
    "if Topo == \"slope\" or Topo==\"ridge\":\n",
    "    for i in range(int(nx)):\n",
    "        slope= np.transpose(H*(np.divide((Y[i,0:round(0.2*ny)]\n",
    "                                          -Y[i,0]),(Y[i,0]-Y[i,round(0.2*ny)]))))\n",
    "        h2 = h[:,0:round(0.2*ny)]\n",
    "        h[:,0:round(0.2*ny)]=np.maximum(slope,h2)\n",
    "# Close both ends\n",
    "h[:,0] = 0\n",
    "h[:,-1] = 0\n",
    "# Write to binary\n",
    "writeFile('topog',np.transpose(h))"
   ]
  },
  {
   "cell_type": "code",
   "execution_count": 7,
   "metadata": {
    "collapsed": false
   },
   "outputs": [
    {
     "data": {
      "image/png": "[encoded data removed]",
      "text/plain": [
       "<matplotlib.figure.Figure at 0x2ab8633a91d0>"
      ]
     },
     "metadata": {},
     "output_type": "display_data"
    }
   ],
   "source": [
    "fig1 = plt.figure()\n",
    "if Topo == \"flat\" or Topo == \"slope\":\n",
    "    plt.plot(y/1000,h[nx/2,:])\n",
    "    plt.title('Topography')\n",
    "    plt.ylabel('Depth (m)')\n",
    "    plt.xlabel('Y (km)')\n",
    "if Topo == 'ridge':\n",
    "    # plt.contourf(x/1000,y/1000,np.transpose(h),30)\n",
    "    plt.contourf(np.transpose(h))\n",
    "    cb = plt.colorbar()\n",
    "    plt.title('Topography')\n",
    "    plt.ylabel('Y (km)')\n",
    "    plt.xlabel('X (km)')\n",
    "    cb.set_label('Depth (m)')\n",
    "# netcdf check\n",
    "f = netCDF4.Dataset('topog.nc','w')\n",
    "f.createDimension('X',nx)\n",
    "f.createDimension('Y',ny)\n",
    "h2=f.createVariable('h','float',('X','Y'))\n",
    "h2[:] = h\n",
    "f.close()\n"
   ]
  },
  {
   "cell_type": "markdown",
   "metadata": {},
   "source": [
    "## Windstress"
   ]
  },
  {
   "cell_type": "markdown",
   "metadata": {},
   "source": [
    "Plus the Windress with $\\tau_o$ set to $0.2Nm^-2$\n",
    "\n",
    "$\\tau_s(y)=\\tau_0 sin(\\frac{\\pi y}{Ly})$"
   ]
  },
  {
   "cell_type": "code",
   "execution_count": 8,
   "metadata": {
    "collapsed": false
   },
   "outputs": [],
   "source": [
    "tau=0.2*((np.sin((Y+Ly/2)*(pi/Ly)))) #Y is centred at 0 so put that back!\n",
    "if BC=='Diffusion':\n",
    "    Taunew = tau + 2e-3 * (np.random.random((nx,ny)) - 0.5)\n",
    "    tau=Taunew\n",
    "# Write to binary\n",
    "writeFile('Wind',np.transpose(tau))\n",
    "# netcdf check\n",
    "f = netCDF4.Dataset('Wind.nc','w')\n",
    "f.createDimension('Xp1',nx+1)\n",
    "f.createDimension('Y',ny)\n",
    "tau3=np.zeros((ny,nx+1))\n",
    "tau3[:,1:]=np.transpose(tau)\n",
    "tau2=f.createVariable('tau','double',('Xp1','Y'))\n",
    "tau2[:]=np.transpose(tau3)\n",
    "f.close()"
   ]
  },
  {
   "cell_type": "code",
   "execution_count": 9,
   "metadata": {
    "collapsed": false
   },
   "outputs": [
    {
     "data": {
      "text/plain": [
       "<matplotlib.text.Text at 0x2ab848301b50>"
      ]
     },
     "execution_count": 9,
     "metadata": {},
     "output_type": "execute_result"
    },
    {
     "data": {
      "image/png": "[encoded data removed]",
      "text/plain": [
       "<matplotlib.figure.Figure at 0x2ab863392710>"
      ]
     },
     "metadata": {},
     "output_type": "display_data"
    }
   ],
   "source": [
    "plt.plot(y/1000,tau[100,:])\n",
    "plt.title('Surface Wind Stress $N/m^2$')\n",
    "plt.ylabel('$\\tau$ ($N/m^2$)')\n",
    "plt.xlabel('Meridional Distance (m)')"
   ]
  },
  {
   "cell_type": "code",
   "execution_count": 10,
   "metadata": {
    "collapsed": false
   },
   "outputs": [],
   "source": [
    "#MITgcm opposite way round\n",
    "Q_0 = 2\n",
    "Q=Q_0*(np.sin(Y*(3*pi/Ly)))\n",
    "Q[:,ny-(np.round(ny/6)):ny]=0\n",
    "x1 = (np.cumsum(dx)-dx/2)\n",
    "y1 = (np.cumsum(dy)-dy/2)\n",
    "[Y1, X1] = np.meshgrid(y1, x1) \n",
    "if Heat==\"nonetQ\":\n",
    "    Q[:,0:int(5*ny/36)]=Q_0*(np.cos(Y1[:,0:int(5*ny/36)]*(pi/(Y1[1,int(10*ny/36)]))))\n",
    "    Q[:,int(5*ny/36):int(20*ny/36)]= -Q_0*(np.sin((Y1[:,int(5*ny/36):int(20*ny/36)]\n",
    "                                                 -Y1[1,int(5*ny/36)])*(pi/(Y1[1,int(15*ny/36)]))))\n",
    "    Q[:,int(20*ny/36):int(30*ny/36)]= Q_0*(np.sin(Y1[:,0:int(10*ny/36)]*(pi/(Y1[1,int(10*ny/36)]))))\n",
    "    Q[:,0:int(30*ny/36)] = Q[:,0:int(30*ny/36)]+(-sum(Q)/(5*ny*nx/6)) \n",
    "# Write to binary\n",
    "writeFile('Qsurface',np.transpose(Q))\n",
    "# netcdf check\n",
    "f=netCDF4.Dataset('Qsurface.nc','w')\n",
    "f.createDimension('X',nx)\n",
    "f.createDimension('Y',ny)\n",
    "Q2=f.createVariable('Q','float',('X','Y'))\n",
    "Q2[:]=Q\n",
    "f.close()"
   ]
  },
  {
   "cell_type": "code",
   "execution_count": 11,
   "metadata": {
    "collapsed": false
   },
   "outputs": [
    {
     "data": {
      "text/plain": [
       "<matplotlib.text.Text at 0x2ab866ade690>"
      ]
     },
     "execution_count": 11,
     "metadata": {},
     "output_type": "execute_result"
    },
    {
     "data": {
      "image/png": "[encoded data removed]",
      "text/plain": [
       "<matplotlib.figure.Figure at 0x2ab86337d990>"
      ]
     },
     "metadata": {},
     "output_type": "display_data"
    }
   ],
   "source": [
    "fig1 = plt.figure()\n",
    "plt.plot(y/1000,Q[100,:])\n",
    "plt.title('Surface Heat Flux $W/m^2$')\n",
    "plt.ylabel('Heat Flux ($W/m^2$)')\n",
    "plt.xlabel('Meridional Distance (m)')"
   ]
  },
  {
   "cell_type": "markdown",
   "metadata": {},
   "source": [
    "## Generate Sponge"
   ]
  },
  {
   "cell_type": "raw",
   "metadata": {},
   "source": [
    "Now creat a Sponge mask and a reference profile to relax to:"
   ]
  },
  {
   "cell_type": "code",
   "execution_count": 12,
   "metadata": {
    "collapsed": false
   },
   "outputs": [],
   "source": [
    "# Parameters\n",
    "deltaT = deltaT0#-((N-N0)/N0)\n",
    "Tref = np.zeros(nz)\n",
    "# Create depth array:\n",
    "# Tanh - normal\n",
    "zp = np.linspace(1,0,31)\n",
    "zp = H+H*1.0153*(tanh(-0.9*pi*zp))\n",
    "zp = zp - zp[0]-(zp[1]-zp[0])\n",
    "zp = np.round(zp,2)\n",
    "dz = zp[0:-1] - zp[1::]\n",
    "dz[-3::] = dz[-3]\n",
    "zp[-1] = H\n",
    "zp[1::] = np.cumsum(np.round(dz))\n",
    "zp[0] = 0.5*zp[0]\n",
    "writeFile('delZ',-dz)\n",
    "# Z center points\n",
    "z = zeros((nz))\n",
    "z[1::] = (zp[1:-1]+zp[2::])/2\n",
    "z[0]= zp[0]/2\n",
    "\n"
   ]
  },
  {
   "cell_type": "code",
   "execution_count": 13,
   "metadata": {
    "collapsed": false
   },
   "outputs": [
    {
     "name": "stdout",
     "output_type": "stream",
     "text": [
      "4.39,5.29,6.38,7.68,9.25,11.13,13.38,16.08,19.31,23.14,27.7,33.11,39.49,46.98,55.73,65.88,77.56,90.87,105.88,122.55,140.76,160.29,180.72,201.49,221.85,240.96,257.83,271.54,271.54,271.54\n"
     ]
    }
   ],
   "source": [
    "print  \",\".join(map(str,-dz))"
   ]
  },
  {
   "cell_type": "markdown",
   "metadata": {},
   "source": [
    "\\begin{equation}\n",
    "T^*(z)=\\Delta T \\frac{(e^{z/N}-e^{-H/N})}{1-e^{-H/N}} + \\left(\\frac{N-N_0}{N_0}\\right),\n",
    "\\end{equation} \n",
    "\n",
    "N max = H "
   ]
  },
  {
   "cell_type": "code",
   "execution_count": 14,
   "metadata": {
    "collapsed": false
   },
   "outputs": [],
   "source": [
    "Tref = deltaT*(exp(z/N)-exp(-H/N))/(1-exp(-H/N))+2*((N-N0)/N0)\n",
    "if N >= H:\n",
    "    deltaT = 8 -((H-N0)/N0)\n",
    "    Tref = deltaT*(exp(z/N)-exp(-H/N))/(1-exp(-H/N))+1+((H-N0)/N0)"
   ]
  },
  {
   "cell_type": "code",
   "execution_count": 15,
   "metadata": {
    "collapsed": false
   },
   "outputs": [
    {
     "name": "stdout",
     "output_type": "stream",
     "text": [
      "max:  7.9907650344 \n",
      " min:  0.0605848438775\n"
     ]
    },
    {
     "data": {
      "text/plain": [
       "<matplotlib.text.Text at 0x2ab866adee50>"
      ]
     },
     "execution_count": 15,
     "metadata": {},
     "output_type": "execute_result"
    },
    {
     "data": {
      "image/png": "[encoded data removed]",
      "text/plain": [
       "<matplotlib.figure.Figure at 0x2ab866b59490>"
      ]
     },
     "metadata": {},
     "output_type": "display_data"
    }
   ],
   "source": [
    "plt.plot(Tref,z)\n",
    "print 'max: ', np.max(Tref), '\\n min: ', np.min(Tref)\n",
    "#plt.gca().invert_yaxis()\n",
    "plt.title('Temperature Profile')\n",
    "plt.ylabel('Depth (m)')\n",
    "plt.xlabel('Temperature $^oC$')"
   ]
  },
  {
   "cell_type": "code",
   "execution_count": 16,
   "metadata": {
    "collapsed": false
   },
   "outputs": [],
   "source": [
    "#Make a 3D array of it\n",
    "T=np.ones((nz,ny,nx))\n",
    "Temp_field=np.zeros(np.shape(T))\n",
    "for i in range(int(nx)):\n",
    "    for j in range(int(ny)):\n",
    "        Temp_field[:,j,i]=np.multiply(Tref,T[:,j,i])"
   ]
  },
  {
   "cell_type": "code",
   "execution_count": 17,
   "metadata": {
    "collapsed": false
   },
   "outputs": [],
   "source": [
    "Tnew = transpose(tile(Temp_field.mean(axis=2),(nx,1,1)),[1,2,0])\n",
    "Tnew[:,-1] = Tnew[:,-2]\n",
    "#Maybe add more \n",
    "if BC=='Diffusion':\n",
    "    Tnew = Tnew + 2e-3 * (np.random.random((nz,ny,nx)) - 0.5)\n",
    "else:\n",
    "    Tnew = Tnew + 1e-3 * (np.random.random((nz,ny,nx)) - 0.5)"
   ]
  },
  {
   "cell_type": "markdown",
   "metadata": {},
   "source": [
    "## Surface restoring ##\n",
    "\n",
    "\\begin{equation}\n",
    "T_{s} = T_{ref} - \\frac{Q}{\\rho C_p \\lambda \\Delta z}\n",
    "\\end{equation}"
   ]
  },
  {
   "cell_type": "code",
   "execution_count": 18,
   "metadata": {
    "collapsed": false
   },
   "outputs": [
    {
     "data": {
      "image/png": "[encoded data removed]",
      "text/plain": [
       "<matplotlib.figure.Figure at 0x2ab866c49f10>"
      ]
     },
     "metadata": {},
     "output_type": "display_data"
    }
   ],
   "source": [
    "x = '/noc/msm/scratch/students/hb1g13/Mobilis'\n",
    "fname = x+'/3daynokpp/'\n",
    "c = utils.ChannelSetup(output_dir=str(fname))\n",
    "Tavlat = c.get_zonal_avg('Tav.nc','THETA')\n",
    "Tref = Tavlat[0,:]\n",
    "Tref[-1] = Tref[-2]\n",
    "Tref[0] = 0\n",
    "Q = c.mnc('SURF.nc', 'oceQnet').mean(axis=0).mean(axis=1)\n",
    "rho = 1030.0\n",
    "Cp = 3985.0\n",
    "lamba = 1.0/(90*24*60*60)\n",
    "dz = c.dzf[0]\n",
    "Ts = Tref - Q/(rho*Cp*lamba*dz)\n",
    "#Ts[-1] = Ts[-2] \n",
    "Ts[0:40] = np.arange(0.0,2.,0.05)\n",
    "Ts = SG.savitzky_golay(Ts,21,1) # Smooth just a little!\n",
    "plt.plot(Ts,c.yc/1000)\n",
    "plt.title('Surface Temperature',fontsize=20)\n",
    "plt.ylabel('y (km)')\n",
    "plt.xlabel('Temp $^o$ C')\n",
    "Tsxy = np.tile(Ts,(nx,1))\n",
    "Temp_field[0,:,:] = Tsxy.T"
   ]
  },
  {
   "cell_type": "code",
   "execution_count": 19,
   "metadata": {
    "collapsed": false
   },
   "outputs": [],
   "source": [
    "# Write to binary\n",
    "writeFile('T_Sponge',Temp_field)\n",
    "writeFile('T.init',Tnew)\n",
    "# netcdf check\n",
    "f = netCDF4.Dataset('TSponge.nc','w')\n",
    "f.createDimension('X',nx)\n",
    "f.createDimension('Y',ny)\n",
    "f.createDimension('Z',nz)\n",
    "Temp=f.createVariable('Temp','double',('Z','Y','X'))\n",
    "Temp[:]=Temp_field\n",
    "f.close()"
   ]
  },
  {
   "cell_type": "code",
   "execution_count": 25,
   "metadata": {
    "collapsed": false
   },
   "outputs": [],
   "source": [
    "#Make 3D mask\n",
    "#Must vary between 0 (no Relaxation) and 1 (full relaxtion)\n",
    "#I have gone for a parabolic decay in x and linear decay in z (from playing around)\n",
    "msk = np.zeros(np.shape(T))\n",
    "for k in range(0,len(z)):\n",
    "    for i in range(nx):  \n",
    "        msk[k,ny-20:ny,i]=((np.divide((Y[i,ny-21:ny-1]-Y[i,ny-21]),(Y[i,ny-1]-Y[i,ny-21]))))\n",
    "msk[0,:,:] = 1\n",
    "# Write to binary\n",
    "writeFile('T.msk',msk)\n",
    "# netcdf check\n",
    "f = netCDF4.Dataset('Mask.nc','w')\n",
    "f.createDimension('X',nx)\n",
    "f.createDimension('Y',ny)\n",
    "f.createDimension('Z',nz)\n",
    "Mask=f.createVariable('Mask','double',('Z','Y','X'))\n",
    "Mask[:]=(msk)\n",
    "f.close()"
   ]
  },
  {
   "cell_type": "code",
   "execution_count": 26,
   "metadata": {
    "collapsed": false
   },
   "outputs": [
    {
     "data": {
      "text/plain": [
       "<matplotlib.text.Text at 0x2ab86bdc05d0>"
      ]
     },
     "execution_count": 26,
     "metadata": {},
     "output_type": "execute_result"
    },
    {
     "data": {
      "image/png": "[encoded data removed]",
      "text/plain": [
       "<matplotlib.figure.Figure at 0x2ab86bc43350>"
      ]
     },
     "metadata": {},
     "output_type": "display_data"
    }
   ],
   "source": [
    "plt.contourf(y/1000,z[0:5],msk[0:5,:,100],24,cmap=cm.plasma_r)\n",
    "cbar = plt.colorbar()\n",
    "plt.gca()#.invert_yaxis()\n",
    "plt.title('Mask Matrix')\n",
    "plt.ylabel('Depth (m)')\n",
    "plt.xlabel('Meridional Distance (km)')"
   ]
  }
 ],
 "metadata": {
  "anaconda-cloud": {},
  "kernelspec": {
   "display_name": "CentOS",
   "language": "python",
   "name": "centos"
  },
  "language_info": {
   "codemirror_mode": {
    "name": "ipython",
    "version": 2
   },
   "file_extension": ".py",
   "mimetype": "text/x-python",
   "name": "python",
   "nbconvert_exporter": "python",
   "pygments_lexer": "ipython2",
   "version": "2.7.13"
  }
 },
 "nbformat": 4,
 "nbformat_minor": 0
}
