{
 "metadata": {
  "name": "",
  "signature": "sha256:c3fe466fc103f0e3ffc1ddc8dfc169c578c1001b6e5ad0b8f84504845366178b"
 },
 "nbformat": 3,
 "nbformat_minor": 0,
 "worksheets": [
  {
   "cells": [
    {
     "cell_type": "heading",
     "level": 1,
     "metadata": {},
     "source": [
      "DO NOT OPEN OUTSIDE"
     ]
    },
    {
     "cell_type": "code",
     "collapsed": false,
     "input": [
      "from IPython import parallel\n",
      "import numpy as np\n",
      "import matplotlib.pyplot as plt\n",
      "import os\n",
      "import sys\n",
      "from pylab import *\n",
      "sys.path.append('/noc/users/hb1g13/Python/python_functions/')\n",
      "import SG as SG\n",
      "import layers_calc_numba_themis as layers_calc_numba\n",
      "sys.path.append('/noc/users/hb1g13/Python/python_functions/MITgcmUtils/')\n",
      "import utils\n",
      "%matplotlib inline"
     ],
     "language": "python",
     "metadata": {},
     "outputs": [],
     "prompt_number": 8
    },
    {
     "cell_type": "code",
     "collapsed": false,
     "input": [
      "rc = parallel.Client('/noc/users/hb1g13/.ipython/profile_themis/security/ipcontroller-client.json')\n",
      "dv = rc[:]\n",
      "rc.ids"
     ],
     "language": "python",
     "metadata": {},
     "outputs": [
      {
       "metadata": {},
       "output_type": "pyout",
       "prompt_number": 9,
       "text": [
        "[0, 1, 2, 3, 4, 5]"
       ]
      }
     ],
     "prompt_number": 9
    },
    {
     "cell_type": "code",
     "collapsed": false,
     "input": [
      "%%px\n",
      "import numpy as np\n",
      "import matplotlib.pyplot as plt\n",
      "import os\n",
      "import sys\n",
      "from pylab import *\n",
      "sys.path.append('/noc/users/hb1g13/Python/python_functions/')\n",
      "import SG as SG\n",
      "import layers_calc_numba_themis as layers_calc_numba\n",
      "sys.path.append('/noc/users/hb1g13/Python/python_functions/MITgcmUtils/')\n",
      "import utils"
     ],
     "language": "python",
     "metadata": {},
     "outputs": [],
     "prompt_number": 15
    },
    {
     "cell_type": "code",
     "collapsed": false,
     "input": [
      "# Some parameters\n",
      "Full = 'N'  # 9 Pannels isn't ideal for presentations N option give 4 plots"
     ],
     "language": "python",
     "metadata": {},
     "outputs": [],
     "prompt_number": 16
    },
    {
     "cell_type": "code",
     "collapsed": false,
     "input": [
      "\n",
      "if Full == 'N':\n",
      "    tau = ['3', '300', '3000', 'Closed']\n",
      "elif Full == 'Extremes':\n",
      "    tau = ['3','Closed']\n",
      "else:\n",
      "    tau = ['3', '10', '30', '100', '300',\n",
      "           '1000', '3000', '10000', 'Closed']\n",
      "Figletter = ['a) ','b) ','c) ','d) ','e)','f)','g)','h)','j)']\n",
      "# Path root\n",
      "x = '/noc/msm/scratch/students/hb1g13/Mobilis'\n",
      "# Now Make file structure\n",
      "check = 0\n",
      "runs = []\n",
      "for i in range(len(tau)):\n",
      "    flist = x+'/'+str(tau[i])+'daynokpp/PSI.nc'\n",
      "    if not os.path.exists(flist):\n",
      "        print ' WARNING: '+flist+' does not exist! (skipping this tau...)'\n",
      "        check += 0\n",
      "    else:\n",
      "        check += 1\n",
      "        runs.append(i)\n",
      "Runs=np.array(runs)"
     ],
     "language": "python",
     "metadata": {},
     "outputs": [],
     "prompt_number": 17
    },
    {
     "cell_type": "code",
     "collapsed": false,
     "input": [
      "%%px\n",
      "c1 = utils.ChannelSetup(output_dir=str('/noc/msm/scratch/students/hb1g13/Mobilis'+'/3daynokpp/'))\n",
      "c2 = utils.ChannelSetup(output_dir=str('/noc/msm/scratch/students/hb1g13/Mobilis'+'/300daynokpp/'))\n",
      "c3 = utils.ChannelSetup(output_dir=str('/noc/msm/scratch/students/hb1g13/Mobilis'+'/3000daynokpp/'))\n",
      "c4 = utils.ChannelSetup(output_dir=str('/noc/msm/scratch/students/hb1g13/Mobilis'+'/Closeddaynokpp/'))"
     ],
     "language": "python",
     "metadata": {},
     "outputs": [],
     "prompt_number": 18
    },
    {
     "cell_type": "code",
     "collapsed": false,
     "input": [
      "fig = plt.figure(figsize=(18.5, 16.5))\n",
      "for i in range(len(Runs)):\n",
      "    fname = x+'/'+str(tau[Runs[i]])+'daynokpp/'\n",
      "    c = utils.ChannelSetup(output_dir=str(fname))\n",
      "    if i==0:\n",
      "        %px c= c1\n",
      "        %px g = layers_calc_numba.LayersComputer(c)\n",
      "    elif i ==1:\n",
      "        %px g = layers_calc_numba.LayersComputer(c2)\n",
      "        %px c = c2\n",
      "    elif i==2:\n",
      "        %px g = layers_calc_numba.LayersComputer(c3)\n",
      "        %px c = c3\n",
      "    elif i==3:\n",
      "        %px g = layers_calc_numba.LayersComputer(c4)\n",
      "        %px c = c4\n",
      "    fname = x+'/'+str(tau[Runs[i]])+'daynokpp/'\n",
      "    c = utils.ChannelSetup(output_dir=str(fname))\n",
      "    # Calculate cartesian diabatic eddies \n",
      "     # PLOT PANNELS\n",
      "    %px CellVol = c.rac * np.tile(c.dzf, (c.Nx, c.Ny, 1)).T\n",
      "\n",
      "    # load V, W, T bar\n",
      "    # put everything on the C Grid\n",
      "    %px VT = c.vgrid_to_cgrid(c.mnc('Tav_VT.nc', 'VVELTH'))\n",
      "    %px WT = (c.mnc('Tav_VT.nc', 'WVELTH'))\n",
      "    %px V = c.vgrid_to_cgrid(c.mnc('Tav.nc', 'VVEL'))\n",
      "    %px W = (c.mnc('Tav.nc', 'WVEL'))\n",
      "    %px T = c.mnc('Tav.nc', 'THETA')\n",
      "    %px npad = ((0, 1), (0, 0), (0, 0))\n",
      "    %px W = c.wgrid_to_cgrid(np.pad(W, pad_width=npad, mode='constant', constant_values=0))\n",
      "    %px WT = c.wgrid_to_cgrid(np.pad(WT, pad_width=npad, mode='constant', constant_values=0))\n",
      "    dv.execute('A_local=g.interp_to_g1(g,VT,T)',block=True)\n",
      "    VT_l = dv.gather('A_local').get()[0]\n",
      "    dv.execute('A_local=g.interp_to_g1(g,WT,T)',block=True)\n",
      "    WT_l = dv.gather('A_local').get()[0]\n",
      "    dv.execute('A_local=g.interp_to_g1(g,V,T)',block=True)\n",
      "    V_l = dv.gather('A_local').get()[0]\n",
      "    dv.execute('A_local=g.interp_to_g1(g,W,T)',block=True)\n",
      "    W_l = dv.gather('A_local').get()[0]\n",
      "    # Vertical Mass-Weight Transp of Pot Temp (K.m/s)\n",
      "    WTHMASS = c.mnc('SURF.nc', 'WTHMASS')\n",
      "    # Surface cor\n",
      "    Surcor = (WTHMASS.mean(axis=0)).mean(axis=1)\n",
      "     \n",
      "    WpTp_L = WT_l - W_l*g.glvl\n",
      "    VpTp_L = VT_l - V_l*g.glvl\n",
      "    # Calculate diabatic layer depth and ROC \n",
      "    \n",
      "    # ROC \n",
      "    psi = c.get_psi_iso()\n",
      "    # Layer probability mask \n",
      "    PI = c.mnc('PSI.nc',\"LaPs1TH\").mean(axis=2)\n",
      "    PI = ma.masked_array(PI,PI<0.95)\n",
      "    #psi = ma.masked_array(psi, PI < .98 )\n",
      "    # Depths\n",
      "    th = c.mnc('PSI.nc',\"LaHs1TH\").mean(axis=2)\n",
      "    depths = np.cumsum(th[::-1],axis=0)[::-1]\n",
      "    \n",
      "    D = WpTp_L - VpTp_L*th/5000\n",
      "    # Find Max ROC and depth of diabatic layer\n",
      "    DDL = np.zeros(len(c.yc)) \n",
      "    ROC = np.zeros(len(c.yc)) \n",
      "    TL = np.zeros(len(c.yc))\n",
      "    DE_dl = np.zeros(len(c.yc)) \n",
      "    for jj in range(len(c.yc)):\n",
      "        if ma.all(PI[:,jj]  == 1)  or np.all(psi[:,jj] == -0) or PI[:,jj].mask.all():\n",
      "            continue\n",
      "        indx = ma.nonzero(PI[:,jj]<1)[0]\n",
      "        b = indx[np.nonzero(indx>3)[0]]\n",
      "        if len(b)>=2 and (b[1]-b[0])>1:\n",
      "            a = b[1]\n",
      "        else:\n",
      "            a = b[0]\n",
      "        if a<41 and depths[a-1,jj] - depths[a,jj] > 150:\n",
      "            a = a-1\n",
      "        DDL[jj] = depths[a,jj]\n",
      "        DE_dl[jj] = D[a,jj]\n",
      "        TL[jj] = g.glvl[a-1]\n",
      "        if psi[a,jj]/10**6 > 1.0:\n",
      "            a = a-1\n",
      "        ROC[jj] = psi[a,jj]\n",
      "    Temp = c.mnc('Tav.nc','THETA').mean(axis=2)\n",
      "    TLZ =(np.tile((TL+Temp[1,:])/2,(c.Nz,1)))\n",
      "    TLy = c.ddy_cgrid_centered(TLZ)[0,:]\n",
      "    Q = c.mnc('SURF.nc', 'oceQnet').mean(axis=0).mean(axis=1)\n",
      "    Psipred = (Q)/(1000 * 3985)\n",
      "    ax = fig.add_subplot(2, 2, i+1)\n",
      "    p = plt.plot(c.yc/1000, SG.savitzky_golay(ROC,41,1), 'k', linewidth=2)\n",
      "    q = plt.plot(c.yc/1000, (Psipred/c.dzc[0])*10**6, 'r', linewidth=3)\n",
      "    #r = plt.plot(c.yc/1000, (SG.savitzky_golay(ROC,41,1)*SG.savitzky_golay(Ty,41,1)-(Psipred/c.dzc[0])*10**6), 'b', linewidth=1)\n",
      "    q = plt.plot(c.yc/1000, -SG.savitzky_golay(DE_dl,21,1)/DDL*10**6,'b',linewidth=3)\n",
      "    plt.ylim(-1.5,1.5)\n",
      "    ax.set_title(str(Figletter[Runs[i]])+str(tau[Runs[i]])+'day', fontsize=30)\n",
      "    if str(tau[Runs[i]]) == 'Closed':\n",
      "        ax.set_title(str(Figletter[Runs[i]])+str(tau[Runs[i]]), fontsize=30)\n",
      "    ax.set_xlabel(r'$km$', fontsize=30)\n",
      "    ax.set_ylabel(r'Depth', fontsize=30)\n",
      "    ax.tick_params(axis='both', which='major', labelsize=30)\n",
      "\n",
      "plt.tight_layout()"
     ],
     "language": "python",
     "metadata": {},
     "outputs": [
      {
       "ename": "CompositeError",
       "evalue": "one or more exceptions from call to method: execute\n[0:execute]: TypeError: Required argument 'g' (pos 3) not found\n[1:execute]: TypeError: Required argument 'g' (pos 3) not found\n[2:execute]: TypeError: Required argument 'g' (pos 3) not found\n[3:execute]: TypeError: Required argument 'g' (pos 3) not found\n.... 2 more exceptions ...",
       "output_type": "pyerr",
       "traceback": [
        "[0:execute]: ",
        "\u001b[1;31m---------------------------------------------------------------------------\u001b[0m",
        "\u001b[1;31mTypeError\u001b[0m                                 Traceback (most recent call last)\u001b[1;32m<ipython-input-29-da481b47bc49>\u001b[0m in \u001b[0;36m<module>\u001b[1;34m()\u001b[0m",
        "\u001b[1;32m----> 1\u001b[1;33m \u001b[0mA_local\u001b[0m\u001b[1;33m=\u001b[0m\u001b[0mg\u001b[0m\u001b[1;33m.\u001b[0m\u001b[0minterp_to_g1\u001b[0m\u001b[1;33m(\u001b[0m\u001b[0mg\u001b[0m\u001b[1;33m,\u001b[0m\u001b[0mVT\u001b[0m\u001b[1;33m,\u001b[0m\u001b[0mT\u001b[0m\u001b[1;33m)\u001b[0m\u001b[1;33m\u001b[0m\u001b[0m",
        "\u001b[0m\u001b[1;31mTypeError\u001b[0m: Required argument 'g' (pos 3) not found",
        "",
        "[1:execute]: ",
        "\u001b[1;31m---------------------------------------------------------------------------\u001b[0m",
        "\u001b[1;31mTypeError\u001b[0m                                 Traceback (most recent call last)\u001b[1;32m<ipython-input-29-da481b47bc49>\u001b[0m in \u001b[0;36m<module>\u001b[1;34m()\u001b[0m",
        "\u001b[1;32m----> 1\u001b[1;33m \u001b[0mA_local\u001b[0m\u001b[1;33m=\u001b[0m\u001b[0mg\u001b[0m\u001b[1;33m.\u001b[0m\u001b[0minterp_to_g1\u001b[0m\u001b[1;33m(\u001b[0m\u001b[0mg\u001b[0m\u001b[1;33m,\u001b[0m\u001b[0mVT\u001b[0m\u001b[1;33m,\u001b[0m\u001b[0mT\u001b[0m\u001b[1;33m)\u001b[0m\u001b[1;33m\u001b[0m\u001b[0m",
        "\u001b[0m\u001b[1;31mTypeError\u001b[0m: Required argument 'g' (pos 3) not found",
        "",
        "[2:execute]: ",
        "\u001b[1;31m---------------------------------------------------------------------------\u001b[0m",
        "\u001b[1;31mTypeError\u001b[0m                                 Traceback (most recent call last)\u001b[1;32m<ipython-input-29-da481b47bc49>\u001b[0m in \u001b[0;36m<module>\u001b[1;34m()\u001b[0m",
        "\u001b[1;32m----> 1\u001b[1;33m \u001b[0mA_local\u001b[0m\u001b[1;33m=\u001b[0m\u001b[0mg\u001b[0m\u001b[1;33m.\u001b[0m\u001b[0minterp_to_g1\u001b[0m\u001b[1;33m(\u001b[0m\u001b[0mg\u001b[0m\u001b[1;33m,\u001b[0m\u001b[0mVT\u001b[0m\u001b[1;33m,\u001b[0m\u001b[0mT\u001b[0m\u001b[1;33m)\u001b[0m\u001b[1;33m\u001b[0m\u001b[0m",
        "\u001b[0m\u001b[1;31mTypeError\u001b[0m: Required argument 'g' (pos 3) not found",
        "",
        "[3:execute]: ",
        "\u001b[1;31m---------------------------------------------------------------------------\u001b[0m",
        "\u001b[1;31mTypeError\u001b[0m                                 Traceback (most recent call last)\u001b[1;32m<ipython-input-29-da481b47bc49>\u001b[0m in \u001b[0;36m<module>\u001b[1;34m()\u001b[0m",
        "\u001b[1;32m----> 1\u001b[1;33m \u001b[0mA_local\u001b[0m\u001b[1;33m=\u001b[0m\u001b[0mg\u001b[0m\u001b[1;33m.\u001b[0m\u001b[0minterp_to_g1\u001b[0m\u001b[1;33m(\u001b[0m\u001b[0mg\u001b[0m\u001b[1;33m,\u001b[0m\u001b[0mVT\u001b[0m\u001b[1;33m,\u001b[0m\u001b[0mT\u001b[0m\u001b[1;33m)\u001b[0m\u001b[1;33m\u001b[0m\u001b[0m",
        "\u001b[0m\u001b[1;31mTypeError\u001b[0m: Required argument 'g' (pos 3) not found",
        "",
        "... 2 more exceptions ..."
       ]
      },
      {
       "metadata": {},
       "output_type": "display_data",
       "text": [
        "<matplotlib.figure.Figure at 0x2b21a28d5350>"
       ]
      }
     ],
     "prompt_number": 20
    },
    {
     "cell_type": "code",
     "collapsed": false,
     "input": [],
     "language": "python",
     "metadata": {},
     "outputs": []
    }
   ],
   "metadata": {}
  }
 ]
}