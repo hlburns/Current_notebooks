{
 "cells": [
  {
   "cell_type": "markdown",
   "metadata": {},
   "source": [
    "# Ipython Cluster heat budget calculations #"
   ]
  },
  {
   "cell_type": "markdown",
   "metadata": {},
   "source": [
    "Layers calculater is a a C- wrapped complex function that splits up the model grid into 300 levels and puts into 42 discrete set temperature bins.  \n",
    "\n",
    "This is computationally very slow. ~ 30 mins per variable so to generate my figures this will take 4 hours. I suggest 4-6 processers to reduce this to under 1 hour."
   ]
  },
  {
   "cell_type": "code",
   "execution_count": 1,
   "metadata": {
    "collapsed": false
   },
   "outputs": [],
   "source": [
    "from IPython import parallel\n",
    "import numpy as np\n",
    "import matplotlib.pyplot as plt\n",
    "import os\n",
    "import sys\n",
    "from pylab import *\n",
    "sys.path.append('/noc/users/hb1g13/Python/python_functions/')\n",
    "import SG as SG\n",
    "import layers_calc_numba\n",
    "sys.path.append('/noc/users/hb1g13/Python/python_functions/MITgcmUtils/')\n",
    "import utils\n",
    "%matplotlib inline"
   ]
  },
  {
   "cell_type": "markdown",
   "metadata": {},
   "source": [
    "start cluster on machine \n",
    "\n",
    "ipcluster start -n 6\n"
   ]
  },
  {
   "cell_type": "code",
   "execution_count": 2,
   "metadata": {
    "collapsed": false
   },
   "outputs": [
    {
     "data": {
      "text/plain": [
       "[0, 1, 2, 3, 4, 5]"
      ]
     },
     "execution_count": 2,
     "metadata": {},
     "output_type": "execute_result"
    }
   ],
   "source": [
    "rc = parallel.Client('/noc/users/hb1g13/.ipython/profile_thalassa/security/ipcontroller-client.json')\n",
    "dv = rc[:]\n",
    "rc.ids"
   ]
  },
  {
   "cell_type": "code",
   "execution_count": 3,
   "metadata": {
    "collapsed": false
   },
   "outputs": [],
   "source": [
    "%%px\n",
    "import numpy as np\n",
    "import matplotlib.pyplot as plt\n",
    "import os\n",
    "import sys\n",
    "from pylab import *\n",
    "sys.path.append('/noc/users/hb1g13/Python/python_functions/')\n",
    "import SG as SG\n",
    "import layers_calc_numba\n",
    "sys.path.append('/noc/users/hb1g13/Python/python_functions/MITgcmUtils/')\n",
    "import utils"
   ]
  },
  {
   "cell_type": "code",
   "execution_count": 4,
   "metadata": {
    "collapsed": true
   },
   "outputs": [],
   "source": [
    "# Some parameters\n",
    "Full = 'N'  # 9 Pannels isn't ideal for presentations N option give 4 plots"
   ]
  },
  {
   "cell_type": "code",
   "execution_count": 5,
   "metadata": {
    "collapsed": false
   },
   "outputs": [],
   "source": [
    "\n",
    "if Full == 'N':\n",
    "    tau = ['3', '300', '3000', 'Closed']\n",
    "elif Full == 'Extremes':\n",
    "    tau = ['3','Closed']\n",
    "else:\n",
    "    tau = ['3', '10', '30', '100', '300',\n",
    "           '1000', '3000', '10000', 'Closed']\n",
    "Figletter = ['a) ','b) ','c) ','d) ','e)','f)','g)','h)','j)']\n",
    "# Path root\n",
    "x = '/noc/msm/scratch/students/hb1g13/Mobilis'\n",
    "# Now Make file structure\n",
    "check = 0\n",
    "runs = []\n",
    "for i in range(len(tau)):\n",
    "    flist = x+'/'+str(tau[i])+'daynokpp/PSI.nc'\n",
    "    if not os.path.exists(flist):\n",
    "        print ' WARNING: '+flist+' does not exist! (skipping this tau...)'\n",
    "        check += 0\n",
    "    else:\n",
    "        check += 1\n",
    "        runs.append(i)\n",
    "Runs=np.array(runs)"
   ]
  },
  {
   "cell_type": "markdown",
   "metadata": {},
   "source": [
    "## Outline of code: ##"
   ]
  },
  {
   "cell_type": "markdown",
   "metadata": {},
   "source": [
    "**Probability deffined layers**\n",
    "\n",
    "* mask out undefined layers\n",
    "* find the first value layer probability = 1\n",
    "* some layers are very think so check there isn't a crazy step - ajust if so!\n",
    "* use depth matix to deffine diabatic layer depth"
   ]
  },
  {
   "cell_type": "markdown",
   "metadata": {},
   "source": [
    "**ROC at diabatic layer depth**\n",
    "\n",
    "* As above and take the ROC at this depth\n",
    "* One extra clause: check a big surface wind driven circulation isnt being picked up!"
   ]
  },
  {
   "cell_type": "markdown",
   "metadata": {},
   "source": [
    "** Now add in Ty multiplication **\n",
    "\n",
    "The neatest ROC calculated is a long DDL depth so lets try that first.\n",
    "\n",
    "1. Ty from remapped layers temp \n",
    "2. Ty from THETA"
   ]
  },
  {
   "cell_type": "markdown",
   "metadata": {},
   "source": [
    "Ty from THETA\n",
    "Try just at surface values - theoreticall the same through out diabatic layer ;)"
   ]
  },
  {
   "cell_type": "markdown",
   "metadata": {},
   "source": [
    "More thorough mapp Ty back to layers space and take value at diabatic layer"
   ]
  },
  {
   "cell_type": "markdown",
   "metadata": {},
   "source": [
    "** Remap explicit diabatic to layers and integrate DDL to surface ** "
   ]
  },
  {
   "cell_type": "code",
   "execution_count": 6,
   "metadata": {
    "collapsed": true
   },
   "outputs": [],
   "source": [
    "%%px\n",
    "c1 = utils.ChannelSetup(output_dir=str('/noc/msm/scratch/students/hb1g13/Mobilis'+'/3daynokpp/'))\n",
    "c2 = utils.ChannelSetup(output_dir=str('/noc/msm/scratch/students/hb1g13/Mobilis'+'/300daynokpp/'))\n",
    "c3 = utils.ChannelSetup(output_dir=str('/noc/msm/scratch/students/hb1g13/Mobilis'+'/3000daynokpp/'))\n",
    "c4 = utils.ChannelSetup(output_dir=str('/noc/msm/scratch/students/hb1g13/Mobilis'+'/Closeddaynokpp/'))"
   ]
  },
  {
   "cell_type": "markdown",
   "metadata": {},
   "source": [
    "\\begin{equation}\n",
    "\\int_{-dl}^0 \\frac{\\partial \\left( \\overline{w'T'}-\\overline{v'T'}S_p \\right)}{\\partial z }. \\mathrm{d}z = DEs \\, \\, |_{-dl}\n",
    "\\end{equation}"
   ]
  },
  {
   "cell_type": "code",
   "execution_count": null,
   "metadata": {
    "collapsed": false,
    "scrolled": false
   },
   "outputs": [
    {
     "name": "stderr",
     "output_type": "stream",
     "text": [
      "[stderr:0] \n",
      "/noc/users/hb1g13/anaconda/lib/python2.7/site-packages/IPython/parallel/engine/__main__.py:1: RuntimeWarning: divide by zero encountered in divide\n",
      "  def main():\n",
      "[stderr:1] \n",
      "/noc/users/hb1g13/anaconda/lib/python2.7/site-packages/IPython/parallel/engine/__main__.py:1: RuntimeWarning: divide by zero encountered in divide\n",
      "  def main():\n",
      "[stderr:2] \n",
      "/noc/users/hb1g13/anaconda/lib/python2.7/site-packages/IPython/parallel/engine/__main__.py:1: RuntimeWarning: divide by zero encountered in divide\n",
      "  def main():\n",
      "[stderr:3] \n",
      "/noc/users/hb1g13/anaconda/lib/python2.7/site-packages/IPython/parallel/engine/__main__.py:1: RuntimeWarning: divide by zero encountered in divide\n",
      "  def main():\n",
      "[stderr:4] \n",
      "/noc/users/hb1g13/anaconda/lib/python2.7/site-packages/IPython/parallel/engine/__main__.py:1: RuntimeWarning: divide by zero encountered in divide\n",
      "  def main():\n",
      "[stderr:5] \n",
      "/noc/users/hb1g13/anaconda/lib/python2.7/site-packages/IPython/parallel/engine/__main__.py:1: RuntimeWarning: divide by zero encountered in divide\n",
      "  def main():\n",
      "[stderr:0] \n",
      "/noc/users/hb1g13/anaconda/lib/python2.7/site-packages/IPython/parallel/engine/__main__.py:1: RuntimeWarning: invalid value encountered in multiply\n",
      "  def main():\n"
     ]
    }
   ],
   "source": [
    "fig = plt.figure(figsize=(18.5, 16.5))\n",
    "for i in range(len(Runs)):\n",
    "\n",
    "    if i==0:\n",
    "        %px g = layers_calc_numba.LayersComputer(c1)\n",
    "        %px c= c1\n",
    "    elif i ==1:\n",
    "        %px g = layers_calc_numba.LayersComputer(c2)\n",
    "        %px c = c2\n",
    "    elif i==2:\n",
    "        %px g = layers_calc_numba.LayersComputer(c3)\n",
    "        %px c = c3\n",
    "    elif i==3:\n",
    "        %px g = layers_calc_numba.LayersComputer(c4)\n",
    "        %px c = c4\n",
    "    fname = x+'/'+str(tau[Runs[i]])+'daynokpp/'\n",
    "    c = utils.ChannelSetup(output_dir=str(fname))\n",
    "    # Calculate cartesian diabatic eddies \n",
    "     # PLOT PANNELS\n",
    "    %px CellVol = c.rac * np.tile(c.dzf, (c.Nx, c.Ny, 1)).T\n",
    "\n",
    "    # load V, W, T bar\n",
    "    # put everything on the C Grid\n",
    "    %px VT = (c.mnc('Tav_VT.nc', 'VVELTH'))\n",
    "    %px WT = (c.mnc('Tav_VT.nc', 'WVELTH'))\n",
    "    %px Tv = utils.cgrid_to_vgrid(c.mnc('Tav.nc', 'THETA'))\n",
    "    %px Tw = utils.cgrid_to_wgrid(c.mnc('Tav.nc', 'THETA'))\n",
    "    %px V = (c.mnc('Tav.nc', 'VVEL'))\n",
    "    %px W = (c.mnc('Tav.nc', 'WVEL'))\n",
    "    %px T = c.mnc('Tav.nc', 'THETA')\n",
    "    %px npad = ((0, 1), (0, 0), (0, 0))\n",
    "    %px W = np.pad(W, pad_width=npad, mode='constant', constant_values=0)\n",
    "    %px WT = np.pad(WT, pad_width=npad, mode='constant', constant_values=0)\n",
    "    %px VTbar = V * Tv\n",
    "    %px WTbar = W * Tw\n",
    "    %px VpTp = VT - VTbar\n",
    "    %px WpTp = WT - WTbar\n",
    "  \n",
    "    # Vertical Mass-Weight Transp of Pot Temp (K.m/s)\n",
    "    WTHMASS = c.mnc('SURF.nc', 'WTHMASS')\n",
    "    # Surface cor\n",
    "    Surcor = (WTHMASS.mean(axis=0)).mean(axis=1)\n",
    "    %px Ty = c.ddy_cgrid_centered(T)\n",
    "    %px Tz = c.ddz_cgrid_centered(T)\n",
    "    %px Sp = - Ty/Tz\n",
    "    %px DEs = c.wgrid_to_cgrid(WpTp) - c.vgrid_to_cgrid(VpTp)*Sp\n",
    "    #T = c.mnc('Tav.nc', 'THETA').mean(axis=2)\n",
    "    \n",
    "    \n",
    "    g = layers_calc_numba.LayersComputer(c)\n",
    "   \n",
    "    dv.execute('A_local=g.interp_to_g1(DEs,T)',block=True)\n",
    "    DE_l = dv.gather('A_local').get()[0]\n",
    "    DE_l = DE_l.mean(axis=2)\n",
    "    # Calculate diabatic layer depth and ROC \n",
    "\n",
    "    # ROC \n",
    "    psi = c.get_psi_iso()\n",
    "    # Layer probability mask \n",
    "    PI = c.mnc('PSI.nc',\"LaPs1TH\").mean(axis=2)\n",
    "    PI = ma.masked_array(PI,PI<0.95)\n",
    "    #psi = ma.masked_array(psi, PI < .98 )\n",
    "    # Depths\n",
    "    th = c.mnc('PSI.nc',\"LaHs1TH\").mean(axis=2)\n",
    "    depths = np.cumsum(th[::-1],axis=0)[::-1]\n",
    "    \n",
    "\n",
    "    # Find Max ROC and depth of diabatic layer\n",
    "    DDL = np.zeros(len(c.yc)) \n",
    "    ROC = np.zeros(len(c.yc)) \n",
    "    TL = np.zeros(len(c.yc))\n",
    "    DE_dl = np.zeros(len(c.yc)) \n",
    "    for jj in range(len(c.yc)):\n",
    "        if ma.all(PI[:,jj]  == 1)  or np.all(psi[:,jj] == -0) or PI[:,jj].mask.all():\n",
    "            continue\n",
    "        indx = ma.nonzero(PI[:,jj]<1)[0]\n",
    "        b = indx[np.nonzero(indx>3)[0]]\n",
    "        if len(b)>=2 and (b[1]-b[0])>1:\n",
    "            a = b[1]\n",
    "        else:\n",
    "            a = b[0]\n",
    "        if a<41 and depths[a-1,jj] - depths[a,jj] > 150:\n",
    "            a = a-1\n",
    "        DDL[jj] = depths[a,jj]\n",
    "        DE_dl[jj] = DE_l[a,jj]\n",
    "        TL[jj] = g.glvl[a-1]\n",
    "        if psi[a,jj]/10**6 > 1.0:\n",
    "            a = a-1\n",
    "        ROC[jj] = psi[a,jj]\n",
    "    Temp = c.mnc('Tav.nc','THETA').mean(axis=2)\n",
    "    TLZ =(np.tile((TL+Temp[1,:])/2,(c.Nz,1)))\n",
    "    TLy = c.ddy_cgrid_centered(TLZ)[0,:]\n",
    "    Q = c.mnc('SURF.nc', 'oceQnet').mean(axis=0).mean(axis=1)\n",
    "    Psipred = (Q)/(1000 * 3985)\n",
    "    ax = fig.add_subplot(2, 2, i+1)\n",
    "    p = plt.plot(c.yc/1000, SG.savitzky_golay(ROC,41,1), 'k', linewidth=2)\n",
    "    q = plt.plot(c.yc/1000, (Psipred/c.dzc[0])*10**6, 'r', linewidth=3)\n",
    "    #r = plt.plot(c.yc/1000, (SG.savitzky_golay(ROC,41,1)*SG.savitzky_golay(Ty,41,1)-(Psipred/c.dzc[0])*10**6), 'b', linewidth=1)\n",
    "    q = plt.plot(c.yc/1000, -SG.savitzky_golay(DE_dl,21,1)*10**6,'b',linewidth=3)\n",
    "    plt.ylim(-1.5,1.5)\n",
    "    ax.set_title(str(Figletter[Runs[i]])+str(tau[Runs[i]])+'day', fontsize=30)\n",
    "    if str(tau[Runs[i]]) == 'Closed':\n",
    "        ax.set_title(str(Figletter[Runs[i]])+str(tau[Runs[i]]), fontsize=30)\n",
    "    ax.set_xlabel(r'$km$', fontsize=30)\n",
    "    ax.set_ylabel(r'Depth', fontsize=30)\n",
    "    ax.tick_params(axis='both', which='major', labelsize=30)\n",
    "\n",
    "plt.tight_layout()"
   ]
  },
  {
   "cell_type": "markdown",
   "metadata": {},
   "source": [
    "** Other ways of calculating Diabatic eddies **"
   ]
  },
  {
   "cell_type": "markdown",
   "metadata": {},
   "source": [
    "\\begin{equation}\n",
    "S_p = \\frac{\\frac{\\partial T}{\\partial y}}{\\frac{\\partial T}{\\partial z}} \n",
    "\\end{equation}\n",
    "\n",
    "so\n",
    "\n",
    "\\begin{equation}\n",
    "S_p = \\frac{\\partial z}{\\partial y} = \\frac{Th}{\\partial y}\n",
    "\\end{equation}\n",
    "\n",
    "where Th is layer thickness.\n",
    "\n",
    "\n",
    "substiuting back in to diabatic eddies deffiniton\n",
    "\n",
    "\\begin{equation}\n",
    "DE = \\overline{w'T'} - \\overline{v'T'}.\\frac{Th}{\\partial y}\n",
    "\\end{equation}\n",
    "\n",
    "or \n",
    "\n",
    "\\begin{equation}\n",
    "DE = \\overline{w'T'} - \\Psi ^*\\frac{\\partial T}{Th}.\\frac{Th}{\\partial y}\n",
    "\\end{equation}"
   ]
  },
  {
   "cell_type": "markdown",
   "metadata": {},
   "source": [
    "can also remap $\\overline{WT}(y,T)$ $(\\overline{W}\\overline{T})(y,T)$ to calulate $\\overline{w'T'}(y,T)$"
   ]
  },
  {
   "cell_type": "code",
   "execution_count": null,
   "metadata": {
    "collapsed": true
   },
   "outputs": [],
   "source": []
  }
 ],
 "metadata": {
  "kernelspec": {
   "display_name": "Python 2",
   "language": "python",
   "name": "python2"
  },
  "language_info": {
   "codemirror_mode": {
    "name": "ipython",
    "version": 2
   },
   "file_extension": ".py",
   "mimetype": "text/x-python",
   "name": "python",
   "nbconvert_exporter": "python",
   "pygments_lexer": "ipython2",
   "version": "2.7.11"
  }
 },
 "nbformat": 4,
 "nbformat_minor": 0
}
