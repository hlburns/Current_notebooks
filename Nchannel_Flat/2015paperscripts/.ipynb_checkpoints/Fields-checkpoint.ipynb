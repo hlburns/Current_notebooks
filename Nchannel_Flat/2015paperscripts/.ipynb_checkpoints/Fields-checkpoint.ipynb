{
 "metadata": {
  "name": "",
  "signature": "sha256:01a13fd95a92a8cf3616a9c737e9cfc35f114856fde32e503ee9a7d8fbb3e40e"
 },
 "nbformat": 3,
 "nbformat_minor": 0,
 "worksheets": [
  {
   "cells": [
    {
     "cell_type": "code",
     "collapsed": false,
     "input": [
      "import netCDF4\n",
      "import numpy as np\n",
      "import matplotlib.pyplot as plt\n",
      "import os\n",
      "import csv\n",
      "import sys\n",
      "import glob\n",
      "from scipy.interpolate import interp1d\n",
      "import matplotlib.gridspec as gridspec\n",
      "sys.path.append('/noc/users/hb1g13/Python/python_functions/')\n",
      "import useful as hb\n",
      "import SG"
     ],
     "language": "python",
     "metadata": {},
     "outputs": [],
     "prompt_number": 1
    },
    {
     "cell_type": "code",
     "collapsed": false,
     "input": [
      "x='/hpcdata/scratch/hb1g13/NchannelFlat'"
     ],
     "language": "python",
     "metadata": {},
     "outputs": [],
     "prompt_number": 2
    },
    {
     "cell_type": "code",
     "collapsed": false,
     "input": [
      "filename=x+'/3daynokpp/grid.nc'\n",
      "file2read = netCDF4.Dataset(filename,'r')\n",
      "Y=file2read.variables['Y'][:]\n",
      "Z=file2read.variables['Z'][:]\n",
      "Zp=file2read.variables['Zp1'][:]\n",
      "dz=Zp[0:-1]-Zp[1::][:]\n",
      "dA=dz*5000\n",
      "Zmatrix=np.zeros((len(Z),len(Y)))\n",
      "Zmatrix[:,:]=1\n",
      "dx=Y[1]-Y[0] # Find Resolution\n",
      "Zmatrix=np.apply_along_axis(np.multiply,0,Zmatrix,dz)"
     ],
     "language": "python",
     "metadata": {},
     "outputs": [],
     "prompt_number": 3
    },
    {
     "cell_type": "code",
     "collapsed": false,
     "input": [
      "filename=x+'/3daynokpp/Tav.nc'\n",
      "file2read = netCDF4.Dataset(filename,'r')\n",
      "#U=file2read.variables[\"UVEL\"]\n",
      "#U=U[:]\n",
      "#Utave=np.mean(U,axis = 0)\n",
      "#Utave=np.mean(Utave,axis = 2)\n",
      "filename=x+'/3daynokpp/280-300all.nc'\n",
      "Temp=file2read.variables['THETA']\n",
      "Temp=Temp[:]*1\n",
      "Tavlat=np.mean(Tav,axis=3)\n",
      "dx=Y[1]-Y[0] # Find Resolution\n",
      "Vtave=np.mean(V,axis = 0)\n",
      "Vtave[Vtave==0]=np.nan\n",
      "Vzone=np.nansum(Vtave,axis = 2)*dx\n",
      "dz=Zp[0:len(Zp)-1]-Zp[1:len(Zp)]\n",
      "# Got rid of for loop here (much quicker!!)\n",
      "psi2=np.apply_along_axis(np.multiply,0,Vzone,dz)\n",
      "psi=np.cumsum(-psi2[::-1,:],axis=0)\n",
      "npad = ((0,1), (0,0))\n",
      "# Pad with zeros at bottom\n",
      "psi = np.pad(psi, pad_width=npad, mode='constant', constant_values=0)\n",
      "y =Y/1000\n",
      "Psi=psi/10**6 #Convert to Sv\n",
      "#Psi[Psi>2.25]=2.25\n",
      "Q_levs = np.arange(0.5,30.5,4.)\n",
      "Psi_levs = Q_levs / 10\n",
      "Q_ticks = np.arange(0,30,3.)\n",
      "Psi_ticks = Q_ticks / 10\n",
      "ax = fig.add_subplot(2, 2, i+1)\n",
      "p=ax.contourf(Yc/1000,Z,Utave,cmap=cm.jet) #Use b2r colourmap\n",
      "Q2_levs = (np.arange(0,8,1))\n",
      "q=ax.contour(Yc/1000,Z,Tavlat,Q2_levs,colors='k',linewidths = 2)\n",
      "q.levels = [nf(val) for val in q.levels ]\n",
      "plt.clabel(q,q.levels[::2], inline=1,fmt=fmt, fontsize=10)\n",
      "#clim(-1,1) # Put 0 to white\n",
      "#cbar=plt.colorbar(cf, ticks=Psi_ticks, shrink=0.8)\n",
      "ax.tick_params(axis='both', which='major', labelsize=20)\n",
      "ax.set_title('Typical fields', fontsize=30)\n",
      "ax.set_xlabel('Distance (km)', fontsize=20)\n",
      "ax.set_ylabel('Depth (m)', fontsize=20)\n",
      "#cbar=plt.colorbar(p, ticks=Psi_ticks, shrink=0.8)\n",
      "#ax.set_clim(-1,1)\n",
      "#cbar.ax.set_ylabel('$\\psi \\,\\, (sv)$')}\n",
      "plt.tight_layout()\n",
      "cax = fig.add_axes([1, 0.1, 0.03, 0.8])\n",
      "cbar=fig.colorbar(p, cax=cax,ticks=Psi_ticks)\n",
      "cbar.ax.set_ylabel('$\\psi \\,\\, (sv)$', fontsize=30)\n",
      "cbar.ax.tick_params(labelsize=30) \n",
      "q=( os.path.expanduser('~')+\"/Figures/Mobilis\")\n",
      "if not os.path.exists(q):\n",
      "       os.makedirs(q)\n",
      "plt.savefig(q+\"/MOCpanel.pdf\",bbox_extra_artists=(cbar))"
     ],
     "language": "python",
     "metadata": {},
     "outputs": [
      {
       "ename": "KeyError",
       "evalue": "'UVEL'",
       "output_type": "pyerr",
       "traceback": [
        "\u001b[1;31m---------------------------------------------------------------------------\u001b[0m\n\u001b[1;31mKeyError\u001b[0m                                  Traceback (most recent call last)",
        "\u001b[1;32m<ipython-input-6-9542acb99824>\u001b[0m in \u001b[0;36m<module>\u001b[1;34m()\u001b[0m\n\u001b[0;32m      1\u001b[0m \u001b[0mfilename\u001b[0m\u001b[1;33m=\u001b[0m\u001b[0mx\u001b[0m\u001b[1;33m+\u001b[0m\u001b[1;34m'/3daynokpp/Tav.nc'\u001b[0m\u001b[1;33m\u001b[0m\u001b[0m\n\u001b[0;32m      2\u001b[0m \u001b[0mfile2read\u001b[0m \u001b[1;33m=\u001b[0m \u001b[0mnetCDF4\u001b[0m\u001b[1;33m.\u001b[0m\u001b[0mDataset\u001b[0m\u001b[1;33m(\u001b[0m\u001b[0mfilename\u001b[0m\u001b[1;33m,\u001b[0m\u001b[1;34m'r'\u001b[0m\u001b[1;33m)\u001b[0m\u001b[1;33m\u001b[0m\u001b[0m\n\u001b[1;32m----> 3\u001b[1;33m \u001b[0mU\u001b[0m\u001b[1;33m=\u001b[0m\u001b[0mfile2read\u001b[0m\u001b[1;33m.\u001b[0m\u001b[0mvariables\u001b[0m\u001b[1;33m[\u001b[0m\u001b[1;34m\"UVEL\"\u001b[0m\u001b[1;33m]\u001b[0m\u001b[1;33m\u001b[0m\u001b[0m\n\u001b[0m\u001b[0;32m      4\u001b[0m \u001b[0mU\u001b[0m\u001b[1;33m=\u001b[0m\u001b[0mU\u001b[0m\u001b[1;33m[\u001b[0m\u001b[1;33m:\u001b[0m\u001b[1;33m]\u001b[0m\u001b[1;33m\u001b[0m\u001b[0m\n\u001b[0;32m      5\u001b[0m \u001b[0mUtave\u001b[0m\u001b[1;33m=\u001b[0m\u001b[0mnp\u001b[0m\u001b[1;33m.\u001b[0m\u001b[0mmean\u001b[0m\u001b[1;33m(\u001b[0m\u001b[0mU\u001b[0m\u001b[1;33m,\u001b[0m\u001b[0maxis\u001b[0m \u001b[1;33m=\u001b[0m \u001b[1;36m0\u001b[0m\u001b[1;33m)\u001b[0m\u001b[1;33m\u001b[0m\u001b[0m\n",
        "\u001b[1;31mKeyError\u001b[0m: 'UVEL'"
       ]
      }
     ],
     "prompt_number": 6
    },
    {
     "cell_type": "code",
     "collapsed": false,
     "input": [],
     "language": "python",
     "metadata": {},
     "outputs": []
    }
   ],
   "metadata": {}
  }
 ]
}