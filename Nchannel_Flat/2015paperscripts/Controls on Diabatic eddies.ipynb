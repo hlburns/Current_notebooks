{
 "cells": [
  {
   "cell_type": "markdown",
   "metadata": {},
   "source": [
    "# <center> Controls on diabatic Eddies </center> #\n",
    "\n",
    "Having established a significant response in the diabatic eddy heat flux divergence it is now important to understand what controls this response. Here we look at the effects of diabatic layer depth, eddy kinetic energy (EKE) and isopycnal slope in the diabatic layer.\n",
    "\n",
    "* Increase in velocity from EKE \n",
    "* Increase in diabatic layer depth\n",
    "* Increase in APE / residual  *first lets see how the match*\n"
   ]
  },
  {
   "cell_type": "code",
   "execution_count": 2,
   "metadata": {
    "collapsed": true
   },
   "outputs": [],
   "source": [
    "# Load in Modules\n",
    "import numpy as np\n",
    "import matplotlib.pyplot as plt\n",
    "import matplotlib.patches as mpatches\n",
    "import os\n",
    "import numpy.ma as ma\n",
    "import sys\n",
    "from pylab import *\n",
    "from matplotlib import gridspec\n",
    "sys.path.append('/noc/users/hb1g13/Python/python_functions/')\n",
    "from HB_Plot import nf, fmt\n",
    "import SG\n",
    "import useful as hb\n",
    "import layers_calc_numba\n",
    "import APE_Calc as AC\n",
    "sys.path.append('/noc/users/hb1g13/Python/python_functions/MITgcmUtils/')\n",
    "import utils\n",
    "%matplotlib inline\n",
    "\n",
    "tau = ['3', '300', '3000', 'Closed']\n",
    "\n",
    "Figletter = ['a) ','b) ','c) ','d)' ]\n",
    "\n",
    "# Path root\n",
    "x = '/noc/msm/scratch/students/hb1g13/Mobilis'\n",
    "# Now Make file structure\n",
    "check = 0\n",
    "runs = []\n",
    "for i in range(len(tau)):\n",
    "    flist = x+'/'+str(tau[i])+'daynokpp/VSQ.nc'\n",
    "    if not os.path.exists(flist):\n",
    "        print ' WARNING: '+flist+' does not exist! (skipping this tau...)'\n",
    "        check += 0\n",
    "    else:\n",
    "        check += 1\n",
    "        runs.append(i)\n",
    "Runs=np.array(runs)"
   ]
  },
  {
   "cell_type": "code",
   "execution_count": 23,
   "metadata": {
    "collapsed": false,
    "scrolled": false
   },
   "outputs": [
    {
     "name": "stderr",
     "output_type": "stream",
     "text": [
      "/noc/users/hb1g13/.conda/envs/CentOS/lib/python2.7/site-packages/ipykernel/__main__.py:35: RuntimeWarning: divide by zero encountered in divide\n",
      "/noc/users/hb1g13/.conda/envs/CentOS/lib/python2.7/site-packages/ipykernel/__main__.py:35: RuntimeWarning: invalid value encountered in divide\n",
      "/noc/users/hb1g13/.conda/envs/CentOS/lib/python2.7/site-packages/ipykernel/__main__.py:36: RuntimeWarning: invalid value encountered in less\n"
     ]
    }
   ],
   "source": [
    "Dsum = []\n",
    "Vsum = []\n",
    "Darea = []\n",
    "APEt = []\n",
    "for i in range(len(Runs)):\n",
    "    fname = x+'/'+str(tau[Runs[i]])+'daynokpp/'\n",
    "    c = utils.ChannelSetup(output_dir=str(fname))\n",
    "    # PLOT PANNELS\n",
    "    CellVol = c.rac*np.tile(c.dzf,(c.Nx,c.Ny,1)).T\n",
    "    # load V, W, T bar    \n",
    "    VT = (c.mnc('Tav_VT.nc','VVELTH'))\n",
    "    WT = (c.mnc('Tav_VT.nc','WVELTH'))\n",
    "    Tv = utils.cgrid_to_vgrid(c.mnc('Tav.nc','THETA'))\n",
    "    Tw = utils.cgrid_to_wgrid(c.mnc('Tav.nc','THETA'))\n",
    "    V = (c.mnc('Tav.nc','VVEL'))\n",
    "    W = (c.mnc('Tav.nc','WVEL'))\n",
    "    npad = ((0, 1), (0, 0), (0, 0))\n",
    "    W = np.pad(W, pad_width=npad, mode='constant', constant_values=0)\n",
    "    WT = np.pad(WT, pad_width=npad, mode='constant', constant_values=0)\n",
    "    VTbar = V*Tv\n",
    "    WTbar = W*Tw\n",
    "    VpTp = VT - VTbar\n",
    "    WpTp = WT - WTbar\n",
    "    # Vertical Mass-Weight Transp of Pot Temp (K.m/s)\n",
    "    WTHMASS = c.mnc('SURF.nc', 'WTHMASS')\n",
    "    # Surface cor\n",
    "    Surcor = (WTHMASS.mean(axis=0)).mean(axis=1)\n",
    "    dVTbar = (VTbar[:,0:-1,:] - VTbar[:,1::,:])*CellVol\n",
    "    dWTbar = (WTbar[1::,:,:] - WTbar[0:-1,:,:])*CellVol\n",
    "    dVTe = (VpTp[:,0:-1,:] - VpTp[:,1::,:])*CellVol\n",
    "    dWTe = (WpTp[1::,:,:] - WpTp[0:-1,:,:])*CellVol\n",
    "    Ty = (Tv[:,0:-1,:] - Tv[:,1::,:])*CellVol\n",
    "    Tz = (Tw[1::,:,:] - Tw[0:-1,:,:])*CellVol\n",
    "    Sp = zeros((c.Nz,c.Ny,c.Nx))\n",
    "    Sp = -Ty/Tz\n",
    "    Sp[abs(Sp)<10**-5]=10**-5\n",
    "    Sp[isinf(Sp)]=10**-5\n",
    "    Sp[isnan(Sp)]=10**-5\n",
    "    Ade = ((c.vgrid_to_cgrid(VpTp)*Sp)[1::,:,:] \n",
    "           - (c.vgrid_to_cgrid(VpTp)*Sp)[0:-1,:,:])*CellVol[0:-1,:,:] \n",
    "    DE = ((c.wgrid_to_cgrid(WpTp)-(c.vgrid_to_cgrid(VpTp)*Sp))[1::,:,:] \n",
    "          - (c.wgrid_to_cgrid(WpTp)-(c.vgrid_to_cgrid(VpTp)*Sp))[0:-1,:,:])*CellVol[0:-1,:,:] \n",
    "    # Surface cor\n",
    "    # Surf_corr_tend = (- WTHMASS(ix,iy)) / (DRF(1) * hFacC(ix,iy,1)\n",
    "    Surcor = -(WTHMASS.mean(axis=0)).mean(axis=1)*c.dzf[0]\n",
    "    npad = ((0, 1), (0, 0), (0, 0))\n",
    "    DE = np.pad(DE, pad_width=npad, mode='constant', constant_values=0)\n",
    "    if str(tau[Runs[i]]) == 'Closed':\n",
    "        DE =DE*0.8\n",
    " \n",
    "    ROC = -((np.nansum(Ade,axis=0) + dVTe.sum(axis=0) + dVTbar.sum(axis=0) + dWTbar.sum(axis=0)).sum(axis=1))/sum(CellVol.mean(axis=2))\n",
    "    D =  (((((DE) )).sum(axis=2)).sum(axis=0))\n",
    "    # Diabatic layer area\n",
    "    PI = c.mnc('PSI.nc',\"LaPs1TH\").mean(axis=2)\n",
    "    PI = ma.masked_array(PI,PI<0.95)\n",
    "    th = c.mnc('PSI.nc',\"LaHs1TH\").mean(axis=2)\n",
    "    depths = np.cumsum(th[::-1],axis=0)[::-1]\n",
    "    \n",
    "    # Find Max ROC and depth of diabatic layer\n",
    "    DDL = np.zeros(len(c.yc))\n",
    "    DDL_matrix = zeros((c.Nz,c.Ny,))\n",
    "    psiz = c.get_psi_iso_z()\n",
    "    for jj in range(len(c.yc)):\n",
    "        if ma.all(PI[:,jj]  == 1)  or np.all(psiz[:,jj] == -0) or PI[:,jj].mask.all():\n",
    "            continue\n",
    "        indx = ma.nonzero(PI[:,jj]<0.9999999999)[0]\n",
    "        b = indx[np.nonzero(indx>3)[0]]\n",
    "        if len(b)>2 and (b[1]-b[0])>1:\n",
    "            a = b[1]\n",
    "        else:\n",
    "            a = b[0]\n",
    "            \n",
    "        if a<20 and depths[a-1,jj] - depths[a,jj] > 120:\n",
    "            DDL[jj] = (depths[a-1,jj]+depths[a+1,jj])/2\n",
    "        else:\n",
    "            DDL[jj] = depths[a,jj]\n",
    "        if DDL[jj]>2000:\n",
    "            DDL[jj]= depths[4*a,jj]\n",
    "    \n",
    "\n",
    "    # Diabatic area mask\n",
    "    Zmatrix = np.tile(c.zc,(c.Ny,1)).T\n",
    "    for jj in range(c.Ny):\n",
    "        Zval = -Zmatrix[:,jj]\n",
    "        Zmatrix[Zval>DDL[jj],jj] = 0\n",
    "        #Zmatrix[Zval<=DDL[jj],jj] = 1\n",
    "    V = c.calc_EKE()\n",
    "    g = AC.APEcomputer(c)\n",
    "    APE = g.calc_APE()\n",
    "    if i == 0:\n",
    "        D0 = np.sum(D)\n",
    "        V0 = np.sum(V*CellVol.mean(axis=2))\n",
    "        DDL0 = np.sum(DDL)\n",
    "        APE0 = np.sum(APE.mean(axis=1))\n",
    "    #DDL[DDL==0]=np.nan\n",
    "    \n",
    "\n",
    "    \n",
    "    incD = (np.sum(D)-D0)/D0\n",
    "    incV = (np.sum((V)*CellVol.mean(axis=2))-V0)/V0\n",
    "    incDdl = (np.sum(DDL)-DDL0)/DDL0\n",
    "    incAPE = (np.sum(APE.mean(axis=1))-APE0)/APE0\n",
    "    \n",
    "    Dsum.append(incD)\n",
    "    Vsum.append(incV)\n",
    "    Darea.append(incDdl)\n",
    "    APEt.append(incAPE)\n",
    "Dsum = np.array(Dsum)\n",
    "Vsum = np.array(Vsum)\n",
    "Darea = np.array(Darea)\n",
    "APEt = np.array(APEt)"
   ]
  },
  {
   "cell_type": "code",
   "execution_count": 24,
   "metadata": {
    "collapsed": false
   },
   "outputs": [
    {
     "data": {
      "image/png": "[encoded data removed]",
      "text/plain": [
       "<matplotlib.figure.Figure at 0x2b4df81f3410>"
      ]
     },
     "metadata": {},
     "output_type": "display_data"
    }
   ],
   "source": [
    "fig = plt.figure(figsize=(14.5, 12.5))\n",
    "Tau = [3,300,3000,10**5]\n",
    "p = plot(Tau,Dsum*100,'k',linewidth=3)\n",
    "p1 = plt.bar(Tau,abs(Vsum)*100,width=np.array(Tau)/1.5, color='c')\n",
    "p2 = plt.bar(Tau,abs(Darea)*100 , width=np.array(Tau)/1.5, color='y',bottom=abs(Vsum)*100)\n",
    "p3 = plt.bar(Tau,APEt*100, width=np.array(Tau)/1.5, color='b',bottom=(abs(Vsum)+abs(Darea))*100)\n",
    "#ylim(0,1.2)\n",
    "plt.xscale(\"log\")\n",
    "plt.xlim(0,2*10**5)\n",
    "xticks([10**0,10**2,10**3,10**5], fontsize=20)\n",
    "yticks(fontsize=20)\n",
    "xlabel(r'$\\tau _{T}$', fontsize=25)\n",
    "ylabel(r'% increase', fontsize=25)\n",
    "title(\"% increase in $\\overline{v^\\prime T ^\\prime}_{d}$ and its components: \\n  $v ^\\prime$, $T ^\\prime$ and diabatic layer depth with \\n relaxation timescale. \\n\",fontsize=25)\n",
    "lgd = plt.legend([r'$\\overline{v^\\prime T ^\\prime}_{d}$',r'$v ^\\prime$',r'$dl$',r'$T ^\\prime$',\n",
    "                  'Q'], loc=2, borderaxespad=0.,fontsize=20)"
   ]
  },
  {
   "cell_type": "code",
   "execution_count": 7,
   "metadata": {
    "collapsed": false
   },
   "outputs": [
    {
     "data": {
      "text/plain": [
       "array([ 0.        , -0.26210616,  1.55617063,  1.31865318])"
      ]
     },
     "execution_count": 7,
     "metadata": {},
     "output_type": "execute_result"
    }
   ],
   "source": [
    "Darea"
   ]
  },
  {
   "cell_type": "code",
   "execution_count": 48,
   "metadata": {
    "collapsed": false
   },
   "outputs": [
    {
     "name": "stderr",
     "output_type": "stream",
     "text": [
      "/noc/users/hb1g13/anaconda/lib/python2.7/site-packages/ipykernel/__main__.py:1: RuntimeWarning: invalid value encountered in divide\n",
      "  if __name__ == '__main__':\n"
     ]
    },
    {
     "data": {
      "text/plain": [
       "0.57482093807458146"
      ]
     },
     "execution_count": 48,
     "metadata": {},
     "output_type": "execute_result"
    }
   ],
   "source": [
    "(abs(Darea)/Dsum)[1::2].mean()"
   ]
  },
  {
   "cell_type": "code",
   "execution_count": 49,
   "metadata": {
    "collapsed": false
   },
   "outputs": [
    {
     "name": "stderr",
     "output_type": "stream",
     "text": [
      "/noc/users/hb1g13/anaconda/lib/python2.7/site-packages/ipykernel/__main__.py:1: RuntimeWarning: invalid value encountered in divide\n",
      "  if __name__ == '__main__':\n"
     ]
    },
    {
     "data": {
      "text/plain": [
       "0.30018738267686201"
      ]
     },
     "execution_count": 49,
     "metadata": {},
     "output_type": "execute_result"
    }
   ],
   "source": [
    "(abs(Vsum)/Dsum)[1::].mean()"
   ]
  },
  {
   "cell_type": "code",
   "execution_count": 50,
   "metadata": {
    "collapsed": false
   },
   "outputs": [
    {
     "name": "stderr",
     "output_type": "stream",
     "text": [
      "/noc/users/hb1g13/anaconda/lib/python2.7/site-packages/ipykernel/__main__.py:1: RuntimeWarning: invalid value encountered in divide\n",
      "  if __name__ == '__main__':\n"
     ]
    },
    {
     "data": {
      "text/plain": [
       "array([ 0.12052425,  0.05761225,  0.10000458])"
      ]
     },
     "execution_count": 50,
     "metadata": {},
     "output_type": "execute_result"
    }
   ],
   "source": [
    "(APEt/Dsum)[1::]#.mean()"
   ]
  },
  {
   "cell_type": "code",
   "execution_count": 31,
   "metadata": {
    "collapsed": false
   },
   "outputs": [
    {
     "name": "stderr",
     "output_type": "stream",
     "text": [
      "/noc/users/hb1g13/anaconda/lib/python2.7/site-packages/ipykernel/__main__.py:1: RuntimeWarning: invalid value encountered in divide\n",
      "  if __name__ == '__main__':\n"
     ]
    },
    {
     "data": {
      "text/plain": [
       "array([        nan,  0.12052425,  0.05761225,  0.10000458])"
      ]
     },
     "execution_count": 31,
     "metadata": {},
     "output_type": "execute_result"
    }
   ],
   "source": [
    "APEt/Dsum"
   ]
  },
  {
   "cell_type": "code",
   "execution_count": 2,
   "metadata": {
    "collapsed": false
   },
   "outputs": [
    {
     "ename": "NameError",
     "evalue": "name 'Runs' is not defined",
     "output_type": "error",
     "traceback": [
      "\u001b[0;31m\u001b[0m",
      "\u001b[0;31mNameError\u001b[0mTraceback (most recent call last)",
      "\u001b[0;32m<ipython-input-2-b4bb8a15d35c>\u001b[0m in \u001b[0;36m<module>\u001b[0;34m()\u001b[0m\n\u001b[1;32m      1\u001b[0m \u001b[0mVsum\u001b[0m \u001b[0;34m=\u001b[0m \u001b[0;34m[\u001b[0m\u001b[0;34m]\u001b[0m\u001b[0;34m\u001b[0m\u001b[0m\n\u001b[1;32m      2\u001b[0m \u001b[0mVTsum\u001b[0m \u001b[0;34m=\u001b[0m \u001b[0;34m[\u001b[0m\u001b[0;34m]\u001b[0m\u001b[0;34m\u001b[0m\u001b[0m\n\u001b[0;32m----> 3\u001b[0;31m \u001b[0;32mfor\u001b[0m \u001b[0mi\u001b[0m \u001b[0;32min\u001b[0m \u001b[0mrange\u001b[0m\u001b[0;34m(\u001b[0m\u001b[0mlen\u001b[0m\u001b[0;34m(\u001b[0m\u001b[0mRuns\u001b[0m\u001b[0;34m)\u001b[0m\u001b[0;34m)\u001b[0m\u001b[0;34m:\u001b[0m\u001b[0;34m\u001b[0m\u001b[0m\n\u001b[0m\u001b[1;32m      4\u001b[0m     \u001b[0mfname\u001b[0m \u001b[0;34m=\u001b[0m \u001b[0mx\u001b[0m\u001b[0;34m+\u001b[0m\u001b[0;34m'/'\u001b[0m\u001b[0;34m+\u001b[0m\u001b[0mstr\u001b[0m\u001b[0;34m(\u001b[0m\u001b[0mtau\u001b[0m\u001b[0;34m[\u001b[0m\u001b[0mRuns\u001b[0m\u001b[0;34m[\u001b[0m\u001b[0mi\u001b[0m\u001b[0;34m]\u001b[0m\u001b[0;34m]\u001b[0m\u001b[0;34m)\u001b[0m\u001b[0;34m+\u001b[0m\u001b[0;34m'daynokpp/'\u001b[0m\u001b[0;34m\u001b[0m\u001b[0m\n\u001b[1;32m      5\u001b[0m     \u001b[0mc\u001b[0m \u001b[0;34m=\u001b[0m \u001b[0mutils\u001b[0m\u001b[0;34m.\u001b[0m\u001b[0mChannelSetup\u001b[0m\u001b[0;34m(\u001b[0m\u001b[0moutput_dir\u001b[0m\u001b[0;34m=\u001b[0m\u001b[0mstr\u001b[0m\u001b[0;34m(\u001b[0m\u001b[0mfname\u001b[0m\u001b[0;34m)\u001b[0m\u001b[0;34m)\u001b[0m\u001b[0;34m\u001b[0m\u001b[0m\n",
      "\u001b[0;31mNameError\u001b[0m: name 'Runs' is not defined"
     ]
    }
   ],
   "source": [
    "Vsum = []\n",
    "VTsum = []\n",
    "for i in range(len(Runs)):\n",
    "    fname = x+'/'+str(tau[Runs[i]])+'daynokpp/'\n",
    "    c = utils.ChannelSetup(output_dir=str(fname))\n",
    "    # PLOT PANNELS\n",
    "    CellVol = c.rac*np.tile(c.dzf,(c.Nx,c.Ny,1)).T\n",
    "    # load V, W, T bar    \n",
    "    # put everything on the C Grid                        \n",
    "    VT = (c.mnc('Tav_VT.nc','VVELTH'))\n",
    "    WT = (c.mnc('Tav_VT.nc','WVELTH'))\n",
    "    Tv = utils.cgrid_to_vgrid(c.mnc('Tav.nc','THETA'))\n",
    "    Tw = utils.cgrid_to_wgrid(c.mnc('Tav.nc','THETA'))\n",
    "    V = (c.mnc('Tav.nc','VVEL'))\n",
    "    W = (c.mnc('Tav.nc','WVEL'))\n",
    "    npad = ((0, 1), (0, 0), (0, 0))\n",
    "    W = np.pad(W, pad_width=npad, mode='constant', constant_values=0)\n",
    "    WT = np.pad(WT, pad_width=npad, mode='constant', constant_values=0)\n",
    "\n",
    "    VTe = c.vgrid_to_cgrid( VT - V*Tv )\n",
    "\n",
    " \n",
    "    V = np.sqrt(c.calc_EKE())\n",
    "  \n",
    "    if i == 0:\n",
    "        VT0 = np.sum(VTe.mean(axis=2)*CellVol.mean(axis=2))\n",
    "        V0 = np.sum(V*CellVol.mean(axis=2))\n",
    "\n",
    "\n",
    "    Vsum.append((np.sum(V*CellVol.mean(axis=2))-V0)/V0)\n",
    "    VTsum.append((np.sum(VTe.mean(axis=2)*CellVol.mean(axis=2))-VT0)/VT0)\n",
    "VTsum = np.array(VTsum)\n",
    "Vsum = np.array(Vsum)\n"
   ]
  },
  {
   "cell_type": "code",
   "execution_count": 3,
   "metadata": {
    "collapsed": false
   },
   "outputs": [
    {
     "ename": "NameError",
     "evalue": "name 'plt' is not defined",
     "output_type": "error",
     "traceback": [
      "\u001b[0;31m\u001b[0m",
      "\u001b[0;31mNameError\u001b[0mTraceback (most recent call last)",
      "\u001b[0;32m<ipython-input-3-c0f62d771ca5>\u001b[0m in \u001b[0;36m<module>\u001b[0;34m()\u001b[0m\n\u001b[0;32m----> 1\u001b[0;31m \u001b[0mfig\u001b[0m \u001b[0;34m=\u001b[0m \u001b[0mplt\u001b[0m\u001b[0;34m.\u001b[0m\u001b[0mfigure\u001b[0m\u001b[0;34m(\u001b[0m\u001b[0mfigsize\u001b[0m\u001b[0;34m=\u001b[0m\u001b[0;34m(\u001b[0m\u001b[0;36m14.5\u001b[0m\u001b[0;34m,\u001b[0m \u001b[0;36m12.5\u001b[0m\u001b[0;34m)\u001b[0m\u001b[0;34m)\u001b[0m\u001b[0;34m\u001b[0m\u001b[0m\n\u001b[0m\u001b[1;32m      2\u001b[0m \u001b[0mTau\u001b[0m \u001b[0;34m=\u001b[0m \u001b[0;34m[\u001b[0m\u001b[0;36m3\u001b[0m\u001b[0;34m,\u001b[0m\u001b[0;36m300\u001b[0m\u001b[0;34m,\u001b[0m\u001b[0;36m3000\u001b[0m\u001b[0;34m,\u001b[0m\u001b[0;36m10\u001b[0m\u001b[0;34m**\u001b[0m\u001b[0;36m5\u001b[0m\u001b[0;34m]\u001b[0m\u001b[0;34m\u001b[0m\u001b[0m\n\u001b[1;32m      3\u001b[0m \u001b[0mp\u001b[0m \u001b[0;34m=\u001b[0m \u001b[0mplot\u001b[0m\u001b[0;34m(\u001b[0m\u001b[0mTau\u001b[0m\u001b[0;34m,\u001b[0m\u001b[0mVsum\u001b[0m\u001b[0;34m*\u001b[0m\u001b[0;36m100\u001b[0m\u001b[0;34m,\u001b[0m\u001b[0;34m'--k'\u001b[0m\u001b[0;34m,\u001b[0m\u001b[0mlinewidth\u001b[0m\u001b[0;34m=\u001b[0m\u001b[0;36m3\u001b[0m\u001b[0;34m)\u001b[0m\u001b[0;34m\u001b[0m\u001b[0m\n\u001b[1;32m      4\u001b[0m \u001b[0mp1\u001b[0m \u001b[0;34m=\u001b[0m \u001b[0mplot\u001b[0m\u001b[0;34m(\u001b[0m\u001b[0mTau\u001b[0m\u001b[0;34m,\u001b[0m\u001b[0mVTsum\u001b[0m\u001b[0;34m*\u001b[0m\u001b[0;36m100\u001b[0m\u001b[0;34m,\u001b[0m\u001b[0;34m'k'\u001b[0m\u001b[0;34m,\u001b[0m\u001b[0mlinewidth\u001b[0m\u001b[0;34m=\u001b[0m\u001b[0;36m3\u001b[0m\u001b[0;34m)\u001b[0m\u001b[0;34m\u001b[0m\u001b[0m\n\u001b[1;32m      5\u001b[0m \u001b[0mylim\u001b[0m\u001b[0;34m(\u001b[0m\u001b[0;36m0\u001b[0m\u001b[0;34m,\u001b[0m\u001b[0;36m150\u001b[0m\u001b[0;34m)\u001b[0m\u001b[0;34m\u001b[0m\u001b[0m\n",
      "\u001b[0;31mNameError\u001b[0m: name 'plt' is not defined"
     ]
    }
   ],
   "source": [
    "fig = plt.figure(figsize=(14.5, 12.5))\n",
    "Tau = [3,300,3000,10**5]\n",
    "p = plot(Tau,Vsum*100,'--k',linewidth=3)\n",
    "p1 = plot(Tau,VTsum*100,'k',linewidth=3)\n",
    "ylim(0,150)\n",
    "plt.xscale(\"log\")\n",
    "plt.xlim(0,2*10**5)\n",
    "xticks([10**0,10**2,10**3,10**5], fontsize=25)\n",
    "yticks(fontsize=25)\n",
    "xlabel(r'$\\tau _{T}$', fontsize=25)\n",
    "ylabel(r'% increase', fontsize=25)\n",
    "title(\"% increase in  $v ^\\prime$ and $\\overline{v^\\prime T ^\\prime}$ with \\n relaxation timescale. \\n\",fontsize=30)\n",
    "lgd = plt.legend([r'$v ^\\prime$',r'$\\overline{v^\\prime T ^\\prime}$'\n",
    "                 ],bbox_to_anchor=(1.05, 1), loc=2, borderaxespad=0.,fontsize=20)"
   ]
  },
  {
   "cell_type": "code",
   "execution_count": 714,
   "metadata": {
    "collapsed": false
   },
   "outputs": [
    {
     "name": "stderr",
     "output_type": "stream",
     "text": [
      "/noc/users/hb1g13/anaconda/lib/python2.7/site-packages/IPython/kernel/__main__.py:1: RuntimeWarning: invalid value encountered in divide\n",
      "  if __name__ == '__main__':\n"
     ]
    },
    {
     "data": {
      "text/plain": [
       "array([        nan,  0.9431607 ,  0.36028877,  0.29996657])"
      ]
     },
     "execution_count": 714,
     "metadata": {},
     "output_type": "execute_result"
    }
   ],
   "source": [
    "Vsum/VTsum"
   ]
  },
  {
   "cell_type": "code",
   "execution_count": 719,
   "metadata": {
    "collapsed": false
   },
   "outputs": [
    {
     "data": {
      "text/plain": [
       "array([  0.        ,   2.48812195,  11.36897332,  41.71767156])"
      ]
     },
     "execution_count": 719,
     "metadata": {},
     "output_type": "execute_result"
    }
   ],
   "source": [
    "Vsum*100"
   ]
  },
  {
   "cell_type": "code",
   "execution_count": null,
   "metadata": {
    "collapsed": true
   },
   "outputs": [],
   "source": []
  }
 ],
 "metadata": {
  "anaconda-cloud": {},
  "kernelspec": {
   "display_name": "CentOS",
   "language": "python",
   "name": "centos"
  },
  "language_info": {
   "codemirror_mode": {
    "name": "ipython",
    "version": 2
   },
   "file_extension": ".py",
   "mimetype": "text/x-python",
   "name": "python",
   "nbconvert_exporter": "python",
   "pygments_lexer": "ipython2",
   "version": "2.7.12"
  }
 },
 "nbformat": 4,
 "nbformat_minor": 0
}
