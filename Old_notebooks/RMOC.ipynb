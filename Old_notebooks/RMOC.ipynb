{
 "metadata": {
  "name": "",
  "signature": "sha256:14b01c2c6d07c663e4e0a5c96ae62617118fef1307dc726ab332757e3710e825"
 },
 "nbformat": 3,
 "nbformat_minor": 0,
 "worksheets": [
  {
   "cells": [
    {
     "cell_type": "raw",
     "metadata": {},
     "source": [
      "#! /usr/bin/env python and then chmod the file"
     ]
    },
    {
     "cell_type": "code",
     "collapsed": false,
     "input": [
      "from scipy.io import netcdf\n",
      "import numpy as np\n",
      "import matplotlib.pyplot as plt\n",
      "import os\n",
      "import csv\n",
      "import glob\n",
      "import sys"
     ],
     "language": "python",
     "metadata": {},
     "outputs": [],
     "prompt_number": 163
    },
    {
     "cell_type": "raw",
     "metadata": {},
     "source": [
      "Comp = sys.argv[1]\n",
      "OP = sys.argv[2]\n",
      "yr=0\n",
      "x=\"/noc/msm/scratch/students/hb1g13/\"+Comp+\"/\"+OP+\"/Psi_dens/\"\n",
      "lists=glob.glob(x+'*.nc')\n",
      "os.chdir(x)\n",
      "for file in lists:"
     ]
    },
    {
     "cell_type": "code",
     "collapsed": false,
     "input": [
      "Comp=\"Iridis4\"\n",
      "OP=\"Sponge1\""
     ],
     "language": "python",
     "metadata": {},
     "outputs": [],
     "prompt_number": 164
    },
    {
     "cell_type": "code",
     "collapsed": false,
     "input": [
      "x=\"/noc/msm/scratch/students/hb1g13/\"+Comp+\"/\"+OP+\"/Psi_dens/\" \n",
      "os.chdir(x)"
     ],
     "language": "python",
     "metadata": {},
     "outputs": [],
     "prompt_number": 165
    },
    {
     "cell_type": "raw",
     "metadata": {},
     "source": [
      "os.getcwd() will show cwd"
     ]
    },
    {
     "cell_type": "code",
     "collapsed": false,
     "input": [
      "file = netcdf.NetCDFFile('20-30Psi.nc','r')"
     ],
     "language": "python",
     "metadata": {},
     "outputs": [],
     "prompt_number": 166
    },
    {
     "cell_type": "code",
     "collapsed": false,
     "input": [
      "lvrho=file.variables['LaVH1RHO']\n",
      "lvrho=lvrho[:]\n",
      "Y=file.variables['Yp1']\n",
      "Y=Y[:]\n",
      "if Comp=='Nautilus':\n",
      "   dx = 6666.66677\n",
      "else:\n",
      "   dx=5000"
     ],
     "language": "python",
     "metadata": {},
     "outputs": [
      {
       "ename": "AttributeError",
       "evalue": "type object 'file' has no attribute 'variables'",
       "output_type": "pyerr",
       "traceback": [
        "\u001b[1;31m---------------------------------------------------------------------------\u001b[0m\n\u001b[1;31mAttributeError\u001b[0m                            Traceback (most recent call last)",
        "\u001b[1;32m<ipython-input-6-8bee160f2e2a>\u001b[0m in \u001b[0;36m<module>\u001b[1;34m()\u001b[0m\n\u001b[1;32m----> 1\u001b[1;33m \u001b[0mlvrho\u001b[0m\u001b[1;33m=\u001b[0m\u001b[0mfile\u001b[0m\u001b[1;33m.\u001b[0m\u001b[0mvariables\u001b[0m\u001b[1;33m[\u001b[0m\u001b[1;34m'LaVH1RHO'\u001b[0m\u001b[1;33m]\u001b[0m\u001b[1;33m\u001b[0m\u001b[0m\n\u001b[0m\u001b[0;32m      2\u001b[0m \u001b[0mlvrho\u001b[0m\u001b[1;33m=\u001b[0m\u001b[0mlvrho\u001b[0m\u001b[1;33m[\u001b[0m\u001b[1;33m:\u001b[0m\u001b[1;33m]\u001b[0m\u001b[1;33m\u001b[0m\u001b[0m\n\u001b[0;32m      3\u001b[0m \u001b[0mY\u001b[0m\u001b[1;33m=\u001b[0m\u001b[0mfile\u001b[0m\u001b[1;33m.\u001b[0m\u001b[0mvariables\u001b[0m\u001b[1;33m[\u001b[0m\u001b[1;34m'Yp1'\u001b[0m\u001b[1;33m]\u001b[0m\u001b[1;33m\u001b[0m\u001b[0m\n\u001b[0;32m      4\u001b[0m \u001b[0mY\u001b[0m\u001b[1;33m=\u001b[0m\u001b[0mY\u001b[0m\u001b[1;33m[\u001b[0m\u001b[1;33m:\u001b[0m\u001b[1;33m]\u001b[0m\u001b[1;33m\u001b[0m\u001b[0m\n\u001b[0;32m      5\u001b[0m \u001b[1;32mif\u001b[0m \u001b[0mComp\u001b[0m\u001b[1;33m==\u001b[0m\u001b[1;34m'Nautilus'\u001b[0m\u001b[1;33m:\u001b[0m\u001b[1;33m\u001b[0m\u001b[0m\n",
        "\u001b[1;31mAttributeError\u001b[0m: type object 'file' has no attribute 'variables'"
       ]
      }
     ],
     "prompt_number": 6
    },
    {
     "cell_type": "code",
     "collapsed": false,
     "input": [
      "VT=np.sum(lvrho*dx,axis=3)\n",
      "VTf=VT[:,::-1,:]\n",
      "VTfdz=np.zeros(np.shape(VT))\n"
     ],
     "language": "python",
     "metadata": {},
     "outputs": [],
     "prompt_number": 168
    },
    {
     "cell_type": "code",
     "collapsed": false,
     "input": [
      "for i in range(0,59):\n",
      "    VTfdz[:,i,:]=np.sum(VTf[:,0:i,:],axis=1)"
     ],
     "language": "python",
     "metadata": {},
     "outputs": [],
     "prompt_number": 169
    },
    {
     "cell_type": "code",
     "collapsed": false,
     "input": [
      "VTdx=VTfdz[:,::-1,:]"
     ],
     "language": "python",
     "metadata": {},
     "outputs": [],
     "prompt_number": 170
    },
    {
     "cell_type": "code",
     "collapsed": false,
     "input": [
      "psi=np.mean(VTdx,axis=0)/10**6\n",
      "y=Y/1000\n",
      "z=np.array(range(1,60))"
     ],
     "language": "python",
     "metadata": {},
     "outputs": [],
     "prompt_number": 171
    },
    {
     "cell_type": "code",
     "collapsed": false,
     "input": [
      "Rho = np.genfromtxt('./Dens', delimiter = ',') "
     ],
     "language": "python",
     "metadata": {},
     "outputs": [],
     "prompt_number": 172
    },
    {
     "cell_type": "code",
     "collapsed": false,
     "input": [
      "Rho=Rho[0:59]"
     ],
     "language": "python",
     "metadata": {},
     "outputs": [],
     "prompt_number": 173
    },
    {
     "cell_type": "code",
     "collapsed": false,
     "input": [
      "plt.contourf(y,Rho,psi,50,cmap=plt.cm.seismic)\n",
      "cbar = plt.colorbar()\n",
      "plt.title('MOC')\n",
      "plt.gca().invert_yaxis()\n",
      "plt.annotate('NADW?', xy=(1000, 1000), xytext=(1500, 998),arrowprops=dict(facecolor='black', shrink=0.05),)\n",
      "plt.xlabel('Distance (km)')\n",
      "plt.ylabel('Density')\n",
      "cbar.ax.set_ylabel('Psi (sv)')"
     ],
     "language": "python",
     "metadata": {},
     "outputs": [
      {
       "metadata": {},
       "output_type": "pyout",
       "prompt_number": 176,
       "text": [
        "<matplotlib.text.Text at 0x2b619f2d39d0>"
       ]
      },
      {
       "metadata": {},
       "output_type": "display_data",
       "png": "[encoded data removed]"
      }
     ],
     "prompt_number": 176
    },
    {
     "cell_type": "code",
     "collapsed": false,
     "input": [
      "x=\"/noc/users/hb1g13/Figures/\"+Comp+\"/\"+OP\n",
      "os.chdir(x)\n",
      "y=\"Psires\"+str(yr)+\".png\"\n",
      "plt.savefig(y)\n",
      "plt.clf()\n",
      "yr=yr+1"
     ],
     "language": "python",
     "metadata": {},
     "outputs": [],
     "prompt_number": 161
    },
    {
     "cell_type": "code",
     "collapsed": false,
     "input": [],
     "language": "python",
     "metadata": {},
     "outputs": []
    }
   ],
   "metadata": {}
  }
 ]
}