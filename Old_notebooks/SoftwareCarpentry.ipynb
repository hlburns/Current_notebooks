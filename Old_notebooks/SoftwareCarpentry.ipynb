{
 "metadata": {
  "name": "",
  "signature": "sha256:854e3c484465fdb4b7d5aa9fe166332e31fcbc3c7c0b326931ba9ad739d1f4ac"
 },
 "nbformat": 3,
 "nbformat_minor": 0,
 "worksheets": [
  {
   "cells": [
    {
     "cell_type": "heading",
     "level": 1,
     "metadata": {},
     "source": [
      "Software Carpentary Course"
     ]
    },
    {
     "cell_type": "code",
     "collapsed": true,
     "input": [],
     "language": "python",
     "metadata": {},
     "outputs": []
    }
   ],
   "metadata": {}
  }
 ]
}