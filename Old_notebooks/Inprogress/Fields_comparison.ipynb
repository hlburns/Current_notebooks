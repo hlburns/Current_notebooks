{
 "metadata": {
  "name": "",
  "signature": "sha256:c8f23feac351cc24665388ef840c49e700b63405255782857e8e1ca658def68c"
 },
 "nbformat": 3,
 "nbformat_minor": 0,
 "worksheets": [
  {
   "cells": [
    {
     "cell_type": "raw",
     "metadata": {},
     "source": [
      "#! /usr/bin/env python chmod the file and just type Remap.py Iridis4 TEST 30-50"
     ]
    },
    {
     "cell_type": "code",
     "collapsed": false,
     "input": [
      "from scipy.io import netcdf\n",
      "import numpy as np\n",
      "import matplotlib.pyplot as plt\n",
      "import os\n",
      "import csv\n",
      "import sys\n",
      "from scipy.interpolate import griddata\n",
      "from pylab import *\n",
      "from multiprocessing import Pool"
     ],
     "language": "python",
     "metadata": {},
     "outputs": [],
     "prompt_number": 1
    },
    {
     "cell_type": "code",
     "collapsed": false,
     "input": [
      "Comp = sys.argv[1]\n",
      "OP = sys.argv[2]\n",
      "Years = sys.argv[3]"
     ],
     "language": "python",
     "metadata": {},
     "outputs": [],
     "prompt_number": 2
    },
    {
     "cell_type": "code",
     "collapsed": false,
     "input": [
      "def find_nearest(array,value):\n",
      "    idx = (np.abs(array-value)).argmin()\n",
      "    return array[idx]"
     ],
     "language": "python",
     "metadata": {},
     "outputs": [],
     "prompt_number": 3
    },
    {
     "cell_type": "code",
     "collapsed": false,
     "input": [
      "Comp=\"Mobilis\"\n",
      "OP=\"1000day\"\n",
      "Years=\"240-260\"\n",
      "x=\"/noc/msm/scratch/students/hb1g13/\"+Comp+\"/\"+OP\n",
      "os.chdir(x)"
     ],
     "language": "python",
     "metadata": {},
     "outputs": [],
     "prompt_number": 89
    },
    {
     "cell_type": "raw",
     "metadata": {},
     "source": [
      "First find Psi_res "
     ]
    },
    {
     "cell_type": "code",
     "collapsed": false,
     "input": [
      "Rho = np.genfromtxt('Temp', delimiter = ',') \n",
      "Rho=Rho[0:42]"
     ],
     "language": "python",
     "metadata": {},
     "outputs": [],
     "prompt_number": 90
    },
    {
     "cell_type": "code",
     "collapsed": false,
     "input": [
      "file = netcdf.NetCDFFile(Years+\"Psi.nc\",'r')\n",
      "lvrho=file.variables['LaVH1TH']\n",
      "lvrho=lvrho[:]\n",
      "Y=file.variables['Yp1']\n",
      "Y=Y[:]\n",
      "time=file.variables['T']\n",
      "ti=time[:]\n",
      "dx=Y[1]-Y[0]"
     ],
     "language": "python",
     "metadata": {},
     "outputs": [],
     "prompt_number": 91
    },
    {
     "cell_type": "code",
     "collapsed": false,
     "input": [
      "VT=np.sum(lvrho*dx,axis=3)\n",
      "VTf=VT[:,::-1,:]"
     ],
     "language": "python",
     "metadata": {},
     "outputs": [],
     "prompt_number": 92
    },
    {
     "cell_type": "code",
     "collapsed": false,
     "input": [
      "VTfdz=np.cumsum(VTf,axis=1)"
     ],
     "language": "python",
     "metadata": {},
     "outputs": [],
     "prompt_number": 93
    },
    {
     "cell_type": "code",
     "collapsed": false,
     "input": [
      "VTdx=VTfdz[:,::-1,:]\n",
      "psi=np.mean(VTdx,axis=0)/10**6\n",
      "y=Y/1000\n",
      "start=int(np.divide(ti[0],(86400*360)))\n",
      "end=int(np.divide(ti[-1],(86400*360)))"
     ],
     "language": "python",
     "metadata": {},
     "outputs": [],
     "prompt_number": 94
    },
    {
     "cell_type": "raw",
     "metadata": {},
     "source": [
      "Now Plot to check"
     ]
    },
    {
     "cell_type": "raw",
     "metadata": {},
     "source": [
      "Now find the density field"
     ]
    },
    {
     "cell_type": "code",
     "collapsed": false,
     "input": [
      "file2 = netcdf.NetCDFFile(Years+\"all.nc\",'r')\n",
      "Temp=file2.variables['THETA']\n",
      "Temp=Temp[:]\n",
      "U=file2.variables['UVEL']\n",
      "U=U[:]"
     ],
     "language": "python",
     "metadata": {},
     "outputs": [],
     "prompt_number": 95
    },
    {
     "cell_type": "code",
     "collapsed": false,
     "input": [
      "Tav=np.mean(Temp,axis=0)\n",
      "Uav=np.mean(U,axis=0)"
     ],
     "language": "python",
     "metadata": {},
     "outputs": [],
     "prompt_number": 79
    },
    {
     "cell_type": "code",
     "collapsed": false,
     "input": [
      "file2 = netcdf.NetCDFFile('grid.nc','r')\n",
      "lm=file2.variables['HFacC']\n",
      "Yc=file2.variables['Y']\n",
      "Yc=Yc[:]\n",
      "Z=file2.variables['Z']\n",
      "Z=Z[:]\n",
      "X=file2.variables['X']\n",
      "X=X[:]"
     ],
     "language": "python",
     "metadata": {},
     "outputs": [],
     "prompt_number": 80
    },
    {
     "cell_type": "code",
     "collapsed": false,
     "input": [
      "Z=Z[:]\n",
      "lm=lm[:]\n",
      "lmc=np.array(lm)"
     ],
     "language": "python",
     "metadata": {},
     "outputs": [],
     "prompt_number": 81
    },
    {
     "cell_type": "code",
     "collapsed": false,
     "input": [
      "lmc[lmc<1]=np.nan"
     ],
     "language": "python",
     "metadata": {},
     "outputs": [],
     "prompt_number": 82
    },
    {
     "cell_type": "code",
     "collapsed": false,
     "input": [
      "Tavlat=np.mean(Tav,axis=2)\n",
      "Ulat=np.mean(Uav,axis=2)\n",
      "Yc=Yc/1000"
     ],
     "language": "python",
     "metadata": {},
     "outputs": [],
     "prompt_number": 83
    },
    {
     "cell_type": "raw",
     "metadata": {},
     "source": [
      "Now to remap the Psi(Y,Rho) to Psi(Y,Z)"
     ]
    },
    {
     "cell_type": "code",
     "collapsed": false,
     "input": [
      "Psimap=np.zeros(shape(Tavlat))"
     ],
     "language": "python",
     "metadata": {},
     "outputs": [],
     "prompt_number": 84
    },
    {
     "cell_type": "code",
     "collapsed": false,
     "input": [
      "for i in range(len(Yc)):\n",
      "    for k in range(len(Z)):\n",
      "        #D=Densav[k,i]\n",
      "        D=Tavlat[k,i]\n",
      "        if D==nan:\n",
      "           Psimap[k,i]=nan\n",
      "        else:\n",
      "            P=psi[:,i]\n",
      "            I=find_nearest(Rho, D)\n",
      "            b=nonzero(Rho==I)[0][0]\n",
      "            Psimap[k,i]=P[b]"
     ],
     "language": "python",
     "metadata": {},
     "outputs": [],
     "prompt_number": 85
    },
    {
     "cell_type": "code",
     "collapsed": false,
     "input": [
      "lmav=np.mean(lmc,axis=2)"
     ],
     "language": "python",
     "metadata": {},
     "outputs": [],
     "prompt_number": 86
    },
    {
     "cell_type": "code",
     "collapsed": false,
     "input": [
      "Psimapped=np.multiply(Psimap,lmav)\n",
      "Psimapped[Psimapped==0]=np.nan"
     ],
     "language": "python",
     "metadata": {},
     "outputs": [],
     "prompt_number": 87
    },
    {
     "cell_type": "code",
     "collapsed": false,
     "input": [
      "plot1=plt.contourf(Yc,Z,Psimapped,150,cmap=cm.seismic)\n",
      "cbar = plt.colorbar()\n",
      "clim(-0.8,0.8)\n",
      "plt.title('Remapped Stream Function')\n",
      "plt.xlabel('Distance (km)')\n",
      "plt.ylabel('Depth')\n",
      "cbar.ax.set_ylabel('$\\psi_{res}$ (Sv)')\n",
      "x=\"/noc/users/hb1g13/Figures/\"+Comp+\"/\"+OP \n",
      "if not os.path.exists(x):\n",
      "       os.makedirs(x)\n",
      "y=x+\"/Reampped_fixscale\"+Years+\".png\" \n",
      "plt.savefig(y)"
     ],
     "language": "python",
     "metadata": {},
     "outputs": [
      {
       "metadata": {},
       "output_type": "display_data",
       "png": "[encoded data removed]",
       "text": [
        "<matplotlib.figure.Figure at 0x3428310>"
       ]
      }
     ],
     "prompt_number": 88
    },
    {
     "cell_type": "code",
     "collapsed": false,
     "input": [],
     "language": "python",
     "metadata": {},
     "outputs": [],
     "prompt_number": 37
    },
    {
     "cell_type": "code",
     "collapsed": false,
     "input": [],
     "language": "python",
     "metadata": {},
     "outputs": []
    }
   ],
   "metadata": {}
  }
 ]
}