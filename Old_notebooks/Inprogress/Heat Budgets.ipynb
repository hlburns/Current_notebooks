{
 "metadata": {
  "name": "",
  "signature": "sha256:98a55d41d48d658ef7f2089b9f935d905d92aba3c72b5c98d027d50356fdbffe"
 },
 "nbformat": 3,
 "nbformat_minor": 0,
 "worksheets": [
  {
   "cells": [
    {
     "cell_type": "heading",
     "level": 1,
     "metadata": {},
     "source": [
      "Heat Budgets\n"
     ]
    },
    {
     "cell_type": "markdown",
     "metadata": {},
     "source": [
      "The time mean heat budget is separated into the sum of the heat content tendency ($\\mathcal{T}$), advective heat fluxes due to the mean flow ($\\mathcal{M}$) and eddies ($\\mathcal{E}$), and heat fluxes from diffusion  ($\\mathcal{D}$) and convection ($\\mathcal{C}$) so that:\n",
      "\\begin{equation}\n",
      " \\mathcal{T} + \\mathcal{M} + \\mathcal{E} + \\mathcal{D} +  \\mathcal{C} = \\, 0\n",
      "\\label{}\n",
      "\\end{equation}\n",
      "\n",
      "The MITgcm outputs Tendancy, Advection (Mean) and Diffusion Terms and the residual is the Eddy flux!\n",
      "\n",
      "\n",
      "I think when the is zero net Q the domain integrated Tendancy should = 0. From Av Domain T plots it looks like that it will be close to zero even in the Abernathy case\n",
      "\n",
      "**MITgcm Specific Stuff**\n",
      "\n",
      "* In order to check the heat budget you need to compare the cumulative (or mean x avaraging interval)\n",
      "heatflux into the ocean to the change in heat content over the averaging interval.\n",
      "\n",
      "* In order to get these diagnostics, you need to save (in data.diagnostics)\n",
      "oceQnet (surface heat flux), or TFLUX (which contains everything) with a \"frequency\" of e.g. 1year\n",
      "to get yearly averages, then THETA with the same negative frequency (-1year) and a \"timePhase\" of 0 t\\\n",
      "o get snapshots at the beginning and the end of the this interval.\n",
      "\n",
      "* Advective and diffusive fluxes:\n",
      "  ADVx_TH is the 'effect of advection'.  It includes flux-limiting\n",
      "  and diffusion from the numerical scheme.\n",
      "\n",
      "* DFxE_TH\n",
      "  which could be termed \"diffusive\", i.e. it contains all\n",
      "  non-advective components in the dT/dt sum, such as diffusion due to\n",
      "  Laplacian or biharmonic diffusion (diffKh, diffK4) and due to GM/Redi.\n",
      "\n",
      "* (ADVx_TH, DFxE_TH) are mass-weighted as well\n",
      "  (yes, it's the mass of water in the grid cell),\n",
      "  so you don't have to worry about cell area, thickness or surface\n",
      "  corrections when computing sums or budgets.\n",
      "\n",
      "*\n",
      "NB:\n",
      "For closing budgets, or for diagnosing the full effect of the\n",
      "advection operator (which is, when flux-limiting, partly 'diffusive'\n",
      "in nature) use ADVx_TH.  You will not, for example, be able to easily\n",
      "account for all the terms leading to dT/dt at a given gridcell unless\n",
      "you use ADVx_TH.*\n",
      "\n",
      "**NB**\n",
      "\n",
      "KPPghatK is reqired to close heat budget when using KPP (non-local transport)\n",
      "\n",
      "The vartiables are:\n",
      "* TOTTTEND(T, Z, Y, X) Tendency of Potential Temperature ($^o$C/day)\n",
      "* ADVy_TH(T, Z, Yp1, X) Meridional Advective Flux of Pot.Temperature ($^o$C.m$^3$/s) \n",
      "* DFyE_TH(T, Z, Yp1, X) Meridional Diffusive Flux of Pot.Temperature ($^o$C.m$^3$/s)\n",
      "* ADVx_TH(T, Z, Y, Xp1) Zonal Advective Flux of Pot.Temperature ($^o$C.m$^3$/s) \n",
      "* DFxE_TH(T, Z, Y, Xp1) Zonal Diffusive Flux of Pot.Temperature ($^o$C.m$^3$/s)\n",
      "* ADVr_TH(T, Z, Y, X) Vertical Advective Flux of Pot.Temperature ($^o$C.m$^3$/s)\n",
      "* DFrE_TH(T, Z, Y, X) Vertical Diffusive Flux of Pot.Temperature (Explicit part) ($^o$C.m$^3$/s)\n",
      "* oceQnet W/m$^2$\n",
      "* KPPg_TH KPP non-local Flux of Pot.Temperature $^o$C.m$^3$/s\n"
     ]
    },
    {
     "cell_type": "code",
     "collapsed": false,
     "input": [
      "from scipy.io import netcdf\n",
      "import numpy as np\n",
      "import matplotlib.pyplot as plt\n",
      "import os\n",
      "import csv\n",
      "import sys\n",
      "from pylab import *\n",
      "from numba import autojit\n",
      "from IPython.parallel import Client"
     ],
     "language": "python",
     "metadata": {},
     "outputs": [],
     "prompt_number": 5
    },
    {
     "cell_type": "code",
     "collapsed": false,
     "input": [
      "Comp=\"Mobilis\"\n",
      "OP=\"Ryan_myedits\"\n",
      "Years=\"240-250\"\n",
      "x=\"/noc/msm/scratch/students/hb1g13/\"+Comp+\"/\"+OP+\"/Heat_Budget\" \n",
      "os.chdir(x)"
     ],
     "language": "python",
     "metadata": {},
     "outputs": [],
     "prompt_number": 6
    },
    {
     "cell_type": "code",
     "collapsed": false,
     "input": [
      "''' The heat budget file for 10 years is huge!\n",
      "    the first thing you need to do reduce it to 1 year'''\n",
      "f = netcdf.NetCDFFile(Years+\"TOTTTEND.nc\",'r')\n",
      "Y=f.variables['Y']\n",
      "X=f.variables['X']\n",
      "Tendancy=f.variables['TOTTTEND']"
     ],
     "language": "python",
     "metadata": {},
     "outputs": [],
     "prompt_number": 20
    },
    {
     "cell_type": "code",
     "collapsed": false,
     "input": [
      "Tendancy=Tendancy[0:120,:,:,:]*1 # turn to 1 year"
     ],
     "language": "python",
     "metadata": {},
     "outputs": [],
     "prompt_number": 17
    },
    {
     "cell_type": "code",
     "collapsed": false,
     "input": [
      "f = netcdf.NetCDFFile(Years+\"ADVy_TH.nc\",'r')\n",
      "Yp=f.variables['Yp1']\n",
      "Advy=f.variables['ADVy_TH']"
     ],
     "language": "python",
     "metadata": {},
     "outputs": [],
     "prompt_number": 23
    },
    {
     "cell_type": "code",
     "collapsed": false,
     "input": [
      "Advy=Advy[0:120,:,:,:]*1"
     ],
     "language": "python",
     "metadata": {},
     "outputs": [],
     "prompt_number": 24
    },
    {
     "cell_type": "code",
     "collapsed": false,
     "input": [
      "f = netcdf.NetCDFFile(Years+\"DFyE_TH.nc\",'r')\n",
      "DFyE=f.variables['DFyE_TH']"
     ],
     "language": "python",
     "metadata": {},
     "outputs": [],
     "prompt_number": 25
    },
    {
     "cell_type": "code",
     "collapsed": false,
     "input": [
      "DFyE=DFyE[0:120,:,:,:]*1"
     ],
     "language": "python",
     "metadata": {},
     "outputs": [],
     "prompt_number": 27
    },
    {
     "cell_type": "code",
     "collapsed": false,
     "input": [
      "f = netcdf.NetCDFFile(Years+\"DFxE_TH.nc\",'r')\n",
      "DFxE=f.variables['DFxE_TH']"
     ],
     "language": "python",
     "metadata": {},
     "outputs": [],
     "prompt_number": 28
    },
    {
     "cell_type": "code",
     "collapsed": false,
     "input": [
      "DFxE=DFxE[0:120,:,:,:]*1"
     ],
     "language": "python",
     "metadata": {},
     "outputs": [],
     "prompt_number": 29
    },
    {
     "cell_type": "code",
     "collapsed": false,
     "input": [
      "f = netcdf.NetCDFFile(Years+\"ADVx_TH.nc\",'r')\n",
      "ADVx=f.variables['ADVx_TH']\n",
      "ADVx=ADVx[0:120,:,:,:]*1"
     ],
     "language": "python",
     "metadata": {},
     "outputs": [],
     "prompt_number": 33
    },
    {
     "cell_type": "code",
     "collapsed": false,
     "input": [
      "f = netcdf.NetCDFFile(Years+\"ADVr_TH.nc\",'r')\n",
      "ADVr=f.variables['ADVr_TH']\n",
      "ADVr=ADVr[0:120,:,:,:]*1"
     ],
     "language": "python",
     "metadata": {},
     "outputs": [],
     "prompt_number": 35
    },
    {
     "cell_type": "code",
     "collapsed": false,
     "input": [
      "#Regrid to center\n"
     ],
     "language": "python",
     "metadata": {},
     "outputs": []
    }
   ],
   "metadata": {}
  }
 ]
}