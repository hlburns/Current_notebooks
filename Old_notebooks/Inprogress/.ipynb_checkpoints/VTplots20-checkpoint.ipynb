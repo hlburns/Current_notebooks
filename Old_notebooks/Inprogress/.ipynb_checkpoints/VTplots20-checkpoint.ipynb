{
 "metadata": {
  "name": "",
  "signature": "sha256:74c6ef1e7b13401faf092e991622ab9ac04a65e9bd23899e015dc9f1c674d8d6"
 },
 "nbformat": 3,
 "nbformat_minor": 0,
 "worksheets": [
  {
   "cells": [
    {
     "cell_type": "heading",
     "level": 1,
     "metadata": {},
     "source": [
      "VTplots\n"
     ]
    },
    {
     "cell_type": "code",
     "collapsed": false,
     "input": [
      "from scipy.io import netcdf\n",
      "import numpy as np\n",
      "import matplotlib.pyplot as plt\n",
      "import os\n",
      "import sys\n",
      "from pylab import *\n",
      "from numba import autojit"
     ],
     "language": "python",
     "metadata": {},
     "outputs": [],
     "prompt_number": 442
    },
    {
     "cell_type": "code",
     "collapsed": false,
     "input": [
      "Comp=\"Mobilis\"\n",
      "OP=\"3daynokpp\"\n",
      "OP2=\"10daynokpp\"\n",
      "x=\"/noc/msm/scratch/students/hb1g13/\"+Comp+\"/\"+OP+\"/\" \n",
      "os.chdir(x)"
     ],
     "language": "python",
     "metadata": {},
     "outputs": [],
     "prompt_number": 443
    },
    {
     "cell_type": "code",
     "collapsed": false,
     "input": [
      "file2=netcdf.netcdf_file('grid.nc','r')\n",
      "Z=file2.variables['Z']\n",
      "Yc=file2.variables['Y']\n",
      "#Read in the VTtav files\n",
      "fileVT = netcdf.NetCDFFile(\"VTprimebar.nc\",'r') \n",
      "VTbar=fileVT.variables['VT']\n",
      "VTzone=np.mean(VTbar[:]*1,axis=2)"
     ],
     "language": "python",
     "metadata": {},
     "outputs": [],
     "prompt_number": 444
    },
    {
     "cell_type": "code",
     "collapsed": false,
     "input": [
      "Yc=Yc[:]*1\n",
      "y=Yc/1000\n",
      "z=Z[:]*1"
     ],
     "language": "python",
     "metadata": {},
     "outputs": [],
     "prompt_number": 445
    },
    {
     "cell_type": "code",
     "collapsed": false,
     "input": [
      "Eddy_ticks =(np.arange(-0.05,0.05,0.005))"
     ],
     "language": "python",
     "metadata": {},
     "outputs": [],
     "prompt_number": 446
    },
    {
     "cell_type": "code",
     "collapsed": false,
     "input": [
      "cf1=plt.contourf(y,z,VTzone,50,cmap=plt.cm.seismic)\n",
      "clim(-0.05,0.05) # Put 0 to white                                                                   \n",
      "cbar = plt.colorbar(cf1,ticks=Eddy_ticks,shrink=0.8)\n",
      "plt.title(\"V'T' (\"+OP+\")\")\n",
      "plt.ylabel(\"Depth\")\n",
      "plt.xlabel(\"Meridional Distance (km)\")\n",
      "plt.savefig(\"/noc/users/hb1g13/Figures/\"+Comp+\"/\"+OP+\"/VTplt.png\")\n"
     ],
     "language": "python",
     "metadata": {},
     "outputs": [
      {
       "metadata": {},
       "output_type": "display_data",
       "png": "[encoded data removed]",
       "text": [
        "<matplotlib.figure.Figure at 0x2b2481254310>"
       ]
      }
     ],
     "prompt_number": 447
    },
    {
     "cell_type": "code",
     "collapsed": false,
     "input": [
      "x=\"/noc/msm/scratch/students/hb1g13/\"+Comp+\"/\"+OP2+\"/\" \n",
      "os.chdir(x)"
     ],
     "language": "python",
     "metadata": {},
     "outputs": [],
     "prompt_number": 448
    },
    {
     "cell_type": "code",
     "collapsed": false,
     "input": [
      "#Read in the VTtav files\n",
      "fileVT = netcdf.NetCDFFile(\"VTprimebar.nc\",'r') \n",
      "VTbar=fileVT.variables['VT']"
     ],
     "language": "python",
     "metadata": {},
     "outputs": [],
     "prompt_number": 449
    },
    {
     "cell_type": "code",
     "collapsed": false,
     "input": [
      "VTzone2=np.mean(VTbar[:]*1,axis=2)"
     ],
     "language": "python",
     "metadata": {},
     "outputs": [],
     "prompt_number": 450
    },
    {
     "cell_type": "code",
     "collapsed": false,
     "input": [
      "Anom=abs(VTzone2)-abs(VTzone)"
     ],
     "language": "python",
     "metadata": {},
     "outputs": [],
     "prompt_number": 451
    },
    {
     "cell_type": "code",
     "collapsed": false,
     "input": [
      "Z=Z[:]*1"
     ],
     "language": "python",
     "metadata": {},
     "outputs": [],
     "prompt_number": 452
    },
    {
     "cell_type": "code",
     "collapsed": false,
     "input": [
      "Eddy_ticks =(np.arange(-0.025,0.05,0.005))"
     ],
     "language": "python",
     "metadata": {},
     "outputs": [],
     "prompt_number": 453
    },
    {
     "cell_type": "code",
     "collapsed": false,
     "input": [
      "cf1=plt.contourf(y,Z,Anom,40,cmap=plt.cm.seismic)\n",
      "clim(-0.025,0.025) # Put 0 to white                                                                   \n",
      "cbar = plt.colorbar(cf1,ticks=Eddy_ticks, shrink=0.8)\n",
      "plt.title(\"V'T' anomally (\"+OP2+\")\")\n",
      "plt.ylabel(\"Depth\")\n",
      "plt.xlabel(\"Meridional Distance (km)\")\n",
      "plt.savefig(\"/noc/users/hb1g13/Figures/\"+Comp+\"/\"+OP2+\"/VTanomplt.png\")"
     ],
     "language": "python",
     "metadata": {},
     "outputs": [
      {
       "metadata": {},
       "output_type": "display_data",
       "png": "[encoded data removed]",
       "text": [
        "<matplotlib.figure.Figure at 0x2b2482a32d50>"
       ]
      }
     ],
     "prompt_number": 454
    },
    {
     "cell_type": "code",
     "collapsed": true,
     "input": [],
     "language": "python",
     "metadata": {},
     "outputs": [],
     "prompt_number": 454
    }
   ],
   "metadata": {}
  }
 ]
}