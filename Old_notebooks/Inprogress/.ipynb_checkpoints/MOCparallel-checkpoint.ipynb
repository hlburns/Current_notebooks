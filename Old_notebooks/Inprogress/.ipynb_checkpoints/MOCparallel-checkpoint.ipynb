{
 "cells": [
  {
   "cell_type": "code",
   "execution_count": 1,
   "metadata": {
    "collapsed": false
   },
   "outputs": [],
   "source": [
    "import sys\n",
    "import subprocess\n",
    "from numpy import nan, empty, genfromtxt, size, nansum, nanmax, linspace, squeeze, zeros, fromfunction, repeat, std, empty\n",
    "from scipy import array\n",
    "from scipy.stats import nanmean\n",
    "import h5py\n",
    "from pylab import clf, plot, show, floor, ceil, imshow\n",
    "from matplotlib.pyplot import xlabel, ylabel, legend, savefig, colorbar, title, clim, pcolor, cm\n",
    "from scipy.io import netcdf\n",
    "#from numba import autojit\n",
    "from __future__ import division\n",
    "from IPython.parallel import Client\n",
    "import numpy as np\n",
    "import scipy.io.netcdf as nc\n",
    "import matplotlib.pyplot as plt\n",
    "from scipy.optimize import curve_fit\n",
    "import glob\n",
    "import os\n"
   ]
  },
  {
   "cell_type": "code",
   "execution_count": 4,
   "metadata": {
    "collapsed": false
   },
   "outputs": [
    {
     "name": "stdout",
     "output_type": "stream",
     "text": [
      "Worker engine IDs: [0, 1, 2, 3, 4, 5]\n"
     ]
    }
   ],
   "source": [
    "rc = Client('/noc/users/hb1g13/.ipython/profile_default/security/ipcontroller-client.json')\n",
    "dview = rc[:]\n",
    "\n",
    "print(\"Worker engine IDs: {}\".format(rc.ids))"
   ]
  },
  {
   "cell_type": "code",
   "execution_count": 6,
   "metadata": {
    "collapsed": false
   },
   "outputs": [],
   "source": [
    "%%px\n",
    "import os\n",
    "from scipy.io import netcdf\n",
    "import numpy as np\n",
    "import matplotlib.pyplot as plt\n",
    "global Comp\n",
    "global OP\n",
    "Comp=\"Mobilis\"\n",
    "OP=\"Ryan_myedits\""
   ]
  },
  {
   "cell_type": "code",
   "execution_count": 7,
   "metadata": {
    "collapsed": false
   },
   "outputs": [],
   "source": [
    "%%px\n",
    "x=\"/noc/msm/scratch/students/hb1g13/\"+Comp+\"/\"+OP+\"/glued_state_files/\"\n",
    "lists=glob.glob(x+'*.nc')\n",
    "os.chdir(x)\n",
    "x=\"/noc/msm/scratch/students/hb1g13/\"+Comp+\"/\"+OP+\"/glued_state_files/\"\n",
    "lists=glob.glob(x+'*.nc')\n",
    "os.chdir(x)"
   ]
  },
  {
   "cell_type": "code",
   "execution_count": 8,
   "metadata": {
    "collapsed": false
   },
   "outputs": [],
   "source": [
    "%%px\n",
    "def MOC():\n",
    "   for file in lists:\n",
    "       x=\"/noc/msm/scratch/students/hb1g13/\"+Comp+\"/\"+OP+\"/glued_state_files/\"\n",
    "       os.chdir(x)\n",
    "       file3=str(file) \n",
    "       file2read = netcdf.NetCDFFile(file3,'r')\n",
    "       Y=file2read.variables['Yp1']\n",
    "       Y=Y[:]\n",
    "       V=file2read.variables['V']\n",
    "       V=V[:]\n",
    "       Z=file2read.variables['Z']\n",
    "       Z=Z[:]\n",
    "       I=file2read.variables['iter']\n",
    "       I=I[:]\n",
    "       if Comp=='Nautilus':\n",
    "          dx = 6666.66677\n",
    "       else:\n",
    "           dx=5000\n",
    "       Vtave=np.mean(V,axis = 0)\n",
    "       grd=\"/noc/msm/scratch/students/hb1g13/\"+Comp+\"/\"+OP+\"/grid/\"\n",
    "       os.chdir(grd)\n",
    "       file2=netcdf.netcdf_file('grid.nc','r')\n",
    "       Zp1=file2.variables['Zp1']\n",
    "       Zp=Zp1[:]\n",
    "       Vtave[Vtave==0]=np.nan\n",
    "       Vzone=np.sum(Vtave*dx,axis = 2)\n",
    "       dz=Zp[0:len(Zp)-1]-Zp[1:len(Zp)]\n",
    "       dA=dx*dz\n",
    "       psi = np.zeros((len(Zp),len(Y)))\n",
    "       for j in range(len(Y)):\n",
    "           for k in range(0,len(Zp)-1):\n",
    "               psi[k,j] = psi[k-1,j] + dz[k]*Vzone[k,j]\n",
    "       y =Y/1000\n",
    "       Psi=psi/10**6\n",
    "       plt.contourf(y,Zp,Psi,50,cmap=plt.cm.seismic)\n",
    "       cbar = plt.colorbar()\n",
    "       yr=I[0]/86400 \n",
    "       plt.title(\"MOC year \"+str(yr))\n",
    "       plt.xlabel('Distance (km)')\n",
    "       plt.ylabel('Density')\n",
    "       cbar.ax.set_ylabel('Psi (sv)')\n",
    "       x=\"/noc/users/hb1g13/Figures/\"+Comp+\"/\"+OP\n",
    "       os.chdir(x)\n",
    "       y=\"MOC\"+str(I[0]/86400)+\".png\"\n",
    "       plt.savefig(y)\n",
    "       plt.clf()\n",
    "   return Psi                 "
   ]
  },
  {
   "cell_type": "code",
   "execution_count": 9,
   "metadata": {
    "collapsed": false
   },
   "outputs": [
    {
     "data": {
      "text/plain": [
       "<AsyncResult: execute>"
      ]
     },
     "execution_count": 9,
     "metadata": {},
     "output_type": "execute_result"
    }
   ],
   "source": [
    "dview.execute('A_local=MOC()', block=True)"
   ]
  },
  {
   "cell_type": "code",
   "execution_count": 60,
   "metadata": {
    "collapsed": false
   },
   "outputs": [
    {
     "name": "stdout",
     "output_type": "stream",
     "text": [
      "\u001b[H\u001b[2J"
     ]
    }
   ],
   "source": [
    "q"
   ]
  },
  {
   "cell_type": "code",
   "execution_count": null,
   "metadata": {
    "collapsed": false
   },
   "outputs": [],
   "source": []
  }
 ],
 "metadata": {
  "kernelspec": {
   "display_name": "Python 2",
   "language": "python",
   "name": "python2"
  },
  "language_info": {
   "codemirror_mode": {
    "name": "ipython",
    "version": 2
   },
   "file_extension": ".py",
   "mimetype": "text/x-python",
   "name": "python",
   "nbconvert_exporter": "python",
   "pygments_lexer": "ipython2",
   "version": "2.7.11"
  }
 },
 "nbformat": 4,
 "nbformat_minor": 0
}
