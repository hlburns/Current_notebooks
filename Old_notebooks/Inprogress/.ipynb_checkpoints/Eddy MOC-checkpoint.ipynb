{
 "metadata": {
  "name": "",
  "signature": "sha256:c8aef2ddb76c7144737f8dd8b9a1662834e082dd83d1db4522a13fd168dc6329"
 },
 "nbformat": 3,
 "nbformat_minor": 0,
 "worksheets": [
  {
   "cells": [
    {
     "cell_type": "heading",
     "level": 1,
     "metadata": {},
     "source": [
      "Eddy MOC (y,z)"
     ]
    },
    {
     "cell_type": "raw",
     "metadata": {},
     "source": [
      "This is just the remaped version - the eulerian mean"
     ]
    },
    {
     "cell_type": "code",
     "collapsed": false,
     "input": [
      "from scipy.io import netcdf\n",
      "import numpy as np\n",
      "import matplotlib.pyplot as plt\n",
      "import os\n",
      "import csv\n",
      "import sys\n",
      "from scipy.interpolate import griddata\n",
      "from pylab import *"
     ],
     "language": "python",
     "metadata": {},
     "outputs": [],
     "prompt_number": 25
    },
    {
     "cell_type": "code",
     "collapsed": false,
     "input": [
      "def find_nearest(array,value):\n",
      "    idx = (np.abs(array-value)).argmin()\n",
      "    return array[idx]"
     ],
     "language": "python",
     "metadata": {},
     "outputs": [],
     "prompt_number": 26
    },
    {
     "cell_type": "code",
     "collapsed": false,
     "input": [
      "Comp=\"Mobilis\"\n",
      "OP=\"100day\"\n",
      "Years=\"220-240\"\n",
      "x=\"/noc/msm/scratch/students/hb1g13/\"+Comp+\"/\"+OP\n",
      "os.chdir(x)"
     ],
     "language": "python",
     "metadata": {},
     "outputs": [],
     "prompt_number": 27
    },
    {
     "cell_type": "code",
     "collapsed": false,
     "input": [
      "Rho = np.genfromtxt('Temp', delimiter = ',') \n",
      "Rho=Rho[0:42]"
     ],
     "language": "python",
     "metadata": {},
     "outputs": [],
     "prompt_number": 28
    },
    {
     "cell_type": "code",
     "collapsed": false,
     "input": [
      "file = netcdf.NetCDFFile(Years+\"Psi.nc\",'r')\n",
      "lvrho=file.variables['LaVH1TH']\n",
      "lvrho=lvrho[:]\n",
      "Y=file.variables['Yp1']\n",
      "Y=Y[:]\n",
      "time=file.variables['T']\n",
      "ti=time[:]*1\n",
      "dx=Y[1]-Y[0]"
     ],
     "language": "python",
     "metadata": {},
     "outputs": [],
     "prompt_number": 29
    },
    {
     "cell_type": "code",
     "collapsed": false,
     "input": [
      "VT=np.sum(lvrho*dx,axis=3)\n",
      "VTf=VT[:,::-1,:]"
     ],
     "language": "python",
     "metadata": {},
     "outputs": [],
     "prompt_number": 30
    },
    {
     "cell_type": "code",
     "collapsed": false,
     "input": [
      "VTfdz=np.cumsum(VTf,axis=1)"
     ],
     "language": "python",
     "metadata": {},
     "outputs": [],
     "prompt_number": 31
    },
    {
     "cell_type": "code",
     "collapsed": false,
     "input": [
      "VTdx=VTfdz[:,::-1,:]\n",
      "psi=np.mean(VTdx,axis=0)/10**6\n",
      "y=Y/1000\n",
      "start=int(np.divide(ti[0],(86400*360)))\n",
      "end=int(np.divide(ti[-1],(86400*360)))"
     ],
     "language": "python",
     "metadata": {},
     "outputs": [],
     "prompt_number": 32
    },
    {
     "cell_type": "code",
     "collapsed": false,
     "input": [
      "file2 = netcdf.NetCDFFile(Years+\"all.nc\",'r')\n",
      "Temp=file2.variables['THETA']\n",
      "Temp=Temp[:]\n",
      "Tav=np.mean(Temp,axis=0)\n",
      "V=file2.variables['VVEL']\n",
      "V=V[:]*1"
     ],
     "language": "python",
     "metadata": {},
     "outputs": [],
     "prompt_number": 33
    },
    {
     "cell_type": "code",
     "collapsed": false,
     "input": [
      "file2 = netcdf.NetCDFFile('grid.nc','r')\n",
      "lm=file2.variables['HFacC']\n",
      "Yc=file2.variables['Y']\n",
      "Yc=Yc[:]\n",
      "Z=file2.variables['Z']\n",
      "Z=Z[:]\n",
      "X=file2.variables['X']\n",
      "X=X[:]"
     ],
     "language": "python",
     "metadata": {},
     "outputs": [],
     "prompt_number": 34
    },
    {
     "cell_type": "code",
     "collapsed": false,
     "input": [
      "Z=Z[:]\n",
      "lm=lm[:]\n",
      "lmc=np.array(lm)"
     ],
     "language": "python",
     "metadata": {},
     "outputs": [],
     "prompt_number": 35
    },
    {
     "cell_type": "code",
     "collapsed": false,
     "input": [
      "lmc[lmc<1]=np.nan"
     ],
     "language": "python",
     "metadata": {},
     "outputs": [],
     "prompt_number": 36
    },
    {
     "cell_type": "code",
     "collapsed": false,
     "input": [
      "Tavlat=np.mean(Tav,axis=2)\n",
      "Yc=Yc/1000"
     ],
     "language": "python",
     "metadata": {},
     "outputs": [],
     "prompt_number": 37
    },
    {
     "cell_type": "code",
     "collapsed": false,
     "input": [
      "lmav=np.mean(lmc,axis=2)"
     ],
     "language": "python",
     "metadata": {},
     "outputs": [],
     "prompt_number": 38
    },
    {
     "cell_type": "code",
     "collapsed": false,
     "input": [
      "Vtave=np.mean(V,axis = 0)\n",
      "file2=netcdf.netcdf_file('grid.nc','r')\n",
      "Zp1=file2.variables['Zp1']\n",
      "Zp=Zp1[:]\n",
      "Vtave[Vtave==0]=np.nan\n",
      "Vzone=np.nansum(Vtave*dx,axis = 2)\n",
      "dz=Zp[0:len(Zp)-1]-Zp[1:len(Zp)]\n",
      "# No more super slow forloop!\n",
      "psi2=np.apply_along_axis(np.multiply,0,Vzone,dz)\n",
      "psi3=np.cumsum(-psi2[::-1,:],axis=0)\n",
      "npad = ((0,1), (0,0))\n",
      "psi4 = np.pad(psi3, pad_width=npad, mode='constant', constant_values=0)\n",
      "y =Y/1000\n",
      "Psi=psi/10**6 #Convert to Sv \n",
      "Psi2=psi4/10**6"
     ],
     "language": "python",
     "metadata": {},
     "outputs": [],
     "prompt_number": 39
    },
    {
     "cell_type": "code",
     "collapsed": false,
     "input": [
      "Psimap=np.zeros(shape(Psi2))\n",
      "for i in range(len(Yc)):\n",
      "    for k in range(len(Z)):\n",
      "        #D=Densav[k,i]\n",
      "        D=Tavlat[k,i]\n",
      "        if D==nan:\n",
      "           Psimap[k,i]=nan\n",
      "        else:\n",
      "            P=psi[:,i]\n",
      "            I=find_nearest(Rho, D)\n",
      "            b=nonzero(Rho==I)[0][0]\n",
      "            Psimap[k,i]=P[b]"
     ],
     "language": "python",
     "metadata": {},
     "outputs": [],
     "prompt_number": 40
    },
    {
     "cell_type": "code",
     "collapsed": false,
     "input": [
      "#Psimapped=np.multiply(Psimap,lmav)\n",
      "Psimap[Psimap==0]=np.nan"
     ],
     "language": "python",
     "metadata": {},
     "outputs": [],
     "prompt_number": 41
    },
    {
     "cell_type": "code",
     "collapsed": false,
     "input": [
      "Psied=Psimap-Psi2"
     ],
     "language": "python",
     "metadata": {},
     "outputs": [],
     "prompt_number": 42
    },
    {
     "cell_type": "code",
     "collapsed": false,
     "input": [
      "contourf(y,Zp,Psied,50,cmap=cm.seismic) #Use b2r colourmap                                       \n",
      "clim(-(np.nanmax(abs(Psied))),np.nanmax(abs(Psied))) # Put 0 to white                                        \n",
      "cbar = colorbar()\n",
      "title(\"Eddy MOC year \"+str(start))\n",
      "xlabel('Distance (km)')\n",
      "ylabel('Density')\n",
      "cbar.ax.set_ylabel('Psi (sv)')\n",
      "x=\"/noc/users/hb1g13/Figures/\"+Comp+\"/\"+OP\n",
      "os.chdir(x)\n",
      "y=\"Eddy_MOC\"+str(start)+\".png\"\n",
      "savefig(y)"
     ],
     "language": "python",
     "metadata": {},
     "outputs": [
      {
       "metadata": {},
       "output_type": "display_data",
       "png": "[encoded data removed]",
       "text": [
        "<matplotlib.figure.Figure at 0x248e6d0>"
       ]
      }
     ],
     "prompt_number": 43
    },
    {
     "cell_type": "code",
     "collapsed": false,
     "input": [],
     "language": "python",
     "metadata": {},
     "outputs": [],
     "prompt_number": 43
    }
   ],
   "metadata": {}
  }
 ]
}