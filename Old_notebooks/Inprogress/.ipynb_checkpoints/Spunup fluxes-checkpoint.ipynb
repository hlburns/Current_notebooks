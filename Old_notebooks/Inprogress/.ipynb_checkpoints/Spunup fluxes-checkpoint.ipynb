{
 "metadata": {
  "name": "",
  "signature": "sha256:8f3b595b3213b495a013542d9ba6386dea198b7509c80a1f1e7c2a2080b37eba"
 },
 "nbformat": 3,
 "nbformat_minor": 0,
 "worksheets": [
  {
   "cells": [
    {
     "cell_type": "heading",
     "level": 1,
     "metadata": {},
     "source": [
      "Calculate Overturning in density and z space\n"
     ]
    },
    {
     "cell_type": "code",
     "collapsed": false,
     "input": [
      "from scipy.io import netcdf\n",
      "import numpy as np\n",
      "import matplotlib.pyplot as plt\n",
      "import os\n",
      "import csv\n",
      "import sys\n",
      "from pylab import *\n",
      "from numba import autojit"
     ],
     "language": "python",
     "metadata": {},
     "outputs": [],
     "prompt_number": 2
    },
    {
     "cell_type": "code",
     "collapsed": false,
     "input": [
      "Comp=\"Mobilis\"\n",
      "OP=\"10day\"\n",
      "Years=\"241-242\"\n",
      "x=\"/noc/msm/scratch/students/hb1g13/\"+Comp+\"/\"+OP+\"/\" \n",
      "os.chdir(x)"
     ],
     "language": "python",
     "metadata": {},
     "outputs": [],
     "prompt_number": 3
    },
    {
     "cell_type": "code",
     "collapsed": false,
     "input": [
      "file2 = netcdf.NetCDFFile(Years+\"all.nc\",'r') \n",
      "Temp=file2.variables['THETA']\n",
      "Yc=file2.variables['Y']\n",
      "Z=file2.variables['diag_levels']\n",
      "X=file2.variables['X']\n",
      "V=file2.variables['VVEL']\n",
      "V=V[:]*1\n",
      "t=file2.variables['T']\n",
      "ti=t[:]\n",
      "Yp1=file2.variables['Yp1']\n",
      "Yp1=Yp1[:]"
     ],
     "language": "python",
     "metadata": {},
     "outputs": [],
     "prompt_number": 4
    },
    {
     "cell_type": "code",
     "collapsed": false,
     "input": [
      "#Regrid V to center points\n",
      "def regrid(Variable):\n",
      "    Vc=(Variable[0:600,:,0:-1,:]+Variable[0:600,:,1::,:])/2\n",
      "    return Vc\n",
      "numba_regrid = autojit()(regrid)\n",
      "numba_regrid.func_name = \"numba_regrid\"\n",
      "Vc=numba_regrid(V)"
     ],
     "language": "python",
     "metadata": {},
     "outputs": [],
     "prompt_number": 5
    },
    {
     "cell_type": "code",
     "collapsed": false,
     "input": [
      "#For some reason the nc varibales are being read in as >f8 - this stops this\n",
      "Temp=Temp[0:600,:,:,:]*1"
     ],
     "language": "python",
     "metadata": {},
     "outputs": [],
     "prompt_number": 6
    },
    {
     "cell_type": "code",
     "collapsed": false,
     "input": [
      "#Time averaged values\n",
      "#Ttav=np.mean(Temp,axis=0)\n",
      "Vtav=np.mean(V,axis=0)"
     ],
     "language": "python",
     "metadata": {},
     "outputs": [],
     "prompt_number": 7
    },
    {
     "cell_type": "code",
     "collapsed": false,
     "input": [
      "#Area matrix\n",
      "#grd=\"/noc/msm/scratch/students/hb1g13/\"+Comp+\"/\"+OP+\"/grid/\"\n",
      "#os.chdir(grd)\n",
      "file2=netcdf.netcdf_file('grid.nc','r')\n",
      "Zp1=file2.variables['Zp1']\n",
      "Zp=Zp1[:]*1\n",
      "dx=5000\n",
      "dz=Zp[0:len(Zp)-1]-Zp[1:len(Zp)]\n",
      "dA=dz*5000"
     ],
     "language": "python",
     "metadata": {},
     "outputs": [],
     "prompt_number": 8
    },
    {
     "cell_type": "code",
     "collapsed": false,
     "input": [
      "whos"
     ],
     "language": "python",
     "metadata": {},
     "outputs": [
      {
       "output_type": "stream",
       "stream": "stdout",
       "text": [
        "Variable       Type                          Data/Info\n",
        "------------------------------------------------------\n",
        "Comp           str                           Mobilis\n",
        "OP             str                           10day\n",
        "Temp           ndarray                       120x30x400x200: 288000000 elems, type `float32`, 1152000000 bytes (1098 Mb)\n",
        "V              ndarray                       120x30x401x200: 288720000 elems, type `float32`, 1154880000 bytes (1101 Mb)\n",
        "Vc             ndarray                       120x30x400x200: 288000000 elems, type `float32`, 1152000000 bytes (1098 Mb)\n",
        "Vtav           ndarray                       30x401x200: 2406000 elems, type `float32`, 9624000 bytes (9 Mb)\n",
        "X              netcdf_variable               <scipy.io.netcdf.netcdf_v<...>able object at 0x2efbb10>\n",
        "Yc             netcdf_variable               <scipy.io.netcdf.netcdf_v<...>able object at 0x2efbd10>\n",
        "Years          str                           241-242\n",
        "Yp1            ndarray                       401: 401 elems, type `>f8`, 3208 bytes\n",
        "Z              netcdf_variable               <scipy.io.netcdf.netcdf_v<...>able object at 0x2efbad0>\n",
        "Zp             ndarray                       31: 31 elems, type `float64`, 248 bytes\n",
        "Zp1            netcdf_variable               <scipy.io.netcdf.netcdf_v<...>able object at 0x2f05c50>\n",
        "autojit        function                      <function autojit at 0x2ee2758>\n",
        "csv            module                        <module 'csv' from '/noc/<...>a/lib/python2.7/csv.pyc'>\n",
        "dA             ndarray                       30: 30 elems, type `float64`, 240 bytes\n",
        "dx             int                           5000\n",
        "dz             ndarray                       30: 30 elems, type `float64`, 240 bytes\n",
        "fft            function                      <function fft at 0x195d1b8>\n",
        "file2          netcdf_file                   <scipy.io.netcdf.netcdf_file object at 0x2f05f10>\n",
        "info           module                        <module 'numpy.linalg.inf<...>s/numpy/linalg/info.pyc'>\n",
        "linalg         module                        <module 'numpy.linalg.lin<...>numpy/linalg/linalg.pyc'>\n",
        "netcdf         module                        <module 'scipy.io.netcdf'<...>ges/scipy/io/netcdf.pyc'>\n",
        "numba_regrid   CPUOverloaded                 CPUOverloaded(<function regrid at 0x2ef6c08>)\n",
        "os             module                        <module 'os' from '/noc/u<...>da/lib/python2.7/os.pyc'>\n",
        "power          builtin_function_or_method    <built-in method power of<...>object at 0x2ad76aa579c0>\n",
        "random         builtin_function_or_method    <built-in method random_s<...>object at 0x2ad76aa579c0>\n",
        "regrid         function                      <function regrid at 0x2ef6c08>\n",
        "t              netcdf_variable               <scipy.io.netcdf.netcdf_v<...>able object at 0x2efbe10>\n",
        "ti             ndarray                       120: 120 elems, type `>f8`, 960 bytes\n",
        "x              str                           /noc/msm/scratch/students/hb1g13/Mobilis/10day/\n"
       ]
      }
     ],
     "prompt_number": 9
    },
    {
     "cell_type": "code",
     "collapsed": false,
     "input": [
      "def eddycomp(Tracer,Tav):\n",
      "    Vprime=np.zeros(shape(Tracer))\n",
      "    for k in range(len(Tracer[:,1,1,1])):\n",
      "        Vprime[k,:,:,:]=Tracer[k,:,:,:]-Tav\n",
      "    return Vprime\n",
      "numba_eddycomp = autojit()(eddycomp)\n",
      "numba_eddycomp.func_name = \"numba_eddycomp\"\n",
      "Vprime=numba_eddycomp(V,Vtav)"
     ],
     "language": "python",
     "metadata": {},
     "outputs": []
    },
    {
     "cell_type": "raw",
     "metadata": {},
     "source": [
      "Tprime=numba_eddycomp(Temp,Ttav)"
     ]
    },
    {
     "cell_type": "code",
     "collapsed": false,
     "input": [
      "Vzone=np.sum(Vtav*dx,axis = 2)\n",
      "psi2=np.apply_along_axis(np.multiply,0,Vzone,dz)\n",
      "psi3=np.cumsum(-psi2[::-1,:],axis=0)\n",
      "npad = ((0,1), (0,0))\n",
      "psi4 = np.pad(psi3, pad_width=npad, mode='constant', constant_values=0)\n",
      "y =Yp1/1000\n",
      "Psi=psi4/10**6 #Convert to Sv "
     ],
     "language": "python",
     "metadata": {},
     "outputs": []
    },
    {
     "cell_type": "code",
     "collapsed": false,
     "input": [
      "whos"
     ],
     "language": "python",
     "metadata": {},
     "outputs": []
    },
    {
     "cell_type": "code",
     "collapsed": false,
     "input": [
      "#start=int(np.divide(ti[0],(86400*360)))\n",
      "#end=int(np.divide(ti[-1],(86400*360)))\n",
      "contourf(y,Zp,Psi,50,cmap=cm.seismic) #Use b2r colourmap                                       \n",
      "#clim(-(np.nanmax(abs(Psi))),np.nanmax(abs(Psi))) # Put 0 to white                                        \n",
      "#cbar = colorbar()\n",
      "#title(\"MOC year \"+str(start)+\"-\"+str(end))\n",
      "#xlabel('Distance (km)')\n",
      "#ylabel('Density')\n",
      "#cbar.ax.set_ylabel('Psi (sv)')\n",
      "#x=\"/noc/users/hb1g13/Figures/\"+Comp+\"/\"+OP\n",
      "#os.chdir(x)\n",
      "#y=\"MOC\"+str(start)+\"-\"+str(end)+\".png\"\n",
      "#savefig(y)\n",
      "# clf()"
     ],
     "language": "python",
     "metadata": {},
     "outputs": []
    },
    {
     "cell_type": "code",
     "collapsed": false,
     "input": [
      "Vzone=np.nansum(Vprime*dx,axis = 3)\n",
      "psi2=np.apply_along_axis(np.multiply,1,Vzone,dz)\n",
      "psi3=np.mean(np.cumsum(-psi2[:,::-1,:],axis=1),axis=0)\n",
      "npad = ((0,1), (0,0))\n",
      "psi4 = np.pad(psi3, pad_width=npad, mode='constant', constant_values=0)\n",
      "y =Yp1/1000\n",
      "Psi=psi4/10**6 #Convert to Sv"
     ],
     "language": "python",
     "metadata": {},
     "outputs": []
    },
    {
     "cell_type": "code",
     "collapsed": false,
     "input": [
      "contourf(y,Zp,Psi,50,cmap=cm.seismic) #Use b2r colourmap                                       \n",
      "clim(-(np.nanmax(abs(Psi))),np.nanmax(abs(Psi))) # Put 0 to white                                        \n",
      "cbar = colorbar()\n",
      "title(\"Eddy MOC year \"+str(start)+\"-\"+str(end))\n",
      "xlabel('Distance (km)')\n",
      "ylabel('Density')\n",
      "cbar.ax.set_ylabel('Psi (sv)')\n",
      "x=\"/noc/users/hb1g13/Figures/\"+Comp+\"/\"+OP\n",
      "os.chdir(x)\n",
      "y=\"MOC\"+str(start)+\"-\"+str(end)+\".png\"\n",
      "savefig(y)\n",
      "# clf()"
     ],
     "language": "python",
     "metadata": {},
     "outputs": []
    },
    {
     "cell_type": "code",
     "collapsed": false,
     "input": [],
     "language": "python",
     "metadata": {},
     "outputs": []
    }
   ],
   "metadata": {}
  }
 ]
}