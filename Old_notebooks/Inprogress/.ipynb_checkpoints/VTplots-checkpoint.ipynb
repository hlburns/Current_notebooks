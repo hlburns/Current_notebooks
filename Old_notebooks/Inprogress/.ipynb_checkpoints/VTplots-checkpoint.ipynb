{
 "metadata": {
  "name": "",
  "signature": "sha256:d6c852cd8c927f0713007cf15911afdc36382fad0c9fad7651665e7a75b99ffd"
 },
 "nbformat": 3,
 "nbformat_minor": 0,
 "worksheets": [
  {
   "cells": [
    {
     "cell_type": "code",
     "collapsed": false,
     "input": [
      "from scipy.io import netcdf\n",
      "import numpy as np\n",
      "import matplotlib.pyplot as plt\n",
      "import os\n",
      "import csv\n",
      "import sys\n",
      "from pylab import *\n",
      "from numba import autojit\n",
      "from IPython.parallel import Client"
     ],
     "language": "python",
     "metadata": {},
     "outputs": [],
     "prompt_number": 3
    },
    {
     "cell_type": "code",
     "collapsed": false,
     "input": [
      "Comp=\"Mobilis\"\n",
      "OP=\"3daynokpp\"\n",
      "OP2=\"3000daynokpp\"\n",
      "Years=\"200-201\"\n",
      "x=\"/noc/msm/scratch/students/hb1g13/\"+Comp+\"/\"+OP+\"/\" \n",
      "os.chdir(x)"
     ],
     "language": "python",
     "metadata": {},
     "outputs": [],
     "prompt_number": 199
    },
    {
     "cell_type": "code",
     "collapsed": false,
     "input": [
      "#file2=Dataset(Years+\"VT.nc\",'r','format=NETCDF')\n",
      "file2 = netcdf.NetCDFFile(Years+\"all.nc\",'r') \n",
      "Temp=file2.variables['THETA']\n",
      "Yc=file2.variables['Y']\n",
      "V=file2.variables['VVEL']\n",
      "Yp1=file2.variables['Yp1']\n",
      "file3 = netcdf.NetCDFFile(\"grid.nc\",'r')\n",
      "Z=file3.variables['Z']"
     ],
     "language": "python",
     "metadata": {},
     "outputs": [],
     "prompt_number": 84
    },
    {
     "cell_type": "code",
     "collapsed": false,
     "input": [
      "V=V[:]*1"
     ],
     "language": "python",
     "metadata": {},
     "outputs": [],
     "prompt_number": 85
    },
    {
     "cell_type": "code",
     "collapsed": false,
     "input": [
      "#Regrid V to center points\n",
      "def regrid(Variable):\n",
      "    Vc=(Variable[:,:,0:-1,:]+Variable[:,:,1::,:])/2\n",
      "    return Vc\n",
      "numba_regrid = autojit()(regrid)\n",
      "numba_regrid.func_name = \"numba_regrid\"\n",
      "Vc=numba_regrid(V)"
     ],
     "language": "python",
     "metadata": {},
     "outputs": [],
     "prompt_number": 86
    },
    {
     "cell_type": "code",
     "collapsed": false,
     "input": [
      "#For some reason the nc varibales are being read in as >f8 - this stops this\n",
      "Temp=Temp[:]*1"
     ],
     "language": "python",
     "metadata": {},
     "outputs": [],
     "prompt_number": 87
    },
    {
     "cell_type": "code",
     "collapsed": false,
     "input": [
      "#Time averaged values\n",
      "Ttav=np.mean(Temp,axis=0)\n",
      "Vtav=np.mean(Vc,axis=0)"
     ],
     "language": "python",
     "metadata": {},
     "outputs": [],
     "prompt_number": 88
    },
    {
     "cell_type": "code",
     "collapsed": false,
     "input": [
      "def eddycomp(Tracer,Tav):\n",
      "    Vprime=np.zeros(shape(Tracer))\n",
      "    for k in range(len(Tracer[:,1,1,1])):\n",
      "        Vprime[k,:,:,:]=Tracer[k,:,:,:]-Tav\n",
      "    return Vprime\n",
      "numba_eddycomp = autojit()(eddycomp)\n",
      "numba_eddycomp.func_name = \"numba_eddycomp\"\n",
      "Vprime=numba_eddycomp(Vc,Vtav)"
     ],
     "language": "python",
     "metadata": {},
     "outputs": [],
     "prompt_number": 89
    },
    {
     "cell_type": "code",
     "collapsed": false,
     "input": [
      "Tprime=numba_eddycomp(Temp,Ttav)"
     ],
     "language": "python",
     "metadata": {},
     "outputs": [],
     "prompt_number": 90
    },
    {
     "cell_type": "code",
     "collapsed": false,
     "input": [
      "VT=Vprime*Tprime\n",
      "VTbar=np.mean(VT,axis=0)\n",
      "VTzone=np.mean(VTbar,axis=2)"
     ],
     "language": "python",
     "metadata": {},
     "outputs": [],
     "prompt_number": 91
    },
    {
     "cell_type": "code",
     "collapsed": false,
     "input": [
      "Yc=Yc[:]*1\n",
      "y=Yc/1000\n",
      "Z=Z[:]*1"
     ],
     "language": "python",
     "metadata": {},
     "outputs": [],
     "prompt_number": 92
    },
    {
     "cell_type": "code",
     "collapsed": false,
     "input": [
      "Eddy_ticks =  (np.arange(-0.05,0.05,0.005))\n"
     ],
     "language": "python",
     "metadata": {},
     "outputs": [],
     "prompt_number": 143
    },
    {
     "cell_type": "code",
     "collapsed": false,
     "input": [
      "cf1=plt.contourf(y,Z,VTzone,20,cmap=plt.cm.seismic)\n",
      "clim(-0.025,0.025) # Put 0 to white                                                                   \n",
      "cbar = plt.colorbar(cf1, ticks=Eddy_ticks, shrink=0.8)\n",
      "plt.title(\"V'T' (\"+OP+\")\")\n",
      "plt.ylabel(\"Depth\")\n",
      "plt.xlabel(\"Meridional Distance (km)\")\n",
      "plt.savefig(\"/noc/users/hb1g13/Figures/\"+Comp+\"/\"+OP+\"/VTplt.png\")"
     ],
     "language": "python",
     "metadata": {},
     "outputs": [
      {
       "metadata": {},
       "output_type": "display_data",
       "png": "[encoded data removed]",
       "text": [
        "<matplotlib.figure.Figure at 0x2aba90f92390>"
       ]
      }
     ],
     "prompt_number": 94
    },
    {
     "cell_type": "code",
     "collapsed": false,
     "input": [
      "x=\"/noc/msm/scratch/students/hb1g13/\"+Comp+\"/\"+OP2+\"/\" \n",
      "os.chdir(x)"
     ],
     "language": "python",
     "metadata": {},
     "outputs": [],
     "prompt_number": 186
    },
    {
     "cell_type": "code",
     "collapsed": false,
     "input": [
      "#file2=Dataset(Years+\"VT.nc\",'r','format=NETCDF')\n",
      "file4 = netcdf.NetCDFFile(Years+\"all.nc\",'r') \n",
      "Temp=file4.variables['THETA']\n",
      "Yc=file4.variables['Y']\n",
      "V=file4.variables['VVEL']\n",
      "Yp1=file4.variables['Yp1']\n",
      "file5 = netcdf.NetCDFFile(\"grid.nc\",'r')\n",
      "Z=file5.variables['Z']"
     ],
     "language": "python",
     "metadata": {},
     "outputs": [],
     "prompt_number": 187
    },
    {
     "cell_type": "code",
     "collapsed": false,
     "input": [
      "V=V[:]*1"
     ],
     "language": "python",
     "metadata": {},
     "outputs": [],
     "prompt_number": 188
    },
    {
     "cell_type": "code",
     "collapsed": false,
     "input": [
      "#Regrid V to center points\n",
      "Vc=numba_regrid(V)"
     ],
     "language": "python",
     "metadata": {},
     "outputs": [],
     "prompt_number": 189
    },
    {
     "cell_type": "code",
     "collapsed": false,
     "input": [
      "Temp=Temp[:]*1"
     ],
     "language": "python",
     "metadata": {},
     "outputs": [],
     "prompt_number": 190
    },
    {
     "cell_type": "code",
     "collapsed": false,
     "input": [
      "#Time averaged values\n",
      "Ttav=np.mean(Temp,axis=0)\n",
      "Vtav=np.mean(Vc,axis=0)"
     ],
     "language": "python",
     "metadata": {},
     "outputs": [],
     "prompt_number": 191
    },
    {
     "cell_type": "code",
     "collapsed": false,
     "input": [
      "Vprime=numba_eddycomp(Vc,Vtav)"
     ],
     "language": "python",
     "metadata": {},
     "outputs": [],
     "prompt_number": 192
    },
    {
     "cell_type": "code",
     "collapsed": false,
     "input": [
      "Tprime=numba_eddycomp(Temp,Ttav)"
     ],
     "language": "python",
     "metadata": {},
     "outputs": [],
     "prompt_number": 193
    },
    {
     "cell_type": "code",
     "collapsed": false,
     "input": [
      "VT=Vprime*Tprime\n",
      "VTbar=np.mean(VT,axis=0)"
     ],
     "language": "python",
     "metadata": {},
     "outputs": [],
     "prompt_number": 194
    },
    {
     "cell_type": "code",
     "collapsed": false,
     "input": [
      "VTzone2=np.mean(VTbar,axis=2)"
     ],
     "language": "python",
     "metadata": {},
     "outputs": [],
     "prompt_number": 195
    },
    {
     "cell_type": "code",
     "collapsed": false,
     "input": [
      "Anom=VTzone2-VTzone"
     ],
     "language": "python",
     "metadata": {},
     "outputs": [],
     "prompt_number": 196
    },
    {
     "cell_type": "code",
     "collapsed": false,
     "input": [
      "Z=Z[:]*1"
     ],
     "language": "python",
     "metadata": {},
     "outputs": [],
     "prompt_number": 197
    },
    {
     "cell_type": "code",
     "collapsed": false,
     "input": [
      "cf1=plt.contourf(y,Z,Anom,20,cmap=plt.cm.seismic)\n",
      "clim(-0.025,0.025) # Put 0 to white                                                                   \n",
      "cbar = plt.colorbar(cf1, ticks=Eddy_ticks, shrink=0.8)\n",
      "plt.title(\"V'T' anomally (\"+OP2+\")\")\n",
      "plt.ylabel(\"Depth\")\n",
      "plt.xlabel(\"Meridional Distance (km)\")\n",
      "plt.savefig(\"/noc/users/hb1g13/Figures/\"+Comp+\"/\"+OP2+\"/VTanomplt.png\")"
     ],
     "language": "python",
     "metadata": {},
     "outputs": [
      {
       "metadata": {},
       "output_type": "display_data",
       "png": "[encoded data removed]",
       "text": [
        "<matplotlib.figure.Figure at 0x2aba911482d0>"
       ]
      }
     ],
     "prompt_number": 198
    },
    {
     "cell_type": "code",
     "collapsed": false,
     "input": [],
     "language": "python",
     "metadata": {},
     "outputs": []
    }
   ],
   "metadata": {}
  }
 ]
}