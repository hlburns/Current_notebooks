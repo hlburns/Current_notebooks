{
 "metadata": {
  "name": "",
  "signature": "sha256:e3a96f66bc123564ba8d19ec44e6305c852133a3625d1e300b24e5a2f5192704"
 },
 "nbformat": 3,
 "nbformat_minor": 0,
 "worksheets": [
  {
   "cells": [
    {
     "cell_type": "heading",
     "level": 1,
     "metadata": {},
     "source": [
      "RMOC offline"
     ]
    },
    {
     "cell_type": "code",
     "collapsed": false,
     "input": [
      "from scipy.io import netcdf\n",
      "import numpy as np\n",
      "from numpy import array\n",
      "import matplotlib.pyplot as plt"
     ],
     "language": "python",
     "metadata": {},
     "outputs": [],
     "prompt_number": 1
    },
    {
     "cell_type": "code",
     "collapsed": false,
     "input": [
      "def find_nearest(array,value):\n",
      "    idx = (np.abs(array-value)).argmin()\n",
      "    return idx"
     ],
     "language": "python",
     "metadata": {},
     "outputs": [],
     "prompt_number": 2
    },
    {
     "cell_type": "heading",
     "level": 2,
     "metadata": {},
     "source": [
      "Load in Grid, Vel and temp fields"
     ]
    },
    {
     "cell_type": "code",
     "collapsed": false,
     "input": [
      "cd /noc/msm/scratch/students/hb1g13/Mobilis/10day\n"
     ],
     "language": "python",
     "metadata": {},
     "outputs": [
      {
       "output_type": "stream",
       "stream": "stdout",
       "text": [
        "/noc/msm/scratch/students/hb1g13/Mobilis/10day\n"
       ]
      }
     ],
     "prompt_number": 3
    },
    {
     "cell_type": "code",
     "collapsed": false,
     "input": [
      "file = netcdf.NetCDFFile('grid.nc','r')"
     ],
     "language": "python",
     "metadata": {},
     "outputs": [],
     "prompt_number": 4
    },
    {
     "cell_type": "code",
     "collapsed": false,
     "input": [
      "Yp1=file.variables['Yp1']\n",
      "Yp=Yp1[:]\n",
      "Z=file.variables['Z']\n",
      "Z=Z[:]\n",
      "Zp1=file.variables['Zp1']\n",
      "Zp=Zp1[:]\n",
      "X=file.variables['X']\n",
      "X=X[:]\n",
      "Y=file.variables['Y']\n",
      "Y=Y[:]\n",
      "lm1=file.variables['HFacC']\n",
      "lm1=lm1[:]\n",
      "lms=file.variables['HFacS']\n",
      "lms=lms[:]"
     ],
     "language": "python",
     "metadata": {},
     "outputs": [],
     "prompt_number": 5
    },
    {
     "cell_type": "code",
     "collapsed": false,
     "input": [
      "file2=netcdf.NetCDFFile('245-250all.nc','r')"
     ],
     "language": "python",
     "metadata": {},
     "outputs": [],
     "prompt_number": 6
    },
    {
     "cell_type": "code",
     "collapsed": false,
     "input": [
      "V=file2.variables['VVEL']\n",
      "V=V[0:600,:,:,:]\n",
      "Temp=file2.variables['THETA']\n",
      "Temp=Temp[0:600,:,:,:]\n",
      "T=file2.variables['T']\n",
      "T=T[0:600]"
     ],
     "language": "python",
     "metadata": {},
     "outputs": [],
     "prompt_number": 16
    },
    {
     "cell_type": "heading",
     "level": 2,
     "metadata": {},
     "source": [
      "Make time averaged density field"
     ]
    },
    {
     "cell_type": "code",
     "collapsed": false,
     "input": [
      "#tref = np.genfromtxt('./Tref.file', delimiter = ',') \n",
      "#tref=tref[:]"
     ],
     "language": "python",
     "metadata": {},
     "outputs": [],
     "prompt_number": 17
    },
    {
     "cell_type": "code",
     "collapsed": false,
     "input": [
      "Tav=np.mean(Temp,axis=0)"
     ],
     "language": "python",
     "metadata": {},
     "outputs": [],
     "prompt_number": 18
    },
    {
     "cell_type": "code",
     "collapsed": false,
     "input": [
      "Rhonil=1000\n",
      "tAlpha=2*10**-4\n",
      "Tavlat=np.mean(Tav,axis=2)\n",
      "dens=Rhonil*(1-(tAlpha*(Tavlat-0)))\n",
      "Z=Z[:]"
     ],
     "language": "python",
     "metadata": {},
     "outputs": [],
     "prompt_number": 19
    },
    {
     "cell_type": "code",
     "collapsed": false,
     "input": [
      "lm1=lm1[:]\n",
      "lmc=np.array(lm1)\n",
      "#treff=tref[::-1]\n",
      "lmc[lmc<1]=np.nan\n",
      "dens=np.zeros(shape(Tav))"
     ],
     "language": "python",
     "metadata": {},
     "outputs": [],
     "prompt_number": 20
    },
    {
     "cell_type": "code",
     "collapsed": false,
     "input": [
      "#for k in range(len(X)):\n",
      "#for j in range(len(Y)):\n",
      "for i in range(len(Z)):\n",
      "      dens[i,:,:]=Rhonil*(1-(tAlpha*(Tav[i,:,:]-0)))"
     ],
     "language": "python",
     "metadata": {},
     "outputs": [],
     "prompt_number": 21
    },
    {
     "cell_type": "code",
     "collapsed": false,
     "input": [
      "Dens=np.multiply(dens,lmc)\n",
      "Densav=np.mean(dens,axis=2)\n",
      "Densav[Densav==0]=np.nan\n",
      "Yc=Y/1000"
     ],
     "language": "python",
     "metadata": {},
     "outputs": [],
     "prompt_number": 22
    },
    {
     "cell_type": "code",
     "collapsed": false,
     "input": [
      "D=np.linspace(np.nanmin(Densav), np.nanmax(Densav), num=9)\n",
      "plt.contour(Densav,50,cmap=cm.seismic)\n",
      "plt.gca().invert_yaxis()\n",
      "#cbar = plt.colorbar()\n",
      "cbar = plt.colorbar(ticks=D,format='%0.2f')\n",
      "plt.title('Density Field')\n",
      "plt.xlabel('Distance (km)')\n",
      "plt.ylabel('Depth')\n",
      "cbar.ax.set_ylabel('Density')"
     ],
     "language": "python",
     "metadata": {},
     "outputs": [
      {
       "metadata": {},
       "output_type": "pyout",
       "prompt_number": 23,
       "text": [
        "<matplotlib.text.Text at 0x2b8b4856c750>"
       ]
      },
      {
       "metadata": {},
       "output_type": "display_data",
       "png": "[encoded data removed]",
       "text": [
        "<matplotlib.figure.Figure at 0x2b8b48494f50>"
       ]
      }
     ],
     "prompt_number": 23
    },
    {
     "cell_type": "heading",
     "level": 2,
     "metadata": {},
     "source": [
      "Remap velocity in to density co-ordinates"
     ]
    },
    {
     "cell_type": "heading",
     "level": 3,
     "metadata": {},
     "source": [
      "Expand Density Cordinates\n"
     ]
    },
    {
     "cell_type": "code",
     "collapsed": false,
     "input": [
      "Dens2=np.zeros((60,len(Y),len(X)))"
     ],
     "language": "python",
     "metadata": {},
     "outputs": [],
     "prompt_number": 24
    },
    {
     "cell_type": "code",
     "collapsed": false,
     "input": [
      "i=1\n",
      "for k in range(len(Z)):\n",
      "    Dens2[i-1,:,:]=Dens[k,:,:]\n",
      "    Dens2[i,:,:]=np.mean(Dens[k:k+1,:,:],axis=0)\n",
      "    i=i+2\n",
      "        "
     ],
     "language": "python",
     "metadata": {},
     "outputs": [],
     "prompt_number": 25
    },
    {
     "cell_type": "code",
     "collapsed": false,
     "input": [
      "Densav2=np.mean(Dens2,axis=2)"
     ],
     "language": "python",
     "metadata": {},
     "outputs": [],
     "prompt_number": 26
    },
    {
     "cell_type": "code",
     "collapsed": false,
     "input": [
      "D2=np.linspace(np.nanmin(Densav2), np.nanmax(Densav2), num=9)\n",
      "plt.contourf(Densav2,60,cmap=cm.seismic)\n",
      "plt.gca().invert_yaxis()\n",
      "#cbar = plt.colorbar()\n",
      "cbar = plt.colorbar(ticks=D2,format='%0.2f')\n",
      "plt.title('Density Field')\n",
      "plt.xlabel('Distance (km)')\n",
      "plt.ylabel('Depth')\n",
      "cbar.ax.set_ylabel('Density')"
     ],
     "language": "python",
     "metadata": {},
     "outputs": [
      {
       "metadata": {},
       "output_type": "pyout",
       "prompt_number": 27,
       "text": [
        "<matplotlib.text.Text at 0x2b8b48a13710>"
       ]
      },
      {
       "metadata": {},
       "output_type": "display_data",
       "png": "[encoded data removed]",
       "text": [
        "<matplotlib.figure.Figure at 0x2b8b48581690>"
       ]
      }
     ],
     "prompt_number": 27
    },
    {
     "cell_type": "heading",
     "level": 3,
     "metadata": {},
     "source": [
      "Expand Velocity Co-ordinates"
     ]
    },
    {
     "cell_type": "code",
     "collapsed": false,
     "input": [
      "\n",
      "V2=np.zeros((len(T),60,len(Yp),len(X)))"
     ],
     "language": "python",
     "metadata": {},
     "outputs": [],
     "prompt_number": 28
    },
    {
     "cell_type": "code",
     "collapsed": false,
     "input": [
      "i=1\n",
      "for k in range(len(Z)):\n",
      "    V2[:,i-1,:,:]=V[:,k,:,:]\n",
      "    V2[:,i,:,:]=np.mean(V[:,k:k+1,:,:],axis=1)\n",
      "    i=i+2"
     ],
     "language": "python",
     "metadata": {},
     "outputs": [],
     "prompt_number": 29
    },
    {
     "cell_type": "code",
     "collapsed": false,
     "input": [
      "vtave=np.mean(V2,axis=0)\n"
     ],
     "language": "python",
     "metadata": {},
     "outputs": [],
     "prompt_number": 30
    },
    {
     "cell_type": "code",
     "collapsed": false,
     "input": [
      "vav=np.mean(vtave,axis=2)"
     ],
     "language": "python",
     "metadata": {},
     "outputs": [],
     "prompt_number": 31
    },
    {
     "cell_type": "code",
     "collapsed": false,
     "input": [
      "vtave1=np.mean(V,axis=0)\n",
      "vav1=np.mean(vtave1,axis=2)"
     ],
     "language": "python",
     "metadata": {},
     "outputs": [],
     "prompt_number": 32
    },
    {
     "cell_type": "code",
     "collapsed": false,
     "input": [
      "plt.contourf(vav,60,cmap=cm.seismic)\n",
      "#plt.gca().invert_yaxis()\n",
      "#cbar = plt.colorbar()\n",
      "#cbar = plt.colorbar(ticks=D2,format='%0.2f')\n",
      "plt.title('Density Field')\n",
      "plt.xlabel('Distance (km)')\n",
      "plt.ylabel('Depth')\n",
      "cbar.ax.set_ylabel('Velocity')"
     ],
     "language": "python",
     "metadata": {},
     "outputs": [
      {
       "metadata": {},
       "output_type": "pyout",
       "prompt_number": 33,
       "text": [
        "<matplotlib.text.Text at 0x2b8b48a13710>"
       ]
      },
      {
       "metadata": {},
       "output_type": "display_data",
       "png": "[encoded data removed]",
       "text": [
        "<matplotlib.figure.Figure at 0x264c310>"
       ]
      }
     ],
     "prompt_number": 33
    },
    {
     "cell_type": "code",
     "collapsed": false,
     "input": [
      "D3=np.linspace(np.nanmin(Densav2), np.nanmax(Densav2), num=60)"
     ],
     "language": "python",
     "metadata": {},
     "outputs": [],
     "prompt_number": 34
    },
    {
     "cell_type": "code",
     "collapsed": false,
     "input": [
      "Vmap=np.zeros((len(T),60,len(Yp),len(X)))"
     ],
     "language": "python",
     "metadata": {},
     "outputs": [],
     "prompt_number": 35
    },
    {
     "cell_type": "code",
     "collapsed": false,
     "input": [
      "for i in range(len(Y)):\n",
      "    for j in range(len(X)):\n",
      "       for k in range(0,59):\n",
      "           D=Dens2[k,i,j]\n",
      "           step1 = (np.abs(D3-D))\n",
      "           step2=np.nanmin(step1)\n",
      "           I=step1.argmin()\n",
      "           if step2==nan or step2>1:\n",
      "                continue\n",
      "           Vmap[:,I,i,j]=V2[:,k,i,j]"
     ],
     "language": "python",
     "metadata": {},
     "outputs": []
    },
    {
     "cell_type": "code",
     "collapsed": false,
     "input": [
      "vtave=np.mean(Vmap,axis=0)"
     ],
     "language": "python",
     "metadata": {},
     "outputs": []
    },
    {
     "cell_type": "code",
     "collapsed": false,
     "input": [
      "vtavezone=np.mean(vtave,axis=2)"
     ],
     "language": "python",
     "metadata": {},
     "outputs": []
    },
    {
     "cell_type": "code",
     "collapsed": false,
     "input": [
      "step1 = (np.abs(Dens2-D3[0]))\n",
      "b=nonzero(step1<0.2678)\n",
      "shape(step1)"
     ],
     "language": "python",
     "metadata": {},
     "outputs": []
    },
    {
     "cell_type": "code",
     "collapsed": false,
     "input": [
      "zrho=np.zeros(shape(Dens2))"
     ],
     "language": "python",
     "metadata": {},
     "outputs": []
    },
    {
     "cell_type": "code",
     "collapsed": false,
     "input": [
      "for j in range(len(Y)):\n",
      "    for i in range(len(X)):\n",
      "        for k in range(0,60):\n",
      "            step1 = (np.abs(Dens2[:,j,i]-D3[k]))\n",
      "            if np.isnan(np.nanmin(step1))==True or np.nanmin(step1)>0.2677:\n",
      "               b=nan\n",
      "            else:\n",
      "                b=nonzero(step1<0.2678)[0][0]\n",
      "            zrho[k,j,i]=b"
     ],
     "language": "python",
     "metadata": {},
     "outputs": []
    },
    {
     "cell_type": "code",
     "collapsed": false,
     "input": [
      "for j in range(len(Y)):\n",
      "    for i in range(len(X)):\n",
      "        for k in range(0,60):\n",
      "            b=zrho[k,j,i]\n",
      "            if isnan(b)==True:\n",
      "                continue\n",
      "            Vmap[:,k,j,i]=V2[:,b,j,i]"
     ],
     "language": "python",
     "metadata": {},
     "outputs": []
    },
    {
     "cell_type": "code",
     "collapsed": false,
     "input": [
      "plt.contourf(Yp/1000,D3,Vmap[500,:,:,100],60,cmap=cm.seismic)\n",
      "plt.gca().invert_yaxis()\n",
      "#cbar = plt.colorbar()\n",
      "cbar = plt.colorbar(format='%0.2f')\n",
      "plt.title('Velocity Field')\n",
      "plt.xlabel('Distance (km)')\n",
      "plt.ylabel('Depth')\n",
      "cbar.ax.set_ylabel('Velocity')"
     ],
     "language": "python",
     "metadata": {},
     "outputs": []
    },
    {
     "cell_type": "code",
     "collapsed": false,
     "input": [
      "zrhone=np.mean(zrho,axis=2)\n",
      "dzrho=zrhone[1:60,:]-zrhone[0:59,:]"
     ],
     "language": "python",
     "metadata": {},
     "outputs": []
    },
    {
     "cell_type": "code",
     "collapsed": false,
     "input": [
      "Vzone=np.sum(Vmap*5000,axis = 3)"
     ],
     "language": "python",
     "metadata": {},
     "outputs": []
    },
    {
     "cell_type": "code",
     "collapsed": false,
     "input": [
      "#dz2=np.zeros((60))"
     ],
     "language": "python",
     "metadata": {},
     "outputs": []
    },
    {
     "cell_type": "code",
     "collapsed": false,
     "input": [
      "#i=1\n",
      "#for k in range(len(Z)):\n",
      "#    dz2[i-1]=dz[k]\n",
      "#    dz2[i]=np.mean(dz[k:k+1],axis=0)\n",
      "#    i=i+2"
     ],
     "language": "python",
     "metadata": {},
     "outputs": []
    },
    {
     "cell_type": "code",
     "collapsed": false,
     "input": [
      "psi=np.zeros((len(T),60,len(Yp)))"
     ],
     "language": "python",
     "metadata": {},
     "outputs": []
    },
    {
     "cell_type": "code",
     "collapsed": false,
     "input": [
      "#Vzonef=Vzone[:,::-1,:]"
     ],
     "language": "python",
     "metadata": {},
     "outputs": []
    },
    {
     "cell_type": "code",
     "collapsed": false,
     "input": [
      "for j in range(len(Y)):\n",
      "    for k in range(1,59):\n",
      "        if isnan(zrhone[k,j])==True:\n",
      "           continue\n",
      "        psi[:,k,j] = psi[:,k-1,j] + dzrho[k,j]*Vzone[:,k,j]"
     ],
     "language": "python",
     "metadata": {},
     "outputs": []
    },
    {
     "cell_type": "code",
     "collapsed": false,
     "input": [
      "Psi=np.mean(psi,axis=0)/10**6"
     ],
     "language": "python",
     "metadata": {},
     "outputs": []
    },
    {
     "cell_type": "code",
     "collapsed": false,
     "input": [
      "plt.contourf(Yp/1000,D3,Psi,50,cmap=plt.cm.seismic)\n",
      "cbar = plt.colorbar()\n",
      "plt.title('MOC')\n",
      "plt.gca().invert_yaxis()\n",
      "plt.xlabel('Distance (km)')\n",
      "plt.ylabel('Density')\n",
      "cbar.ax.set_ylabel('Psi (sv)')"
     ],
     "language": "python",
     "metadata": {},
     "outputs": []
    },
    {
     "cell_type": "code",
     "collapsed": false,
     "input": [
      "psi = np.zeros((60,len(Yp)))"
     ],
     "language": "python",
     "metadata": {},
     "outputs": []
    },
    {
     "cell_type": "code",
     "collapsed": false,
     "input": [
      "Vzonebar=np.sum(vtave*5000,axis = 2)"
     ],
     "language": "python",
     "metadata": {},
     "outputs": []
    },
    {
     "cell_type": "code",
     "collapsed": false,
     "input": [
      "dzrhone=np.mean(dzrho,axis=1)\n",
      "Ved=np.zeros((len(T),60,len(Yp),len(X)))"
     ],
     "language": "python",
     "metadata": {},
     "outputs": []
    },
    {
     "cell_type": "code",
     "collapsed": false,
     "input": [
      "for j in range(len(Yp)):\n",
      "    for k in range(0,59):\n",
      "       psi[k,j] = psi[k-1,j] + dzrhone[k]*Vzonebar[k,j]"
     ],
     "language": "python",
     "metadata": {},
     "outputs": []
    },
    {
     "cell_type": "code",
     "collapsed": false,
     "input": [
      "for t in range(len(T)):\n",
      "      for k in range(len(Z)-1):\n",
      "             Ved[t,k,:,:]=Vmap[t,k,:,:]-vtave[k,:,:]"
     ],
     "language": "python",
     "metadata": {},
     "outputs": []
    },
    {
     "cell_type": "code",
     "collapsed": false,
     "input": [
      "y =Yp/1000\n",
      "Psi2=psi/10**6\n",
      "\n"
     ],
     "language": "python",
     "metadata": {},
     "outputs": []
    },
    {
     "cell_type": "code",
     "collapsed": false,
     "input": [
      "plt.contourf(y,D3,Psi2,150,cmap=cm.seismic)\n",
      "cbar = plt.colorbar()\n",
      "plt.title('MOC')\n"
     ],
     "language": "python",
     "metadata": {},
     "outputs": []
    },
    {
     "cell_type": "code",
     "collapsed": false,
     "input": [
      "Psiedav=np.mean(psied,axis==0)\n",
      "Psied=psied/10**6\n",
      "psiedav=Psiedav/10**6"
     ],
     "language": "python",
     "metadata": {},
     "outputs": []
    },
    {
     "cell_type": "code",
     "collapsed": false,
     "input": [
      "plt.contourf(y,Zp,psiedav,150,cmap=cm.seismic)\n",
      "cbar = plt.colorbar()\n",
      "plt.title('MOC')"
     ],
     "language": "python",
     "metadata": {},
     "outputs": []
    },
    {
     "cell_type": "code",
     "collapsed": false,
     "input": [
      "psires=np.zeros((len(T),len(Zp),len(Y)))\n"
     ],
     "language": "python",
     "metadata": {},
     "outputs": []
    },
    {
     "cell_type": "code",
     "collapsed": false,
     "input": [
      "for t in range(len(T)):\n",
      "    psires[t,:,:]=Psied[t,:,:]+Psi"
     ],
     "language": "python",
     "metadata": {},
     "outputs": []
    },
    {
     "cell_type": "code",
     "collapsed": false,
     "input": [
      "Psires=np.mean(psires,axis==0)"
     ],
     "language": "python",
     "metadata": {},
     "outputs": []
    },
    {
     "cell_type": "code",
     "collapsed": false,
     "input": [
      "plt.contourf(y,Zp,Psires,150,cmap=cm.seismic)\n",
      "cbar = plt.colorbar()\n",
      "plt.title('MOC')"
     ],
     "language": "python",
     "metadata": {},
     "outputs": []
    },
    {
     "cell_type": "code",
     "collapsed": false,
     "input": [
      "whos"
     ],
     "language": "python",
     "metadata": {},
     "outputs": []
    },
    {
     "cell_type": "code",
     "collapsed": false,
     "input": [],
     "language": "python",
     "metadata": {},
     "outputs": []
    }
   ],
   "metadata": {}
  }
 ]
}