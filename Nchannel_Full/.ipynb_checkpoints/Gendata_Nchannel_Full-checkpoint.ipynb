{
 "cells": [
  {
   "cell_type": "markdown",
   "metadata": {},
   "source": [
    "# Generate model inputs"
   ]
  },
  {
   "cell_type": "markdown",
   "metadata": {},
   "source": [
    "## This will set up the forcing for Abernathey Style Forcing"
   ]
  },
  {
   "cell_type": "code",
   "execution_count": 2,
   "metadata": {
    "collapsed": false
   },
   "outputs": [],
   "source": [
    "from scipy.io import netcdf\n",
    "import numpy as np\n",
    "import matplotlib.pyplot as plt\n",
    "import os\n",
    "import csv\n",
    "import sys\n",
    "%matplotlib inline\n",
    "import math\n",
    "from pylab import *\n",
    "from IPython.display import display, Math, Latex\n",
    "from numba import jit\n",
    "import netCDF4\n",
    "import glob\n",
    "#import plotly.plotly as py"
   ]
  },
  {
   "cell_type": "markdown",
   "metadata": {},
   "source": [
    "When writing in python it is very important to note reverse dimensions!!\n",
    "MITgcm assumes column major order (as does matlab) Python, uses row major order.\n",
    "Mosty it's fine just to write straight to binary, but to absolutely specific of the format for MITgcm the WriteFile fuction (taken from the MITgcm csv gendata.py):"
   ]
  },
  {
   "cell_type": "code",
   "execution_count": 3,
   "metadata": {
    "collapsed": false
   },
   "outputs": [],
   "source": [
    "# Use writeFile to write files in the correct format!\n",
    "sys.path.append('/noc/users/hb1g13/Python/python_functions/')\n",
    "from Writebin import *"
   ]
  },
  {
   "cell_type": "markdown",
   "metadata": {},
   "source": [
    "## Decide parameters:"
   ]
  },
  {
   "cell_type": "raw",
   "metadata": {},
   "source": [
    "Resolution \n",
    "Depth\n",
    "Domain\n",
    "Boundary Condition\n",
    "Topography\n",
    "Forcing"
   ]
  },
  {
   "cell_type": "code",
   "execution_count": 4,
   "metadata": {
    "collapsed": false
   },
   "outputs": [],
   "source": [
    "Topo=\"ridge\" #Please Choose ridge, slope or flat\n",
    "Wind=\"Standard\" # Sine bell 0.2N/m$^2$\n",
    "Heat=\"nonetQ\" # Please Choose Abernathey or nonetQ\n",
    "BC=\"Sponge\" # Please Choose Sponge or Diffusion\n",
    "Name=\"Full_40lvls\" # Give Experiment Name"
   ]
  },
  {
   "cell_type": "code",
   "execution_count": 5,
   "metadata": {
    "collapsed": false
   },
   "outputs": [],
   "source": [
    "# Adjust accordingly\n",
    "Res=5000\n",
    "Ly=2000e3\n",
    "Lx=4000e3 #Full domain = 4000km otherwise 1000km\n",
    "H=4000 # Diffusion = 3800m, Sponge = 2985m\n",
    "nz=40 # Diffusion = 24 level, Sponge= 30 levels"
   ]
  },
  {
   "cell_type": "code",
   "execution_count": 6,
   "metadata": {
    "collapsed": false
   },
   "outputs": [],
   "source": [
    "x=( os.path.expanduser('~')+\"/MITgcm/\"+Name+\"/input/\")\n",
    "if not os.path.exists(x):\n",
    "       os.makedirs(x) \n",
    "os.chdir(x)"
   ]
  },
  {
   "cell_type": "markdown",
   "metadata": {},
   "source": [
    "## Set up grid:"
   ]
  },
  {
   "cell_type": "code",
   "execution_count": 7,
   "metadata": {
    "collapsed": false
   },
   "outputs": [
    {
     "name": "stderr",
     "output_type": "stream",
     "text": [
      "/noc/users/hb1g13/anaconda/lib/python2.7/site-packages/numpy/core/numeric.py:190: VisibleDeprecationWarning: using a non-integer number instead of an integer will result in an error in the future\n",
      "  a = empty(shape, dtype, order)\n"
     ]
    }
   ],
   "source": [
    "#Dimensions\n",
    "nx=np.round(Lx/Res)\n",
    "ny=np.round(Ly/Res)\n",
    "dx=np.ones(nx)*Res\n",
    "dy=np.ones(ny)*Res\n",
    "#Write binary output\n",
    "writeFile('delY',dy)\n",
    "writeFile('delX',dx)\n",
    "# Create c-grid with grid points in dead center\n",
    "x=(np.cumsum(dx)-dx/2)-Lx/2\n",
    "y=(np.cumsum(dy)-dy/2)-Ly/2\n",
    "[Y, X]=np.meshgrid(y,x) "
   ]
  },
  {
   "cell_type": "markdown",
   "metadata": {},
   "source": [
    "## Now Create topography:"
   ]
  },
  {
   "cell_type": "markdown",
   "metadata": {},
   "source": [
    "Start with flat, then add slope and ridges"
   ]
  },
  {
   "cell_type": "code",
   "execution_count": 8,
   "metadata": {
    "collapsed": false
   },
   "outputs": [
    {
     "name": "stderr",
     "output_type": "stream",
     "text": [
      "/noc/users/hb1g13/anaconda/lib/python2.7/site-packages/IPython/kernel/__main__.py:14: VisibleDeprecationWarning: using a non-integer number instead of an integer will result in an error in the future\n",
      "/noc/users/hb1g13/anaconda/lib/python2.7/site-packages/IPython/kernel/__main__.py:15: VisibleDeprecationWarning: using a non-integer number instead of an integer will result in an error in the future\n",
      "/noc/users/hb1g13/anaconda/lib/python2.7/site-packages/IPython/kernel/__main__.py:16: VisibleDeprecationWarning: using a non-integer number instead of an integer will result in an error in the future\n"
     ]
    }
   ],
   "source": [
    "h= -H*np.ones((nx,ny)) # Flat bottom\n",
    "# Cut off ridges in sponge\n",
    "Ly2=1900e3\n",
    "if Topo==\"ridge\":#2500 and 2000 for full depth\n",
    "    h[:,0:-20] = h[:,0:-20]+(2200 + 300*np.sin(10*pi*Y[:,0:-20]/Ly2)\n",
    "          + 400*np.sin(8*pi*Y[:,0:-20]/Ly2)\n",
    "          + 300*sin(25*pi*Y[:,0:-20]/Ly) )*(1/np.cosh(((X[:,0:-20])-0.2*Y[:,0:-20]+3e5)/1.2e5))\n",
    "    h[:,0:-20] = h[:,0:-20]+((1700 + 600*np.sin(11*pi*Y[:,0:-20]/Ly2)\n",
    "           + 300*np.sin(7*pi*Y[:,0:-20]/Ly2)\n",
    "           + 500*sin(21*pi*Y[:,0:-20]/Ly2) )\n",
    "                             *(1/np.cosh(((X[:,0:-20])+0.1*Y[:,0:-20]+1.5e6)/1.2e5)))\n",
    "if Topo==\"slope\" or Topo==\"ridge\":\n",
    "    for i in range(int(nx)):\n",
    "        slope= np.transpose(H*(np.divide((Y[i,0:round(0.2*ny)]-Y[i,0]),(Y[i,0]-Y[i,round(0.2*ny)]))))\n",
    "        h2 = h[:,0:round(0.2*ny)]\n",
    "        h[:,0:round(0.2*ny)]=np.maximum(slope,h2)\n",
    "# Close both ends\n",
    "h[:,0]=0\n",
    "h[:,-1]=0\n",
    "# Write to binary\n",
    "writeFile('topog',np.transpose(h))"
   ]
  },
  {
   "cell_type": "code",
   "execution_count": 108,
   "metadata": {
    "collapsed": false
   },
   "outputs": [
    {
     "data": {
      "image/png": "[encoded data removed]",
      "text/plain": [
       "<matplotlib.figure.Figure at 0x2b31a83957d0>"
      ]
     },
     "metadata": {},
     "output_type": "display_data"
    }
   ],
   "source": [
    "plt.figure(figsize=(14.5, 7.5))\n",
    "if Topo==\"flat\" or Topo==\"slope\":\n",
    "    plt.plot(y/1000,h[nx/2,:])\n",
    "    plt.title('Topography')\n",
    "    plt.ylabel('Depth (m)')\n",
    "    plt.xlabel('Y (km)')\n",
    "if Topo=='ridge':\n",
    "    #plt.contourf(x/1000,y/1000,np.transpose(h),30)\n",
    "    plt.contourf(x/1000,y/1000,np.transpose(h),30,extend='both')\n",
    "    cb=plt.colorbar()\n",
    "    ylim(-1000,1000)\n",
    "    plt.title('Topography \\n  ', fontsize=30)\n",
    "    plt.ylabel('Y (km)', fontsize=20)\n",
    "    plt.xlabel('X (km)', fontsize=20)\n",
    "    cb.set_label('Depth (m)',fontsize=20)\n",
    "    plt.tick_params(axis='both', which='major', labelsize=20)\n",
    "# netcdf check\n",
    "f=netcdf.netcdf_file('topog.nc','w')\n",
    "f.createDimension('X',nx)\n",
    "f.createDimension('Y',ny)\n",
    "h2=f.createVariable('h','float',('X','Y'))\n",
    "h2[:]=h\n",
    "f.close()\n"
   ]
  },
  {
   "cell_type": "markdown",
   "metadata": {},
   "source": [
    "## Surface Heat Forcing"
   ]
  },
  {
   "cell_type": "markdown",
   "metadata": {},
   "source": [
    "Now for the surface heat forcing:\n",
    "Must have bouyancy gain in the south and bouyancy loss over maximum wind sress to allow overturning\n",
    "\n",
    "\n",
    "$Q=-Q_{0}\\,cos(\\frac{3\\pi y}{Ly})\\quad \\quad \\quad \\quad y \\le \\frac{5Ly}{6}$\n",
    "\n",
    "For closing the Northern Boundary Heat Budgets will only close if there is no net surface cooling:\n",
    "\\begin{equation}\n",
    "Q(y)=\n",
    "\\begin{cases}\n",
    "-Q_{0}\\,cos(\\frac{4.5 \\pi y}{Ly}) & \\text{for }\\, y \\le \\frac{4Ly}{36} \\text{ and } \\frac{22Ly}{36} \\geq y \\geq \\frac{30Ly}{36},\\\\\n",
    "-Q_{0}\\,cos(\\frac{2 \\pi y}{Ly}+\\frac{5}{18}) & \\text{for }\\, \\frac{4Ly}{36} \\geq y \\geq \\frac{22Ly}{36},\\\\\n",
    "0 & \\text{for }\\, y \\geq \\frac{5Ly}{6},\n",
    "\\end{cases}\n",
    "\\end{equation}"
   ]
  },
  {
   "cell_type": "code",
   "execution_count": 10,
   "metadata": {
    "collapsed": false
   },
   "outputs": [
    {
     "name": "stderr",
     "output_type": "stream",
     "text": [
      "/noc/users/hb1g13/anaconda/lib/python2.7/site-packages/IPython/kernel/__main__.py:4: VisibleDeprecationWarning: using a non-integer number instead of an integer will result in an error in the future\n",
      "/noc/users/hb1g13/anaconda/lib/python2.7/site-packages/IPython/kernel/__main__.py:15: VisibleDeprecationWarning: using a non-integer number instead of an integer will result in an error in the future\n"
     ]
    }
   ],
   "source": [
    "#MITgcm opposite way round\n",
    "Q_0 = 10\n",
    "Q = Q_0*(np.sin(Y*(3*pi/Ly)))\n",
    "Q[:,ny-(np.round(ny/6)):ny]=0\n",
    "x1 = (np.cumsum(dx)-dx/2)\n",
    "y1 = (np.cumsum(dy)-dy/2)\n",
    "[Y1, X1] = np.meshgrid(y1, x1) \n",
    "if Heat==\"nonetQ\":\n",
    "    Q[:,0:int(5*ny/36)]=Q_0*(np.cos(Y1[:,0:int(5*ny/36)]*(pi/(Y1[1,int(10*ny/36)]))))\n",
    "    Q[:,int(5*ny/36):int(20*ny/36)]= -Q_0*(np.sin((Y1[:,int(5*ny/36):int(20*ny/36)]\n",
    "                                                 -Y1[1,int(5*ny/36)])*(pi/(Y1[1,int(15*ny/36)]))))\n",
    "    Q[:,int(20*ny/36):int(30*ny/36)]= Q_0*(np.sin(Y1[:,0:int(10*ny/36)]*(pi/(Y1[1,int(10*ny/36)]))))\n",
    "    Q[:,0:int(30*ny/36)] = Q[:,0:int(30*ny/36)]+(-sum(Q)/(5*ny*nx/6)) \n",
    "# Force net Q to zero: \n",
    "Q[:,0:ny-(np.round(ny/6))]=Q[:,0:(ny-np.round(ny/6))]-mean(Q[:,0:ny-np.round(ny/6)]) \n",
    "# Write to binary\n",
    "writeFile('Qsurface',np.transpose(Q))\n",
    "# netcdf check\n",
    "f=netcdf.netcdf_file('Qsurface.nc','w')\n",
    "f.createDimension('X',nx)\n",
    "f.createDimension('Y',ny)\n",
    "Q2=f.createVariable('Q','float',('X','Y'))\n",
    "Q2[:]=Q\n",
    "f.close()"
   ]
  },
  {
   "cell_type": "code",
   "execution_count": 11,
   "metadata": {
    "collapsed": false
   },
   "outputs": [
    {
     "data": {
      "text/plain": [
       "-7.0173200583667494e-11"
      ]
     },
     "execution_count": 11,
     "metadata": {},
     "output_type": "execute_result"
    }
   ],
   "source": [
    "'''The 0.8, 10.5 and 11 above are used to force the heat flux to as \n",
    "   close as possible and then the last line forces the net flux to 0\n",
    "   It is best to check this!!!!'''\n",
    "sum(Q)"
   ]
  },
  {
   "cell_type": "code",
   "execution_count": 12,
   "metadata": {
    "collapsed": false
   },
   "outputs": [
    {
     "data": {
      "text/plain": [
       "<matplotlib.text.Text at 0x2b317403a110>"
      ]
     },
     "execution_count": 12,
     "metadata": {},
     "output_type": "execute_result"
    },
    {
     "data": {
      "image/png": "[encoded data removed]",
      "text/plain": [
       "<matplotlib.figure.Figure at 0x2b317403a1d0>"
      ]
     },
     "metadata": {},
     "output_type": "display_data"
    }
   ],
   "source": [
    "fig1 = plt.figure()\n",
    "plt.plot(y/1000,Q[100,:])\n",
    "plt.title('Surface Heat Flux $W/m^2$')\n",
    "plt.ylabel('Heat Flux ($W/m^2$)')\n",
    "plt.xlabel('Meridional Distance (m)')"
   ]
  },
  {
   "cell_type": "markdown",
   "metadata": {},
   "source": [
    "## Windstress"
   ]
  },
  {
   "cell_type": "markdown",
   "metadata": {},
   "source": [
    "Plus the Windress with $\\tau_o$ set to $0.2Nm^-2$\n",
    "\n",
    "$\\tau_s(y)=\\tau_0 sin(\\frac{\\pi y}{Ly})$"
   ]
  },
  {
   "cell_type": "code",
   "execution_count": 13,
   "metadata": {
    "collapsed": false
   },
   "outputs": [
    {
     "name": "stderr",
     "output_type": "stream",
     "text": [
      "/noc/users/hb1g13/anaconda/lib/python2.7/site-packages/IPython/kernel/__main__.py:11: VisibleDeprecationWarning: using a non-integer number instead of an integer will result in an error in the future\n"
     ]
    }
   ],
   "source": [
    "tau=0.2*((np.sin((Y+Ly/2)*(pi/Ly)))) #Y is centred at 0 so put that back!\n",
    "if BC=='Diffusion':\n",
    "    Taunew = tau + 2e-3 * (np.random.random((nx,ny)) - 0.5)\n",
    "    tau=Taunew\n",
    "# Write to binary\n",
    "writeFile('Wind',np.transpose(tau))\n",
    "# netcdf check\n",
    "f=netcdf.netcdf_file('Wind.nc','w')\n",
    "f.createDimension('Xp1',nx+1)\n",
    "f.createDimension('Y',ny)\n",
    "tau3=np.zeros((ny,nx+1))\n",
    "tau3[:,1:]=np.transpose(tau)\n",
    "tau2=f.createVariable('tau','double',('Xp1','Y'))\n",
    "tau2[:]=np.transpose(tau3)\n",
    "f.close()"
   ]
  },
  {
   "cell_type": "code",
   "execution_count": 14,
   "metadata": {
    "collapsed": false
   },
   "outputs": [
    {
     "data": {
      "text/plain": [
       "<matplotlib.text.Text at 0x2b317402bc10>"
      ]
     },
     "execution_count": 14,
     "metadata": {},
     "output_type": "execute_result"
    },
    {
     "data": {
      "image/png": "[encoded data removed]",
      "text/plain": [
       "<matplotlib.figure.Figure at 0x2b317402b610>"
      ]
     },
     "metadata": {},
     "output_type": "display_data"
    }
   ],
   "source": [
    "plt.plot(y/1000,tau[100,:])\n",
    "plt.title('Surface Wind Stress $N/m^2$')\n",
    "plt.ylabel('$\\tau$ ($N/m^2$)')\n",
    "plt.xlabel('Meridional Distance (m)')"
   ]
  },
  {
   "cell_type": "markdown",
   "metadata": {},
   "source": [
    "## Generate Sponge"
   ]
  },
  {
   "cell_type": "raw",
   "metadata": {},
   "source": [
    "Now creat a Sponge mask and a reference profile to relax to:"
   ]
  },
  {
   "cell_type": "code",
   "execution_count": 68,
   "metadata": {
    "collapsed": false,
    "scrolled": true
   },
   "outputs": [],
   "source": [
    "# Parameters\n",
    "N=1e3 # Natural stratification\n",
    "deltaT=8\n",
    "Tref=np.zeros(nz)\n",
    "# Create depth array:\n",
    "# Tanh - bottom boundary layer exp\n",
    "zp1 = np.linspace(1,-1,nz+1)\n",
    "zp1 = (((H)+(H)*(tanh(-0.9*pi*zp1)))/2)\n",
    "zp1 = zp1 - zp1[0]+(zp1[1]-zp1[0])\n",
    "zp1 = np.round(zp1,2)\n",
    "dz1 = (zp1[0:-1] - zp1[1::])\n",
    "dz1[-7::] = dz1[-7]\n",
    "zp1[1::] = np.cumsum(dz1)\n",
    "zp1[-1] = H\n",
    "zp1[0] = 0.5*zp1[0]\n",
    "zp1 = abs(zp1)\n",
    "writeFile('delZ_tanh',-dz1)\n",
    "# Tanh - normal\n",
    "zp = np.linspace(1,0,41)\n",
    "zp = H+H*(tanh(-0.9*pi*zp))\n",
    "zp = zp - zp[0]-(zp[1]-zp[0])\n",
    "zp = np.round(zp,2)\n",
    "dz = zp[0:-1] - zp[1::]\n",
    "dz[-7::] = dz[-4]\n",
    "zp[-1] = H\n",
    "zp[1::] = np.cumsum(dz)\n",
    "zp[0] = 0.5*zp[0]\n",
    "writeFile('delZ',-dz)\n",
    "# Z center points\n",
    "z = zeros((nz))\n",
    "z[1::] = (zp1[1:-1]+zp1[2::])/2\n",
    "z[0]= zp1[0]/2"
   ]
  },
  {
   "cell_type": "markdown",
   "metadata": {},
   "source": [
    "\\begin{equation*} T^*(z)=\\Delta T\\frac{(e^{z/h}-e^{-H/h})}{1-e^{-H/h}} \\end{equation*}"
   ]
  },
  {
   "cell_type": "code",
   "execution_count": 69,
   "metadata": {
    "collapsed": false
   },
   "outputs": [
    {
     "data": {
      "text/plain": [
       "[<matplotlib.lines.Line2D at 0x2b31ae8a2190>]"
      ]
     },
     "execution_count": 69,
     "metadata": {},
     "output_type": "execute_result"
    },
    {
     "data": {
      "image/png": "[encoded data removed]",
      "text/plain": [
       "<matplotlib.figure.Figure at 0x2b31ae7e9f10>"
      ]
     },
     "metadata": {},
     "output_type": "display_data"
    }
   ],
   "source": [
    "plot(-zp)"
   ]
  },
  {
   "cell_type": "code",
   "execution_count": 71,
   "metadata": {
    "collapsed": false
   },
   "outputs": [
    {
     "data": {
      "text/plain": [
       "array([   4.22,    4.86,    5.58,    6.43,    7.38,    8.5 ,    9.75,\n",
       "         11.22,   12.87,   14.78,   16.95,   19.44,   22.27,   25.5 ,\n",
       "         29.16,   33.32,   38.03,   43.35,   49.33,   56.03,   63.53,\n",
       "         71.87,   81.08,   91.24,  102.31,  114.32,  127.24,  140.96,\n",
       "        155.39,  170.37,  185.66,  201.01,  216.07,  266.03,  266.03,\n",
       "        266.03,  266.03,  266.03,  266.03,  266.03])"
      ]
     },
     "execution_count": 71,
     "metadata": {},
     "output_type": "execute_result"
    }
   ],
   "source": [
    "abs(dz)"
   ]
  },
  {
   "cell_type": "code",
   "execution_count": 1,
   "metadata": {
    "collapsed": false
   },
   "outputs": [
    {
     "ename": "NameError",
     "evalue": "name 'deltaT' is not defined",
     "output_type": "error",
     "traceback": [
      "\u001b[1;31m---------------------------------------------------------------------------\u001b[0m",
      "\u001b[1;31mNameError\u001b[0m                                 Traceback (most recent call last)",
      "\u001b[1;32m<ipython-input-1-fa2bbdf31705>\u001b[0m in \u001b[0;36m<module>\u001b[1;34m()\u001b[0m\n\u001b[1;32m----> 1\u001b[1;33m \u001b[0mTref\u001b[0m \u001b[1;33m=\u001b[0m \u001b[0mdeltaT\u001b[0m\u001b[1;33m*\u001b[0m\u001b[1;33m(\u001b[0m\u001b[0mexp\u001b[0m\u001b[1;33m(\u001b[0m\u001b[1;33m-\u001b[0m\u001b[0mz\u001b[0m\u001b[1;33m/\u001b[0m\u001b[0mN\u001b[0m\u001b[1;33m)\u001b[0m\u001b[1;33m-\u001b[0m\u001b[0mexp\u001b[0m\u001b[1;33m(\u001b[0m\u001b[1;33m-\u001b[0m\u001b[0mH\u001b[0m\u001b[1;33m/\u001b[0m\u001b[0mN\u001b[0m\u001b[1;33m)\u001b[0m\u001b[1;33m)\u001b[0m\u001b[1;33m/\u001b[0m\u001b[1;33m(\u001b[0m\u001b[1;36m1\u001b[0m\u001b[1;33m-\u001b[0m\u001b[0mexp\u001b[0m\u001b[1;33m(\u001b[0m\u001b[1;33m-\u001b[0m\u001b[0mH\u001b[0m\u001b[1;33m/\u001b[0m\u001b[0mN\u001b[0m\u001b[1;33m)\u001b[0m\u001b[1;33m)\u001b[0m\u001b[1;33m\u001b[0m\u001b[0m\n\u001b[0m",
      "\u001b[1;31mNameError\u001b[0m: name 'deltaT' is not defined"
     ]
    }
   ],
   "source": [
    "Tref = deltaT*(exp(-z/N)-exp(-H/N))/(1-exp(-H/N))"
   ]
  },
  {
   "cell_type": "code",
   "execution_count": 73,
   "metadata": {
    "collapsed": false,
    "scrolled": true
   },
   "outputs": [
    {
     "data": {
      "text/plain": [
       "<matplotlib.text.Text at 0x2b31ae8e9610>"
      ]
     },
     "execution_count": 73,
     "metadata": {},
     "output_type": "execute_result"
    },
    {
     "data": {
      "image/png": "[encoded data removed]",
      "text/plain": [
       "<matplotlib.figure.Figure at 0x2b31ae8e9690>"
      ]
     },
     "metadata": {},
     "output_type": "display_data"
    }
   ],
   "source": [
    "plt.plot(Tref,z)\n",
    "plt.gca().invert_yaxis()\n",
    "plt.title('Temperature Profile')\n",
    "plt.ylabel('Depth (m)')\n",
    "plt.xlabel('Temperature $^oC$')"
   ]
  },
  {
   "cell_type": "code",
   "execution_count": 74,
   "metadata": {
    "collapsed": false
   },
   "outputs": [],
   "source": [
    "#Make a 3D array of it\n",
    "T=np.ones((nz,ny,nx))\n",
    "Temp_field=np.zeros(np.shape(T))\n",
    "for i in range(int(nx)):\n",
    "    for j in range(int(ny)):\n",
    "        Temp_field[:,j,i]=np.multiply(Tref,T[:,j,i])"
   ]
  },
  {
   "cell_type": "code",
   "execution_count": 75,
   "metadata": {
    "collapsed": false
   },
   "outputs": [],
   "source": [
    "Tnew = transpose(tile(Temp_field.mean(axis=2),(nx,1,1)),[1,2,0])\n",
    "Tnew[:,-1] = Tnew[:,-2]\n",
    "#Maybe add more \n",
    "#if BC=='Diffusion':\n",
    "#    Tnew = Tnew + 2e-3 * (np.random.random((nz,ny,nx)) - 0.5)\n",
    "#else:\n",
    "#    Tnew = Tnew + 1e-3 * (np.random.random((nz,ny,nx)) - 0.5)"
   ]
  },
  {
   "cell_type": "code",
   "execution_count": 76,
   "metadata": {
    "collapsed": false
   },
   "outputs": [],
   "source": [
    "# Write to binary\n",
    "writeFile('T_Sponge',Temp_field)\n",
    "writeFile('T.init',Tnew)\n",
    "# netcdf check\n",
    "f=netcdf.netcdf_file('TSponge.nc','w')\n",
    "f.createDimension('X',nx)\n",
    "f.createDimension('Y',ny)\n",
    "f.createDimension('Z',nz)\n",
    "Temp=f.createVariable('Temp','double',('Z','Y','X'))\n",
    "Temp[:]=Temp_field\n",
    "f.close()"
   ]
  },
  {
   "cell_type": "code",
   "execution_count": 77,
   "metadata": {
    "collapsed": false
   },
   "outputs": [
    {
     "name": "stderr",
     "output_type": "stream",
     "text": [
      "/noc/users/hb1g13/anaconda/lib/python2.7/site-packages/IPython/kernel/__main__.py:7: VisibleDeprecationWarning: using a non-integer number instead of an integer will result in an error in the future\n"
     ]
    }
   ],
   "source": [
    "#Make 3D mask\n",
    "#Must vary between 0 (no Relaxation) and 1 (full relaxtion)\n",
    "#I have gone for a parabolic decay in x and linear decay in z (from playing around)\n",
    "msk=np.zeros(np.shape(T))\n",
    "for k in range(0,len(z)):\n",
    "    for i in range(len(x)):  \n",
    "        msk[k,ny-20:ny,i]=((np.divide((Y[i,ny-21:ny-1]-Y[i,ny-21]),(Y[i,ny-1]-Y[i,ny-21]))))\\\n",
    "        #*(z[k]/H)    \n",
    "# Write to binary\n",
    "writeFile('T.msk',msk)\n",
    "# netcdf check\n",
    "f=netcdf.netcdf_file('Mask.nc','w')\n",
    "f.createDimension('X',nx)\n",
    "f.createDimension('Y',ny)\n",
    "f.createDimension('Z',nz)\n",
    "Mask=f.createVariable('Mask','double',('Z','Y','X'))\n",
    "Mask[:]=(msk)\n",
    "f.close()"
   ]
  },
  {
   "cell_type": "code",
   "execution_count": 78,
   "metadata": {
    "collapsed": false
   },
   "outputs": [
    {
     "data": {
      "text/plain": [
       "<matplotlib.text.Text at 0x2b31ae9d8ad0>"
      ]
     },
     "execution_count": 78,
     "metadata": {},
     "output_type": "execute_result"
    },
    {
     "data": {
      "image/png": "[encoded data removed]",
      "text/plain": [
       "<matplotlib.figure.Figure at 0x2b31ae9d8b90>"
      ]
     },
     "metadata": {},
     "output_type": "display_data"
    }
   ],
   "source": [
    "plt.contourf(y/1000,z,msk[:,:,100],24,cm=cm.Spectral)\n",
    "cbar = plt.colorbar()\n",
    "plt.gca().invert_yaxis()\n",
    "plt.title('Mask Matrix')\n",
    "plt.ylabel('Depth (m)')\n",
    "plt.xlabel('Meridional Distance (km)')"
   ]
  },
  {
   "cell_type": "code",
   "execution_count": null,
   "metadata": {
    "collapsed": true
   },
   "outputs": [],
   "source": []
  }
 ],
 "metadata": {
  "kernelspec": {
   "display_name": "Python 2",
   "language": "python",
   "name": "python2"
  },
  "language_info": {
   "codemirror_mode": {
    "name": "ipython",
    "version": 2
   },
   "file_extension": ".py",
   "mimetype": "text/x-python",
   "name": "python",
   "nbconvert_exporter": "python",
   "pygments_lexer": "ipython2",
   "version": "2.7.12"
  }
 },
 "nbformat": 4,
 "nbformat_minor": 0
}
